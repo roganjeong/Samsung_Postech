{
 "cells": [
  {
   "cell_type": "code",
   "execution_count": 2,
   "id": "0bcf8462-4dfb-43d0-8a99-e4485a4ec8b2",
   "metadata": {},
   "outputs": [],
   "source": [
    "# from google.colab import files\n",
    "# from google.colab import drive\n",
    "import os\n",
    "import io\n",
    "import pandas as pd\n",
    "import missingno as msno\n",
    "import seaborn as sns\n",
    "import matplotlib.pyplot as plt\n",
    "import scipy.stats as stats\n",
    "from scipy.stats import chisquare\n",
    "import numpy as np\n",
    "\n",
    "from datetime import datetime\n",
    "# drive.mount('/content/drive') #/MyDrive/Colab Notebooks/데이터/기상데이터"
   ]
  },
  {
   "cell_type": "code",
   "execution_count": 7,
   "id": "6055004d-9862-48cb-b10d-1ee357705f31",
   "metadata": {},
   "outputs": [],
   "source": [
    "rn = pd.read_csv('../data/rn.csv', index_col = 0)\n",
    "lon_lat = pd.read_csv('../data//mapping_0713.csv', index_col = 0)\n",
    "\n",
    "rn = rn.rename(columns = {'a.tma' : 'tma', 'a.stn_id' : 'stn_id', 'a.sum_rn' : 'sum_rn', 'a.hr1_max_rn' : 'hr1_max_rn'})\n",
    "\n",
    "# rn = pd.merge(rn, lon_lat, on = ['stn_id'])\n",
    "\n",
    "rn['date'] = rn['tma'].map(lambda date_rn: date_rn[:10])\n",
    "rn['time'] = rn['tma'].map(lambda time_rn: time_rn[11:-2])\n",
    "rn['date'] = pd.to_datetime(rn['date'], format='%Y-%m-%d')\n",
    "rn['time'] = pd.to_datetime(rn['time'], format='%H:%M:%S')\n",
    "\n",
    "rn_ds = rn.groupby(['date', 'stn_id'], as_index=False).median()\n",
    "\n",
    "rn_ds = pd.merge(rn_ds, lon_lat, on = ['stn_id'])\n",
    "\n",
    "del rn_ds['name']\n",
    "del rn_ds['address']\n",
    "del rn_ds['hr1_max_rn']\n",
    "\n",
    "\n",
    "rn = rn_ds"
   ]
  },
  {
   "cell_type": "code",
   "execution_count": 8,
   "id": "e92c75c1-d583-4f8a-a6c2-c77be6604312",
   "metadata": {},
   "outputs": [
    {
     "data": {
      "text/html": [
       "<div>\n",
       "<style scoped>\n",
       "    .dataframe tbody tr th:only-of-type {\n",
       "        vertical-align: middle;\n",
       "    }\n",
       "\n",
       "    .dataframe tbody tr th {\n",
       "        vertical-align: top;\n",
       "    }\n",
       "\n",
       "    .dataframe thead th {\n",
       "        text-align: right;\n",
       "    }\n",
       "</style>\n",
       "<table border=\"1\" class=\"dataframe\">\n",
       "  <thead>\n",
       "    <tr style=\"text-align: right;\">\n",
       "      <th></th>\n",
       "      <th>date</th>\n",
       "      <th>stn_id</th>\n",
       "      <th>sum_rn</th>\n",
       "      <th>lat</th>\n",
       "      <th>long</th>\n",
       "      <th>add</th>\n",
       "    </tr>\n",
       "  </thead>\n",
       "  <tbody>\n",
       "    <tr>\n",
       "      <th>0</th>\n",
       "      <td>2012-01-01</td>\n",
       "      <td>12</td>\n",
       "      <td>1.5</td>\n",
       "      <td>36.53330</td>\n",
       "      <td>126.31670</td>\n",
       "      <td>충남</td>\n",
       "    </tr>\n",
       "    <tr>\n",
       "      <th>1</th>\n",
       "      <td>2012-01-02</td>\n",
       "      <td>12</td>\n",
       "      <td>0.0</td>\n",
       "      <td>36.53330</td>\n",
       "      <td>126.31670</td>\n",
       "      <td>충남</td>\n",
       "    </tr>\n",
       "    <tr>\n",
       "      <th>2</th>\n",
       "      <td>2012-01-03</td>\n",
       "      <td>12</td>\n",
       "      <td>2.0</td>\n",
       "      <td>36.53330</td>\n",
       "      <td>126.31670</td>\n",
       "      <td>충남</td>\n",
       "    </tr>\n",
       "    <tr>\n",
       "      <th>3</th>\n",
       "      <td>2012-01-04</td>\n",
       "      <td>12</td>\n",
       "      <td>1.5</td>\n",
       "      <td>36.53330</td>\n",
       "      <td>126.31670</td>\n",
       "      <td>충남</td>\n",
       "    </tr>\n",
       "    <tr>\n",
       "      <th>4</th>\n",
       "      <td>2012-01-05</td>\n",
       "      <td>12</td>\n",
       "      <td>0.0</td>\n",
       "      <td>36.53330</td>\n",
       "      <td>126.31670</td>\n",
       "      <td>충남</td>\n",
       "    </tr>\n",
       "    <tr>\n",
       "      <th>...</th>\n",
       "      <td>...</td>\n",
       "      <td>...</td>\n",
       "      <td>...</td>\n",
       "      <td>...</td>\n",
       "      <td>...</td>\n",
       "      <td>...</td>\n",
       "    </tr>\n",
       "    <tr>\n",
       "      <th>2632945</th>\n",
       "      <td>2022-11-04</td>\n",
       "      <td>239</td>\n",
       "      <td>0.0</td>\n",
       "      <td>36.48522</td>\n",
       "      <td>127.24438</td>\n",
       "      <td>충남</td>\n",
       "    </tr>\n",
       "    <tr>\n",
       "      <th>2632946</th>\n",
       "      <td>2022-11-05</td>\n",
       "      <td>239</td>\n",
       "      <td>0.0</td>\n",
       "      <td>36.48522</td>\n",
       "      <td>127.24438</td>\n",
       "      <td>충남</td>\n",
       "    </tr>\n",
       "    <tr>\n",
       "      <th>2632947</th>\n",
       "      <td>2022-11-06</td>\n",
       "      <td>239</td>\n",
       "      <td>0.0</td>\n",
       "      <td>36.48522</td>\n",
       "      <td>127.24438</td>\n",
       "      <td>충남</td>\n",
       "    </tr>\n",
       "    <tr>\n",
       "      <th>2632948</th>\n",
       "      <td>2022-11-07</td>\n",
       "      <td>239</td>\n",
       "      <td>0.0</td>\n",
       "      <td>36.48522</td>\n",
       "      <td>127.24438</td>\n",
       "      <td>충남</td>\n",
       "    </tr>\n",
       "    <tr>\n",
       "      <th>2632949</th>\n",
       "      <td>2022-11-08</td>\n",
       "      <td>239</td>\n",
       "      <td>0.0</td>\n",
       "      <td>36.48522</td>\n",
       "      <td>127.24438</td>\n",
       "      <td>충남</td>\n",
       "    </tr>\n",
       "  </tbody>\n",
       "</table>\n",
       "<p>2632950 rows × 6 columns</p>\n",
       "</div>"
      ],
      "text/plain": [
       "              date  stn_id  sum_rn       lat       long add\n",
       "0       2012-01-01      12     1.5  36.53330  126.31670  충남\n",
       "1       2012-01-02      12     0.0  36.53330  126.31670  충남\n",
       "2       2012-01-03      12     2.0  36.53330  126.31670  충남\n",
       "3       2012-01-04      12     1.5  36.53330  126.31670  충남\n",
       "4       2012-01-05      12     0.0  36.53330  126.31670  충남\n",
       "...            ...     ...     ...       ...        ...  ..\n",
       "2632945 2022-11-04     239     0.0  36.48522  127.24438  충남\n",
       "2632946 2022-11-05     239     0.0  36.48522  127.24438  충남\n",
       "2632947 2022-11-06     239     0.0  36.48522  127.24438  충남\n",
       "2632948 2022-11-07     239     0.0  36.48522  127.24438  충남\n",
       "2632949 2022-11-08     239     0.0  36.48522  127.24438  충남\n",
       "\n",
       "[2632950 rows x 6 columns]"
      ]
     },
     "execution_count": 8,
     "metadata": {},
     "output_type": "execute_result"
    }
   ],
   "source": [
    "rn"
   ]
  },
  {
   "cell_type": "markdown",
   "id": "b9dee5b2-53ac-41ab-a067-10aed9f97abd",
   "metadata": {
    "tags": []
   },
   "source": [
    "# -------------------------------------------  \n",
    "# Linear Interpolation"
   ]
  },
  {
   "cell_type": "code",
   "execution_count": 9,
   "id": "7dbedaa7-3712-4536-bb68-f4222e442d9d",
   "metadata": {},
   "outputs": [],
   "source": [
    "days = pd.DataFrame({'date' : pd.date_range(start=\"2012-02-01\",end=\"2022-10-31\")})"
   ]
  },
  {
   "cell_type": "code",
   "execution_count": 10,
   "id": "d90e0d8a-e8bd-41c9-bebf-7d6d4d46ea64",
   "metadata": {},
   "outputs": [],
   "source": [
    "rn['date'] = pd.to_datetime(rn['date'])\n",
    "rn['date'] = pd.to_datetime(rn['date'], format='%Y-%m-%d')\n"
   ]
  },
  {
   "cell_type": "code",
   "execution_count": 11,
   "id": "40804e09-5659-4ad6-81c9-8dbaf25604b4",
   "metadata": {},
   "outputs": [],
   "source": [
    "rn_Gangwon = rn[rn['add']=='강원']\n",
    "rn_Gyeonggi = rn[rn['add']=='경기']\n",
    "rn_Gyeongnam = rn[rn['add']=='경남']\n",
    "rn_Gyeongbuk = rn[rn['add']=='경북']\n",
    "rn_Gwangju = rn[rn['add']=='광주']\n",
    "rn_Daegu = rn[rn['add']=='대구']\n",
    "rn_Daejeon = rn[rn['add']=='대전']\n",
    "rn_Busan = rn[rn['add']=='부산']\n",
    "rn_Seoul = rn[rn['add']=='서울']\n",
    "rn_Sejong = rn[rn['add']=='세종']\n",
    "rn_Ulsan = rn[rn['add']=='울산']\n",
    "rn_Incheon = rn[rn['add']=='인천']\n",
    "rn_Jeonnam = rn[rn['add']=='전남']\n",
    "rn_Jeonbuk = rn[rn['add']=='전북']\n",
    "rn_Jeju = rn[rn['add']=='제주']\n",
    "rn_Chungnam = rn[rn['add']=='충남']\n",
    "rn_Chungbuk = rn[rn['add']=='충북']"
   ]
  },
  {
   "cell_type": "markdown",
   "id": "97eb6634-a320-4ea0-b593-60f810213838",
   "metadata": {},
   "source": [
    "## 강원"
   ]
  },
  {
   "cell_type": "code",
   "execution_count": 12,
   "id": "c06cc97a-e7d8-4f3e-94bb-d1df9eb47e92",
   "metadata": {},
   "outputs": [],
   "source": [
    "rn_Gangwon_outer = pd.merge(rn_Gangwon, days, on = ['date'], how = 'outer').sort_values(by = 'date')\n",
    "\n",
    "rn_Gangwon_outer['sum_rn'] = rn_Gangwon_outer['sum_rn'].interpolate(method = 'values')\n",
    "# rn_Gangwon_outer['hr1_max_rn'] = rn_Gangwon_outer['hr1_max_rn'].interpolate(method = 'values')\n",
    "\n",
    "rn_Gangwon_outer['add'] = '강원'\n",
    "del rn_Gangwon_outer['stn_id']\n",
    "del rn_Gangwon_outer['lat']\n",
    "del rn_Gangwon_outer['long']"
   ]
  },
  {
   "cell_type": "markdown",
   "id": "86e25fe4-c98f-45c6-80f2-2774bf560cd1",
   "metadata": {},
   "source": [
    "## 경기"
   ]
  },
  {
   "cell_type": "code",
   "execution_count": 13,
   "id": "f5629e40-06c0-460f-b6bd-dccab96a9985",
   "metadata": {},
   "outputs": [],
   "source": [
    "rn_Gyeonggi_outer = pd.merge(rn_Gyeonggi, days, on = ['date'], how = 'outer').sort_values(by = 'date')\n",
    "\n",
    "rn_Gyeonggi_outer['sum_rn'] = rn_Gyeonggi_outer['sum_rn'].interpolate(method = 'values')\n",
    "# rn_Gyeonggi_outer['hr1_max_rn'] = rn_Gyeonggi_outer['hr1_max_rn'].interpolate(method = 'values')\n",
    "\n",
    "rn_Gyeonggi_outer['add'] = '경기'\n",
    "del rn_Gyeonggi_outer['stn_id']\n",
    "del rn_Gyeonggi_outer['lat']\n",
    "del rn_Gyeonggi_outer['long']"
   ]
  },
  {
   "cell_type": "markdown",
   "id": "57a0a523-bede-4bfa-a053-ed0231f1c5e9",
   "metadata": {},
   "source": [
    "## 경남"
   ]
  },
  {
   "cell_type": "code",
   "execution_count": 14,
   "id": "7ed42497-baac-4299-a121-53d5b0434610",
   "metadata": {},
   "outputs": [],
   "source": [
    "rn_Gyeongnam_outer = pd.merge(rn_Gyeongnam, days, on = ['date'], how = 'outer').sort_values(by = 'date')\n",
    "\n",
    "rn_Gyeongnam_outer['sum_rn'] = rn_Gyeongnam_outer['sum_rn'].interpolate(method = 'values')\n",
    "# rn_Gyeongnam_outer['hr1_max_rn'] = rn_Gyeongnam_outer['hr1_max_rn'].interpolate(method = 'values')\n",
    "\n",
    "rn_Gyeongnam_outer['add'] = '경남'\n",
    "del rn_Gyeongnam_outer['stn_id']\n",
    "del rn_Gyeongnam_outer['lat']\n",
    "del rn_Gyeongnam_outer['long']"
   ]
  },
  {
   "cell_type": "markdown",
   "id": "825d64d0-4383-4628-827f-e336b7b9e8eb",
   "metadata": {},
   "source": [
    "## 경북"
   ]
  },
  {
   "cell_type": "code",
   "execution_count": 15,
   "id": "942d0347-5afa-4f17-b965-2374e4b4ff19",
   "metadata": {},
   "outputs": [],
   "source": [
    "rn_Gyeongbuk_outer = pd.merge(rn_Gyeongbuk, days, on = ['date'], how = 'outer').sort_values(by = 'date')\n",
    "\n",
    "rn_Gyeongbuk_outer['sum_rn'] = rn_Gyeongbuk_outer['sum_rn'].interpolate(method = 'values')\n",
    "# rn_Gyeongbuk_outer['hr1_max_rn'] = rn_Gyeongbuk_outer['hr1_max_rn'].interpolate(method = 'values')\n",
    "\n",
    "rn_Gyeongbuk_outer['add'] = '경북'\n",
    "del rn_Gyeongbuk_outer['stn_id']\n",
    "del rn_Gyeongbuk_outer['lat']\n",
    "del rn_Gyeongbuk_outer['long']"
   ]
  },
  {
   "cell_type": "markdown",
   "id": "02d267e2-4645-4049-ad0b-6d91c53f01f3",
   "metadata": {},
   "source": [
    "## 광주"
   ]
  },
  {
   "cell_type": "code",
   "execution_count": 16,
   "id": "8ae649ad-9921-4e6c-accc-baedb4c4b79b",
   "metadata": {},
   "outputs": [],
   "source": [
    "rn_Gwangju_outer = pd.merge(rn_Gwangju, days, on = ['date'], how = 'outer').sort_values(by = 'date')\n",
    "\n",
    "rn_Gwangju_outer['sum_rn'] = rn_Gwangju_outer['sum_rn'].interpolate(method = 'values')\n",
    "# rn_Gwangju_outer['hr1_max_rn'] = rn_Gwangju_outer['hr1_max_rn'].interpolate(method = 'values')\n",
    "\n",
    "rn_Gwangju_outer['add'] = '광주'\n",
    "del rn_Gwangju_outer['stn_id']\n",
    "del rn_Gwangju_outer['lat']\n",
    "del rn_Gwangju_outer['long']"
   ]
  },
  {
   "cell_type": "markdown",
   "id": "8c9e1e6e-698c-4cb8-a545-88822c01caa8",
   "metadata": {},
   "source": [
    "## 대구"
   ]
  },
  {
   "cell_type": "code",
   "execution_count": 17,
   "id": "5b356535-2f87-402b-8edf-a4ae9525f3ae",
   "metadata": {},
   "outputs": [],
   "source": [
    "rn_Daegu_outer = pd.merge(rn_Daegu, days, on = ['date'], how = 'outer').sort_values(by = 'date')\n",
    "\n",
    "rn_Daegu_outer['sum_rn'] = rn_Daegu_outer['sum_rn'].interpolate(method = 'values')\n",
    "# rn_Daegu_outer['hr1_max_rn'] = rn_Daegu_outer['hr1_max_rn'].interpolate(method = 'values')\n",
    "\n",
    "rn_Daegu_outer['add'] = '대구'\n",
    "del rn_Daegu_outer['stn_id']\n",
    "del rn_Daegu_outer['lat']\n",
    "del rn_Daegu_outer['long']"
   ]
  },
  {
   "cell_type": "markdown",
   "id": "a2e6101c-15b7-4aaa-b5da-425b0d846bff",
   "metadata": {},
   "source": [
    "## 대전"
   ]
  },
  {
   "cell_type": "code",
   "execution_count": 18,
   "id": "e092b3d6-b067-4eac-b027-0b656315176d",
   "metadata": {},
   "outputs": [],
   "source": [
    "rn_Daejeon_outer = pd.merge(rn_Daejeon, days, on = ['date'], how = 'outer').sort_values(by = 'date')\n",
    "\n",
    "rn_Daejeon_outer['sum_rn'] = rn_Daejeon_outer['sum_rn'].interpolate(method = 'values')\n",
    "# rn_Daejeon_outer['hr1_max_rn'] = rn_Daejeon_outer['hr1_max_rn'].interpolate(method = 'values')\n",
    "\n",
    "rn_Daejeon_outer['add'] = '대전'\n",
    "del rn_Daejeon_outer['stn_id']\n",
    "del rn_Daejeon_outer['lat']\n",
    "del rn_Daejeon_outer['long']"
   ]
  },
  {
   "cell_type": "markdown",
   "id": "c2ab09a1-56dc-4df4-b18b-a2c2219fe83f",
   "metadata": {},
   "source": [
    "## 부산"
   ]
  },
  {
   "cell_type": "code",
   "execution_count": 19,
   "id": "6d39c18d-484a-4700-9886-57321c0f30b4",
   "metadata": {},
   "outputs": [],
   "source": [
    "rn_Busan_outer = pd.merge(rn_Busan, days, on = ['date'], how = 'outer').sort_values(by = 'date')\n",
    "\n",
    "rn_Busan_outer['sum_rn'] = rn_Busan_outer['sum_rn'].interpolate(method = 'values')\n",
    "# rn_Busan_outer['hr1_max_rn'] = rn_Busan_outer['hr1_max_rn'].interpolate(method = 'values')\n",
    "\n",
    "rn_Busan_outer['add'] = '부산'\n",
    "del rn_Busan_outer['stn_id']\n",
    "del rn_Busan_outer['lat']\n",
    "del rn_Busan_outer['long']"
   ]
  },
  {
   "cell_type": "markdown",
   "id": "1cbec8a6-c2ea-4e3f-8482-cc81b4dca247",
   "metadata": {},
   "source": [
    "## 서울"
   ]
  },
  {
   "cell_type": "code",
   "execution_count": 20,
   "id": "9fe81052-087d-4d81-942d-a185faba9658",
   "metadata": {},
   "outputs": [],
   "source": [
    "rn_Seoul_outer = pd.merge(rn_Seoul, days, on = ['date'], how = 'outer').sort_values(by = 'date')\n",
    "\n",
    "rn_Seoul_outer['sum_rn'] = rn_Seoul_outer['sum_rn'].interpolate(method = 'values')\n",
    "# rn_Seoul_outer['hr1_max_rn'] = rn_Seoul_outer['hr1_max_rn'].interpolate(method = 'values')\n",
    "\n",
    "rn_Seoul_outer['add'] = '서울'\n",
    "del rn_Seoul_outer['stn_id']\n",
    "del rn_Seoul_outer['lat']\n",
    "del rn_Seoul_outer['long']"
   ]
  },
  {
   "cell_type": "markdown",
   "id": "614526b7-76bf-47c5-9175-5060686b7b25",
   "metadata": {},
   "source": [
    "## 세종"
   ]
  },
  {
   "cell_type": "code",
   "execution_count": 21,
   "id": "52d2fd4e-4712-4e46-bdff-835a5b5193c4",
   "metadata": {},
   "outputs": [],
   "source": [
    "rn_Sejong_outer = pd.merge(rn_Sejong, days, on = ['date'], how = 'outer').sort_values(by = 'date')\n",
    "\n",
    "rn_Sejong_outer['sum_rn'] = rn_Sejong_outer['sum_rn'].interpolate(method = 'values')\n",
    "# rn_Sejong_outer['hr1_max_rn'] = rn_Sejong_outer['hr1_max_rn'].interpolate(method = 'values')\n",
    "\n",
    "rn_Sejong_outer['add'] = '세종'\n",
    "del rn_Sejong_outer['stn_id']\n",
    "del rn_Sejong_outer['lat']\n",
    "del rn_Sejong_outer['long']"
   ]
  },
  {
   "cell_type": "markdown",
   "id": "9d8ccdf1-50ac-462d-a498-8d9263273750",
   "metadata": {},
   "source": [
    "## 울산"
   ]
  },
  {
   "cell_type": "code",
   "execution_count": 22,
   "id": "e527aff1-cbe2-4641-b2e7-749b89a3fb85",
   "metadata": {},
   "outputs": [],
   "source": [
    "rn_Ulsan_outer = pd.merge(rn_Ulsan, days, on = ['date'], how = 'outer').sort_values(by = 'date')\n",
    "\n",
    "rn_Ulsan_outer['sum_rn'] = rn_Ulsan_outer['sum_rn'].interpolate(method = 'values')\n",
    "# rn_Ulsan_outer['hr1_max_rn'] = rn_Ulsan_outer['hr1_max_rn'].interpolate(method = 'values')\n",
    "\n",
    "rn_Ulsan_outer['add'] = '울산'\n",
    "del rn_Ulsan_outer['stn_id']\n",
    "del rn_Ulsan_outer['lat']\n",
    "del rn_Ulsan_outer['long']"
   ]
  },
  {
   "cell_type": "markdown",
   "id": "726ffb32-a559-448e-9227-f6ad1b4d94a7",
   "metadata": {},
   "source": [
    "## 인천"
   ]
  },
  {
   "cell_type": "code",
   "execution_count": 23,
   "id": "050c7b88-ed61-4a35-a67e-b339b9a9a658",
   "metadata": {},
   "outputs": [],
   "source": [
    "rn_Incheon_outer = pd.merge(rn_Incheon, days, on = ['date'], how = 'outer').sort_values(by = 'date')\n",
    "\n",
    "rn_Incheon_outer['sum_rn'] = rn_Incheon_outer['sum_rn'].interpolate(method = 'values')\n",
    "# rn_Incheon_outer['hr1_max_rn'] = rn_Incheon_outer['hr1_max_rn'].interpolate(method = 'values')\n",
    "\n",
    "rn_Incheon_outer['add'] = '인천'\n",
    "del rn_Incheon_outer['stn_id']\n",
    "del rn_Incheon_outer['lat']\n",
    "del rn_Incheon_outer['long']"
   ]
  },
  {
   "cell_type": "markdown",
   "id": "f3835bd8-65b5-4d71-bcc4-829bcccd7148",
   "metadata": {},
   "source": [
    "## 전남"
   ]
  },
  {
   "cell_type": "code",
   "execution_count": 24,
   "id": "32d98650-50fd-479d-ab67-db898d53966c",
   "metadata": {},
   "outputs": [],
   "source": [
    "rn_Jeonnam_outer = pd.merge(rn_Jeonnam, days, on = ['date'], how = 'outer').sort_values(by = 'date')\n",
    "\n",
    "rn_Jeonnam_outer['sum_rn'] = rn_Jeonnam_outer['sum_rn'].interpolate(method = 'values')\n",
    "# rn_Jeonnam_outer['hr1_max_rn'] = rn_Jeonnam_outer['hr1_max_rn'].interpolate(method = 'values')\n",
    "\n",
    "rn_Jeonnam_outer['add'] = '전남'\n",
    "del rn_Jeonnam_outer['stn_id']\n",
    "del rn_Jeonnam_outer['lat']\n",
    "del rn_Jeonnam_outer['long']"
   ]
  },
  {
   "cell_type": "markdown",
   "id": "3d0e0101-5126-48bc-bfed-5073a52bbd8c",
   "metadata": {},
   "source": [
    "## 전북"
   ]
  },
  {
   "cell_type": "code",
   "execution_count": 25,
   "id": "39654430-5095-41ed-9120-a1072e201be6",
   "metadata": {},
   "outputs": [],
   "source": [
    "rn_Jeonbuk_outer = pd.merge(rn_Jeonbuk, days, on = ['date'], how = 'outer').sort_values(by = 'date')\n",
    "\n",
    "rn_Jeonbuk_outer['sum_rn'] = rn_Jeonbuk_outer['sum_rn'].interpolate(method = 'values')\n",
    "# rn_Jeonbuk_outer['hr1_max_rn'] = rn_Jeonbuk_outer['hr1_max_rn'].interpolate(method = 'values')\n",
    "\n",
    "rn_Jeonbuk_outer['add'] = '전북'\n",
    "del rn_Jeonbuk_outer['stn_id']\n",
    "del rn_Jeonbuk_outer['lat']\n",
    "del rn_Jeonbuk_outer['long']"
   ]
  },
  {
   "cell_type": "markdown",
   "id": "8fdb7004-7587-4e24-93b9-68b1e3bf4e37",
   "metadata": {},
   "source": [
    "## 제주"
   ]
  },
  {
   "cell_type": "code",
   "execution_count": 26,
   "id": "70c06af0-c03f-4ae2-8e07-1f7f3725488d",
   "metadata": {},
   "outputs": [],
   "source": [
    "rn_Jeju_outer = pd.merge(rn_Jeju, days, on = ['date'], how = 'outer').sort_values(by = 'date')\n",
    "\n",
    "rn_Jeju_outer['sum_rn'] = rn_Jeju_outer['sum_rn'].interpolate(method = 'values')\n",
    "# rn_Jeju_outer['hr1_max_rn'] = rn_Jeju_outer['hr1_max_rn'].interpolate(method = 'values')\n",
    "\n",
    "rn_Jeju_outer['add'] = '제주'\n",
    "del rn_Jeju_outer['stn_id']\n",
    "del rn_Jeju_outer['lat']\n",
    "del rn_Jeju_outer['long']"
   ]
  },
  {
   "cell_type": "markdown",
   "id": "6c31f188-7f8c-4076-8a96-d65c19755a1c",
   "metadata": {},
   "source": [
    "## 충남"
   ]
  },
  {
   "cell_type": "code",
   "execution_count": 27,
   "id": "fc332a55-916e-46e2-ba8e-5d2f78dec3fd",
   "metadata": {},
   "outputs": [],
   "source": [
    "rn_Chungnam_outer = pd.merge(rn_Chungnam, days, on = ['date'], how = 'outer').sort_values(by = 'date')\n",
    "\n",
    "rn_Chungnam_outer['sum_rn'] = rn_Chungnam_outer['sum_rn'].interpolate(method = 'values')\n",
    "# rn_Chungnam_outer['hr1_max_rn'] = rn_Chungnam_outer['hr1_max_rn'].interpolate(method = 'values')\n",
    "\n",
    "rn_Chungnam_outer['add'] = '충남'\n",
    "del rn_Chungnam_outer['stn_id']\n",
    "del rn_Chungnam_outer['lat']\n",
    "del rn_Chungnam_outer['long']"
   ]
  },
  {
   "cell_type": "markdown",
   "id": "ddd5f979-583b-4a39-8990-cd2e8e59ae46",
   "metadata": {},
   "source": [
    "## 충북 "
   ]
  },
  {
   "cell_type": "code",
   "execution_count": 28,
   "id": "b66d6b38-76e3-4895-b884-57a23499bcf1",
   "metadata": {},
   "outputs": [],
   "source": [
    "rn_Chungbuk_outer = pd.merge(rn_Chungbuk, days, on = ['date'], how = 'outer').sort_values(by = 'date')\n",
    "\n",
    "rn_Chungbuk_outer['sum_rn'] = rn_Chungbuk_outer['sum_rn'].interpolate(method = 'values')\n",
    "# rn_Chungbuk_outer['hr1_max_rn'] = rn_Chungbuk_outer['hr1_max_rn'].interpolate(method = 'values')\n",
    "\n",
    "rn_Chungbuk_outer['add'] = '충북'\n",
    "del rn_Chungbuk_outer['stn_id']\n",
    "del rn_Chungbuk_outer['lat']\n",
    "del rn_Chungbuk_outer['long']"
   ]
  },
  {
   "cell_type": "code",
   "execution_count": 33,
   "id": "94985277-bac6-477a-b342-827a70c13b72",
   "metadata": {},
   "outputs": [],
   "source": [
    "rn_full = pd.concat([rn_Gangwon_outer,\n",
    "           rn_Gyeonggi_outer, \n",
    "           rn_Gyeongbuk_outer, \n",
    "           rn_Gyeongnam_outer,\n",
    "           rn_Gwangju_outer,\n",
    "           rn_Daegu_outer,\n",
    "           rn_Daejeon_outer,\n",
    "           rn_Busan_outer,\n",
    "           rn_Seoul_outer,\n",
    "           rn_Sejong_outer,\n",
    "           rn_Ulsan_outer,\n",
    "           rn_Incheon_outer,\n",
    "           rn_Jeonnam_outer,\n",
    "           rn_Jeonbuk_outer,\n",
    "           rn_Jeju_outer,\n",
    "           rn_Chungnam_outer,\n",
    "           rn_Chungbuk_outer], axis=0)\n",
    "# 날짜별 - 시도별로 정렬되어 있어야 함\n",
    "rn_full.sort_values(by = ['date','add'])\n",
    "rn_full = rn_full.groupby(['date', 'add'], as_index=False).mean()\n",
    "rn_full = rn_full.sort_values(by = ['date','add'])\n",
    "# 66742 행이 있어야 해"
   ]
  },
  {
   "cell_type": "code",
   "execution_count": 36,
   "id": "997bd265-f0ae-41e5-baa7-83d2c16814c1",
   "metadata": {},
   "outputs": [],
   "source": [
    "rn_full = rn_full.iloc[:67269]"
   ]
  },
  {
   "cell_type": "code",
   "execution_count": 37,
   "id": "fc942ff6-a0f6-49da-8940-2486f3fdc3d4",
   "metadata": {},
   "outputs": [],
   "source": [
    "rn_full.to_csv('../data/rn_for_merge.csv')"
   ]
  },
  {
   "cell_type": "code",
   "execution_count": 38,
   "id": "5eae60dc-2b18-4bed-8b3c-a56b46c5a532",
   "metadata": {},
   "outputs": [
    {
     "data": {
      "text/html": [
       "<div>\n",
       "<style scoped>\n",
       "    .dataframe tbody tr th:only-of-type {\n",
       "        vertical-align: middle;\n",
       "    }\n",
       "\n",
       "    .dataframe tbody tr th {\n",
       "        vertical-align: top;\n",
       "    }\n",
       "\n",
       "    .dataframe thead th {\n",
       "        text-align: right;\n",
       "    }\n",
       "</style>\n",
       "<table border=\"1\" class=\"dataframe\">\n",
       "  <thead>\n",
       "    <tr style=\"text-align: right;\">\n",
       "      <th></th>\n",
       "      <th>date</th>\n",
       "      <th>add</th>\n",
       "      <th>sum_rn</th>\n",
       "    </tr>\n",
       "  </thead>\n",
       "  <tbody>\n",
       "    <tr>\n",
       "      <th>0</th>\n",
       "      <td>2012-01-01</td>\n",
       "      <td>강원</td>\n",
       "      <td>0.143678</td>\n",
       "    </tr>\n",
       "    <tr>\n",
       "      <th>1</th>\n",
       "      <td>2012-01-01</td>\n",
       "      <td>경기</td>\n",
       "      <td>0.018018</td>\n",
       "    </tr>\n",
       "    <tr>\n",
       "      <th>2</th>\n",
       "      <td>2012-01-01</td>\n",
       "      <td>경남</td>\n",
       "      <td>0.055556</td>\n",
       "    </tr>\n",
       "    <tr>\n",
       "      <th>3</th>\n",
       "      <td>2012-01-01</td>\n",
       "      <td>경북</td>\n",
       "      <td>0.612500</td>\n",
       "    </tr>\n",
       "    <tr>\n",
       "      <th>4</th>\n",
       "      <td>2012-01-01</td>\n",
       "      <td>광주</td>\n",
       "      <td>0.750000</td>\n",
       "    </tr>\n",
       "    <tr>\n",
       "      <th>...</th>\n",
       "      <td>...</td>\n",
       "      <td>...</td>\n",
       "      <td>...</td>\n",
       "    </tr>\n",
       "    <tr>\n",
       "      <th>67264</th>\n",
       "      <td>2022-10-31</td>\n",
       "      <td>전남</td>\n",
       "      <td>0.000000</td>\n",
       "    </tr>\n",
       "    <tr>\n",
       "      <th>67265</th>\n",
       "      <td>2022-10-31</td>\n",
       "      <td>전북</td>\n",
       "      <td>0.000000</td>\n",
       "    </tr>\n",
       "    <tr>\n",
       "      <th>67266</th>\n",
       "      <td>2022-10-31</td>\n",
       "      <td>제주</td>\n",
       "      <td>0.000000</td>\n",
       "    </tr>\n",
       "    <tr>\n",
       "      <th>67267</th>\n",
       "      <td>2022-10-31</td>\n",
       "      <td>충남</td>\n",
       "      <td>0.000000</td>\n",
       "    </tr>\n",
       "    <tr>\n",
       "      <th>67268</th>\n",
       "      <td>2022-10-31</td>\n",
       "      <td>충북</td>\n",
       "      <td>0.000000</td>\n",
       "    </tr>\n",
       "  </tbody>\n",
       "</table>\n",
       "<p>67269 rows × 3 columns</p>\n",
       "</div>"
      ],
      "text/plain": [
       "             date add    sum_rn\n",
       "0      2012-01-01  강원  0.143678\n",
       "1      2012-01-01  경기  0.018018\n",
       "2      2012-01-01  경남  0.055556\n",
       "3      2012-01-01  경북  0.612500\n",
       "4      2012-01-01  광주  0.750000\n",
       "...           ...  ..       ...\n",
       "67264  2022-10-31  전남  0.000000\n",
       "67265  2022-10-31  전북  0.000000\n",
       "67266  2022-10-31  제주  0.000000\n",
       "67267  2022-10-31  충남  0.000000\n",
       "67268  2022-10-31  충북  0.000000\n",
       "\n",
       "[67269 rows x 3 columns]"
      ]
     },
     "execution_count": 38,
     "metadata": {},
     "output_type": "execute_result"
    }
   ],
   "source": [
    "pd.read_csv('../data/rn_for_merge.csv', index_col = 0)"
   ]
  },
  {
   "cell_type": "code",
   "execution_count": null,
   "id": "e4dac55d-c2a9-4f40-b3e3-d238a69dfb54",
   "metadata": {},
   "outputs": [],
   "source": []
  }
 ],
 "metadata": {
  "environment": {
   "kernel": "python3",
   "name": "r-cpu.4-1.m97",
   "type": "gcloud",
   "uri": "gcr.io/deeplearning-platform-release/r-cpu.4-1:m97"
  },
  "kernelspec": {
   "display_name": "Python 3",
   "language": "python",
   "name": "python3"
  },
  "language_info": {
   "codemirror_mode": {
    "name": "ipython",
    "version": 3
   },
   "file_extension": ".py",
   "mimetype": "text/x-python",
   "name": "python",
   "nbconvert_exporter": "python",
   "pygments_lexer": "ipython3",
   "version": "3.7.12"
  }
 },
 "nbformat": 4,
 "nbformat_minor": 5
}
