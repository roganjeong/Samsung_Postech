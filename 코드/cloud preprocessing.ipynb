{
 "cells": [
  {
   "cell_type": "code",
   "execution_count": 12,
   "id": "62b055dc-59f0-4efd-918e-cab81ce9a17f",
   "metadata": {},
   "outputs": [],
   "source": [
    "# from google.colab import files\n",
    "# from google.colab import drive\n",
    "import os\n",
    "import io\n",
    "import pandas as pd\n",
    "import missingno as msno\n",
    "import seaborn as sns\n",
    "import matplotlib.pyplot as plt\n",
    "import scipy.stats as stats\n",
    "from scipy.stats import chisquare\n",
    "import numpy as np\n",
    "\n",
    "from datetime import datetime\n",
    "# drive.mount('/content/drive') #/MyDrive/Colab Notebooks/데이터/기상데이터"
   ]
  },
  {
   "cell_type": "code",
   "execution_count": 4,
   "id": "5ee07927-d75b-42f8-b48d-7dde3e780485",
   "metadata": {},
   "outputs": [
    {
     "data": {
      "text/plain": [
       "'/home/jupyter/code'"
      ]
     },
     "execution_count": 4,
     "metadata": {},
     "output_type": "execute_result"
    }
   ],
   "source": [
    "os.getcwd()"
   ]
  },
  {
   "cell_type": "code",
   "execution_count": 13,
   "id": "fc6f7d48-83fa-415a-a8f5-0d4f11d67d53",
   "metadata": {},
   "outputs": [],
   "source": [
    "cloud = pd.read_csv('../data/cloud.csv', index_col = 0)\n",
    "lon_lat = pd.read_csv('../data//mapping_0713.csv', index_col = 0)"
   ]
  },
  {
   "cell_type": "code",
   "execution_count": 63,
   "id": "fd769b35-5fdd-42f2-949b-9c97c3f71658",
   "metadata": {},
   "outputs": [
    {
     "data": {
      "text/html": [
       "<div>\n",
       "<style scoped>\n",
       "    .dataframe tbody tr th:only-of-type {\n",
       "        vertical-align: middle;\n",
       "    }\n",
       "\n",
       "    .dataframe tbody tr th {\n",
       "        vertical-align: top;\n",
       "    }\n",
       "\n",
       "    .dataframe thead th {\n",
       "        text-align: right;\n",
       "    }\n",
       "</style>\n",
       "<table border=\"1\" class=\"dataframe\">\n",
       "  <thead>\n",
       "    <tr style=\"text-align: right;\">\n",
       "      <th></th>\n",
       "      <th>a.tma</th>\n",
       "      <th>a.stn_id</th>\n",
       "      <th>a.avg_tca</th>\n",
       "      <th>a.min_ch</th>\n",
       "    </tr>\n",
       "  </thead>\n",
       "  <tbody>\n",
       "    <tr>\n",
       "      <th>1</th>\n",
       "      <td>2012-01-01 00:00:00.0</td>\n",
       "      <td>90</td>\n",
       "      <td>4.4</td>\n",
       "      <td>NaN</td>\n",
       "    </tr>\n",
       "    <tr>\n",
       "      <th>2</th>\n",
       "      <td>2012-01-01 00:00:00.0</td>\n",
       "      <td>95</td>\n",
       "      <td>6.5</td>\n",
       "      <td>NaN</td>\n",
       "    </tr>\n",
       "    <tr>\n",
       "      <th>3</th>\n",
       "      <td>2012-01-01 00:00:00.0</td>\n",
       "      <td>98</td>\n",
       "      <td>NaN</td>\n",
       "      <td>NaN</td>\n",
       "    </tr>\n",
       "    <tr>\n",
       "      <th>4</th>\n",
       "      <td>2012-01-01 00:00:00.0</td>\n",
       "      <td>100</td>\n",
       "      <td>7.4</td>\n",
       "      <td>NaN</td>\n",
       "    </tr>\n",
       "    <tr>\n",
       "      <th>5</th>\n",
       "      <td>2012-01-01 00:00:00.0</td>\n",
       "      <td>101</td>\n",
       "      <td>6.6</td>\n",
       "      <td>NaN</td>\n",
       "    </tr>\n",
       "    <tr>\n",
       "      <th>...</th>\n",
       "      <td>...</td>\n",
       "      <td>...</td>\n",
       "      <td>...</td>\n",
       "      <td>...</td>\n",
       "    </tr>\n",
       "    <tr>\n",
       "      <th>373990</th>\n",
       "      <td>2022-11-09 00:00:00.0</td>\n",
       "      <td>277</td>\n",
       "      <td>3.1</td>\n",
       "      <td>NaN</td>\n",
       "    </tr>\n",
       "    <tr>\n",
       "      <th>373991</th>\n",
       "      <td>2022-11-09 00:00:00.0</td>\n",
       "      <td>284</td>\n",
       "      <td>2.9</td>\n",
       "      <td>NaN</td>\n",
       "    </tr>\n",
       "    <tr>\n",
       "      <th>373992</th>\n",
       "      <td>2022-11-09 00:00:00.0</td>\n",
       "      <td>285</td>\n",
       "      <td>3.6</td>\n",
       "      <td>NaN</td>\n",
       "    </tr>\n",
       "    <tr>\n",
       "      <th>373993</th>\n",
       "      <td>2022-11-09 00:00:00.0</td>\n",
       "      <td>288</td>\n",
       "      <td>2.3</td>\n",
       "      <td>NaN</td>\n",
       "    </tr>\n",
       "    <tr>\n",
       "      <th>373994</th>\n",
       "      <td>2022-11-09 00:00:00.0</td>\n",
       "      <td>289</td>\n",
       "      <td>2.6</td>\n",
       "      <td>NaN</td>\n",
       "    </tr>\n",
       "  </tbody>\n",
       "</table>\n",
       "<p>373994 rows × 4 columns</p>\n",
       "</div>"
      ],
      "text/plain": [
       "                        a.tma  a.stn_id  a.avg_tca  a.min_ch\n",
       "1       2012-01-01 00:00:00.0        90        4.4       NaN\n",
       "2       2012-01-01 00:00:00.0        95        6.5       NaN\n",
       "3       2012-01-01 00:00:00.0        98        NaN       NaN\n",
       "4       2012-01-01 00:00:00.0       100        7.4       NaN\n",
       "5       2012-01-01 00:00:00.0       101        6.6       NaN\n",
       "...                       ...       ...        ...       ...\n",
       "373990  2022-11-09 00:00:00.0       277        3.1       NaN\n",
       "373991  2022-11-09 00:00:00.0       284        2.9       NaN\n",
       "373992  2022-11-09 00:00:00.0       285        3.6       NaN\n",
       "373993  2022-11-09 00:00:00.0       288        2.3       NaN\n",
       "373994  2022-11-09 00:00:00.0       289        2.6       NaN\n",
       "\n",
       "[373994 rows x 4 columns]"
      ]
     },
     "execution_count": 63,
     "metadata": {},
     "output_type": "execute_result"
    }
   ],
   "source": [
    "cloud"
   ]
  },
  {
   "cell_type": "code",
   "execution_count": 14,
   "id": "83f0c2a2-9b29-4169-b497-eee8a1d46a1a",
   "metadata": {},
   "outputs": [],
   "source": [
    "cloud = pd.read_csv('../data/cloud.csv', index_col = 0)\n",
    "lon_lat = pd.read_csv('../data//mapping_0713.csv', index_col = 0)\n",
    "\n",
    "cloud = cloud.rename(columns={'a.tma' : 'tma', 'a.stn_id' : 'stn_id', 'a.avg_tca' : 'ca', 'a.min_ch' : 'ch'})\n",
    "\n",
    "# cloud = pd.merge(cloud, lon_lat, on = ['stn_id'])\n",
    "\n",
    "cloud['date'] = cloud['tma'].map(lambda date_cloud: date_cloud[:10])\n",
    "cloud['time'] = cloud['tma'].map(lambda time_cloud: time_cloud[11:-2])\n",
    "cloud['date'] = pd.to_datetime(cloud['date'], format='%Y-%m-%d')\n",
    "cloud['time'] = pd.to_datetime(cloud['time'], format='%H:%M:%S')\n",
    "\n",
    "# del cloud['name']\n",
    "# del cloud['address']\n",
    "\n",
    "cloud_ds = cloud.groupby(['date', 'stn_id'], as_index=False).median()\n",
    "\n",
    "cloud = cloud_ds\n",
    "cloud = pd.merge(cloud, lon_lat, on = ['stn_id'])\n",
    "\n",
    "del cloud['name']\n",
    "del cloud['address']"
   ]
  },
  {
   "cell_type": "code",
   "execution_count": 37,
   "id": "cdb679d1-ea20-4db2-980d-5b2dac1abdd0",
   "metadata": {
    "collapsed": true,
    "jupyter": {
     "outputs_hidden": true
    },
    "tags": []
   },
   "outputs": [
    {
     "data": {
      "text/html": [
       "<div>\n",
       "<style scoped>\n",
       "    .dataframe tbody tr th:only-of-type {\n",
       "        vertical-align: middle;\n",
       "    }\n",
       "\n",
       "    .dataframe tbody tr th {\n",
       "        vertical-align: top;\n",
       "    }\n",
       "\n",
       "    .dataframe thead th {\n",
       "        text-align: right;\n",
       "    }\n",
       "</style>\n",
       "<table border=\"1\" class=\"dataframe\">\n",
       "  <thead>\n",
       "    <tr style=\"text-align: right;\">\n",
       "      <th></th>\n",
       "      <th>date</th>\n",
       "      <th>stn_id</th>\n",
       "      <th>ca</th>\n",
       "      <th>ch</th>\n",
       "      <th>lat</th>\n",
       "      <th>long</th>\n",
       "      <th>add</th>\n",
       "    </tr>\n",
       "  </thead>\n",
       "  <tbody>\n",
       "    <tr>\n",
       "      <th>0</th>\n",
       "      <td>2012-01-01</td>\n",
       "      <td>90</td>\n",
       "      <td>4.4</td>\n",
       "      <td>NaN</td>\n",
       "      <td>38.250875</td>\n",
       "      <td>128.564715</td>\n",
       "      <td>강원</td>\n",
       "    </tr>\n",
       "    <tr>\n",
       "      <th>1</th>\n",
       "      <td>2012-01-02</td>\n",
       "      <td>90</td>\n",
       "      <td>3.5</td>\n",
       "      <td>NaN</td>\n",
       "      <td>38.250875</td>\n",
       "      <td>128.564715</td>\n",
       "      <td>강원</td>\n",
       "    </tr>\n",
       "    <tr>\n",
       "      <th>2</th>\n",
       "      <td>2012-01-03</td>\n",
       "      <td>90</td>\n",
       "      <td>3.3</td>\n",
       "      <td>NaN</td>\n",
       "      <td>38.250875</td>\n",
       "      <td>128.564715</td>\n",
       "      <td>강원</td>\n",
       "    </tr>\n",
       "    <tr>\n",
       "      <th>3</th>\n",
       "      <td>2012-01-04</td>\n",
       "      <td>90</td>\n",
       "      <td>1.3</td>\n",
       "      <td>NaN</td>\n",
       "      <td>38.250875</td>\n",
       "      <td>128.564715</td>\n",
       "      <td>강원</td>\n",
       "    </tr>\n",
       "    <tr>\n",
       "      <th>4</th>\n",
       "      <td>2012-01-05</td>\n",
       "      <td>90</td>\n",
       "      <td>0.0</td>\n",
       "      <td>NaN</td>\n",
       "      <td>38.250875</td>\n",
       "      <td>128.564715</td>\n",
       "      <td>강원</td>\n",
       "    </tr>\n",
       "    <tr>\n",
       "      <th>...</th>\n",
       "      <td>...</td>\n",
       "      <td>...</td>\n",
       "      <td>...</td>\n",
       "      <td>...</td>\n",
       "      <td>...</td>\n",
       "      <td>...</td>\n",
       "      <td>...</td>\n",
       "    </tr>\n",
       "    <tr>\n",
       "      <th>373629</th>\n",
       "      <td>2022-11-05</td>\n",
       "      <td>239</td>\n",
       "      <td>0.0</td>\n",
       "      <td>NaN</td>\n",
       "      <td>36.485220</td>\n",
       "      <td>127.244380</td>\n",
       "      <td>충남</td>\n",
       "    </tr>\n",
       "    <tr>\n",
       "      <th>373630</th>\n",
       "      <td>2022-11-06</td>\n",
       "      <td>239</td>\n",
       "      <td>2.6</td>\n",
       "      <td>NaN</td>\n",
       "      <td>36.485220</td>\n",
       "      <td>127.244380</td>\n",
       "      <td>충남</td>\n",
       "    </tr>\n",
       "    <tr>\n",
       "      <th>373631</th>\n",
       "      <td>2022-11-07</td>\n",
       "      <td>239</td>\n",
       "      <td>3.1</td>\n",
       "      <td>NaN</td>\n",
       "      <td>36.485220</td>\n",
       "      <td>127.244380</td>\n",
       "      <td>충남</td>\n",
       "    </tr>\n",
       "    <tr>\n",
       "      <th>373632</th>\n",
       "      <td>2022-11-08</td>\n",
       "      <td>239</td>\n",
       "      <td>3.6</td>\n",
       "      <td>NaN</td>\n",
       "      <td>36.485220</td>\n",
       "      <td>127.244380</td>\n",
       "      <td>충남</td>\n",
       "    </tr>\n",
       "    <tr>\n",
       "      <th>373633</th>\n",
       "      <td>2022-11-09</td>\n",
       "      <td>239</td>\n",
       "      <td>8.1</td>\n",
       "      <td>NaN</td>\n",
       "      <td>36.485220</td>\n",
       "      <td>127.244380</td>\n",
       "      <td>충남</td>\n",
       "    </tr>\n",
       "  </tbody>\n",
       "</table>\n",
       "<p>373634 rows × 7 columns</p>\n",
       "</div>"
      ],
      "text/plain": [
       "             date  stn_id   ca  ch        lat        long add\n",
       "0      2012-01-01      90  4.4 NaN  38.250875  128.564715  강원\n",
       "1      2012-01-02      90  3.5 NaN  38.250875  128.564715  강원\n",
       "2      2012-01-03      90  3.3 NaN  38.250875  128.564715  강원\n",
       "3      2012-01-04      90  1.3 NaN  38.250875  128.564715  강원\n",
       "4      2012-01-05      90  0.0 NaN  38.250875  128.564715  강원\n",
       "...           ...     ...  ...  ..        ...         ...  ..\n",
       "373629 2022-11-05     239  0.0 NaN  36.485220  127.244380  충남\n",
       "373630 2022-11-06     239  2.6 NaN  36.485220  127.244380  충남\n",
       "373631 2022-11-07     239  3.1 NaN  36.485220  127.244380  충남\n",
       "373632 2022-11-08     239  3.6 NaN  36.485220  127.244380  충남\n",
       "373633 2022-11-09     239  8.1 NaN  36.485220  127.244380  충남\n",
       "\n",
       "[373634 rows x 7 columns]"
      ]
     },
     "execution_count": 37,
     "metadata": {},
     "output_type": "execute_result"
    }
   ],
   "source": [
    "cloud"
   ]
  },
  {
   "cell_type": "markdown",
   "id": "87d42fdb-c1a5-4418-8dc1-ff267b3a2a87",
   "metadata": {},
   "source": [
    "# -------------------------------------------  \n",
    "# Linear Interpolation"
   ]
  },
  {
   "cell_type": "code",
   "execution_count": 15,
   "id": "d2fed22c-b8e1-4d11-b025-37554ab0b5bf",
   "metadata": {},
   "outputs": [],
   "source": [
    "days = pd.DataFrame({'date' : pd.date_range(start=\"2012-02-01\",end=\"2022-10-31\")})"
   ]
  },
  {
   "cell_type": "code",
   "execution_count": 16,
   "id": "0bdfb200-2e30-483e-b8b7-604efa39981c",
   "metadata": {},
   "outputs": [],
   "source": [
    "cloud['date'] = pd.to_datetime(cloud['date'])\n",
    "cloud['date'] = pd.to_datetime(cloud['date'], format='%Y-%m-%d')"
   ]
  },
  {
   "cell_type": "code",
   "execution_count": 17,
   "id": "1a651756-7d19-409d-8963-f1edb72c39a3",
   "metadata": {},
   "outputs": [],
   "source": [
    "cloud_Gangwon = cloud[cloud['add']=='강원']\n",
    "cloud_Gyeonggi = cloud[cloud['add']=='경기']\n",
    "cloud_Gyeongnam = cloud[cloud['add']=='경남']\n",
    "cloud_Gyeongbuk = cloud[cloud['add']=='경북']\n",
    "cloud_Gwangju = cloud[cloud['add']=='광주']\n",
    "cloud_Daegu = cloud[cloud['add']=='대구']\n",
    "cloud_Daejeon = cloud[cloud['add']=='대전']\n",
    "cloud_Busan = cloud[cloud['add']=='부산']\n",
    "cloud_Seoul = cloud[cloud['add']=='서울']\n",
    "cloud_Sejong = cloud[cloud['add']=='세종']\n",
    "cloud_Ulsan = cloud[cloud['add']=='울산']\n",
    "cloud_Incheon = cloud[cloud['add']=='인천']\n",
    "cloud_Jeonnam = cloud[cloud['add']=='전남']\n",
    "cloud_Jeonbuk = cloud[cloud['add']=='전북']\n",
    "cloud_Jeju = cloud[cloud['add']=='제주']\n",
    "cloud_Chungnam = cloud[cloud['add']=='충남']\n",
    "cloud_Chungbuk = cloud[cloud['add']=='충북']"
   ]
  },
  {
   "cell_type": "markdown",
   "id": "f1b55563-2f31-48b4-a8f0-9390cbd77587",
   "metadata": {},
   "source": [
    "## 강원"
   ]
  },
  {
   "cell_type": "code",
   "execution_count": 18,
   "id": "544b82a3-d0ca-4616-a388-6b91f9d5e67e",
   "metadata": {},
   "outputs": [],
   "source": [
    "cloud_Gangwon_outer = pd.merge(cloud_Gangwon, days, on = ['date'], how = 'outer').sort_values(by = 'date')\n",
    "\n",
    "cloud_Gangwon_outer['ca'] = cloud_Gangwon_outer['ca'].interpolate(method = 'values')\n",
    "cloud_Gangwon_outer['ch'] = cloud_Gangwon_outer['ch'].interpolate(method = 'values')\n",
    "\n",
    "cloud_Gangwon_outer['add'] = '강원'\n",
    "del cloud_Gangwon_outer['stn_id']\n",
    "del cloud_Gangwon_outer['lat']\n",
    "del cloud_Gangwon_outer['long']\n",
    "del cloud_Gangwon_outer['ch']"
   ]
  },
  {
   "cell_type": "code",
   "execution_count": 19,
   "id": "c93ff703-cca9-4edd-8e5d-a7961746e118",
   "metadata": {},
   "outputs": [
    {
     "data": {
      "text/plain": [
       "3966"
      ]
     },
     "execution_count": 19,
     "metadata": {},
     "output_type": "execute_result"
    }
   ],
   "source": [
    "len(set(cloud_Gangwon_outer['date']))"
   ]
  },
  {
   "cell_type": "code",
   "execution_count": 66,
   "id": "83585709-6d84-4893-a367-ad3a51b0d1a8",
   "metadata": {},
   "outputs": [
    {
     "data": {
      "text/plain": [
       "date    0\n",
       "ca      0\n",
       "add     0\n",
       "dtype: int64"
      ]
     },
     "execution_count": 66,
     "metadata": {},
     "output_type": "execute_result"
    }
   ],
   "source": [
    "cloud_Gangwon_outer.isna().sum()"
   ]
  },
  {
   "cell_type": "markdown",
   "id": "34c263b1-edbf-46c6-b122-c1b2c97924f6",
   "metadata": {},
   "source": [
    "## 경기"
   ]
  },
  {
   "cell_type": "code",
   "execution_count": 20,
   "id": "de31fd82-b984-4650-a91b-8b6642a49396",
   "metadata": {},
   "outputs": [],
   "source": [
    "cloud_Gyeonggi_outer = pd.merge(cloud_Gyeonggi, days, on = ['date'], how = 'outer').sort_values(by = 'date')\n",
    "\n",
    "cloud_Gyeonggi_outer['ca'] = cloud_Gyeonggi_outer['ca'].interpolate(method = 'values')\n",
    "cloud_Gyeonggi_outer['ch'] = cloud_Gyeonggi_outer['ch'].interpolate(method = 'values')\n",
    "\n",
    "cloud_Gyeonggi_outer['add'] = '경기'\n",
    "del cloud_Gyeonggi_outer['stn_id']\n",
    "del cloud_Gyeonggi_outer['lat']\n",
    "del cloud_Gyeonggi_outer['long']\n",
    "del cloud_Gyeonggi_outer['ch']"
   ]
  },
  {
   "cell_type": "code",
   "execution_count": 21,
   "id": "5e10fb97-d797-41b2-b90d-94604838af83",
   "metadata": {},
   "outputs": [
    {
     "data": {
      "text/plain": [
       "3966"
      ]
     },
     "execution_count": 21,
     "metadata": {},
     "output_type": "execute_result"
    }
   ],
   "source": [
    "len(set(cloud_Gyeonggi_outer['date']))"
   ]
  },
  {
   "cell_type": "code",
   "execution_count": 67,
   "id": "e207e39e-d1df-4138-8565-37ea214bc94b",
   "metadata": {},
   "outputs": [
    {
     "data": {
      "text/plain": [
       "date    0\n",
       "ca      2\n",
       "add     0\n",
       "dtype: int64"
      ]
     },
     "execution_count": 67,
     "metadata": {},
     "output_type": "execute_result"
    }
   ],
   "source": [
    "cloud_Gyeonggi_outer.isna().sum()"
   ]
  },
  {
   "cell_type": "markdown",
   "id": "2a81066d-bddc-4f2f-a5c3-8bc75bbfbfb1",
   "metadata": {},
   "source": [
    "## 경남"
   ]
  },
  {
   "cell_type": "code",
   "execution_count": 22,
   "id": "74eea755-6c78-4a9a-b5df-742caa25595a",
   "metadata": {},
   "outputs": [],
   "source": [
    "cloud_Gyeongnam_outer = pd.merge(cloud_Gyeongnam, days, on = ['date'], how = 'outer').sort_values(by = 'date')\n",
    "\n",
    "cloud_Gyeongnam_outer['ca'] = cloud_Gyeongnam_outer['ca'].interpolate(method = 'values')\n",
    "cloud_Gyeongnam_outer['ch'] = cloud_Gyeongnam_outer['ch'].interpolate(method = 'values')\n",
    "\n",
    "cloud_Gyeongnam_outer['add'] = '경남'\n",
    "del cloud_Gyeongnam_outer['stn_id']\n",
    "del cloud_Gyeongnam_outer['lat']\n",
    "del cloud_Gyeongnam_outer['long']\n",
    "del cloud_Gyeongnam_outer['ch']"
   ]
  },
  {
   "cell_type": "code",
   "execution_count": 23,
   "id": "120ef09f-f5b3-44e2-9354-67ac4aab4018",
   "metadata": {
    "tags": []
   },
   "outputs": [
    {
     "data": {
      "text/plain": [
       "3966"
      ]
     },
     "execution_count": 23,
     "metadata": {},
     "output_type": "execute_result"
    }
   ],
   "source": [
    "len(set(cloud_Gyeongnam_outer['date']))"
   ]
  },
  {
   "cell_type": "code",
   "execution_count": 68,
   "id": "81304708-92ec-496b-92ed-09546a524fe8",
   "metadata": {},
   "outputs": [
    {
     "data": {
      "text/plain": [
       "date    0\n",
       "ca      0\n",
       "add     0\n",
       "dtype: int64"
      ]
     },
     "execution_count": 68,
     "metadata": {},
     "output_type": "execute_result"
    }
   ],
   "source": [
    "cloud_Gyeongnam_outer.isna().sum()"
   ]
  },
  {
   "cell_type": "markdown",
   "id": "b12845e1-be22-42a0-86d2-40c2e9d4b78c",
   "metadata": {},
   "source": [
    "## 경북"
   ]
  },
  {
   "cell_type": "code",
   "execution_count": 24,
   "id": "5fb1eaab-2fcf-4855-add3-4f3b95b56bb2",
   "metadata": {},
   "outputs": [],
   "source": [
    "cloud_Gyeongbuk_outer = pd.merge(cloud_Gyeongbuk, days, on = ['date'], how = 'outer').sort_values(by = 'date')\n",
    "\n",
    "cloud_Gyeongbuk_outer['ca'] = cloud_Gyeongbuk_outer['ca'].interpolate(method = 'values')\n",
    "cloud_Gyeongbuk_outer['ch'] = cloud_Gyeongbuk_outer['ch'].interpolate(method = 'values')\n",
    "\n",
    "cloud_Gyeongbuk_outer['add'] = '경북'\n",
    "del cloud_Gyeongbuk_outer['stn_id']\n",
    "del cloud_Gyeongbuk_outer['lat']\n",
    "del cloud_Gyeongbuk_outer['long']\n",
    "del cloud_Gyeongbuk_outer['ch']"
   ]
  },
  {
   "cell_type": "code",
   "execution_count": 25,
   "id": "8c6c7e46-35c9-4c9a-b470-74c47d44ff60",
   "metadata": {
    "tags": []
   },
   "outputs": [
    {
     "data": {
      "text/plain": [
       "3966"
      ]
     },
     "execution_count": 25,
     "metadata": {},
     "output_type": "execute_result"
    }
   ],
   "source": [
    "len(set(cloud_Gyeongbuk_outer['date']))"
   ]
  },
  {
   "cell_type": "code",
   "execution_count": 69,
   "id": "162836cf-0dd4-4bb3-9c4c-bbf63019d34e",
   "metadata": {},
   "outputs": [
    {
     "data": {
      "text/plain": [
       "date    0\n",
       "ca      0\n",
       "add     0\n",
       "dtype: int64"
      ]
     },
     "execution_count": 69,
     "metadata": {},
     "output_type": "execute_result"
    }
   ],
   "source": [
    "cloud_Gyeongbuk_outer.isna().sum()"
   ]
  },
  {
   "cell_type": "markdown",
   "id": "a7025df6-5011-4941-8d35-f0b52cb4ff0b",
   "metadata": {},
   "source": [
    "## 광주"
   ]
  },
  {
   "cell_type": "code",
   "execution_count": 26,
   "id": "14ba74d5-8a18-46f2-b880-f94cca00303f",
   "metadata": {},
   "outputs": [],
   "source": [
    "cloud_Gwangju_outer = pd.merge(cloud_Gwangju, days, on = ['date'], how = 'outer').sort_values(by = 'date')\n",
    "\n",
    "cloud_Gwangju_outer['ca'] = cloud_Gwangju_outer['ca'].interpolate(method = 'values')\n",
    "cloud_Gwangju_outer['ch'] = cloud_Gwangju_outer['ch'].interpolate(method = 'values')\n",
    "\n",
    "cloud_Gwangju_outer['add'] = '광주'\n",
    "del cloud_Gwangju_outer['stn_id']\n",
    "del cloud_Gwangju_outer['lat']\n",
    "del cloud_Gwangju_outer['long']\n",
    "del cloud_Gwangju_outer['ch']\n"
   ]
  },
  {
   "cell_type": "code",
   "execution_count": 27,
   "id": "a426893b-e9c5-47fe-a5e1-0153b0291446",
   "metadata": {
    "tags": []
   },
   "outputs": [
    {
     "data": {
      "text/plain": [
       "3966"
      ]
     },
     "execution_count": 27,
     "metadata": {},
     "output_type": "execute_result"
    }
   ],
   "source": [
    "len(set(cloud_Gwangju_outer['date']))"
   ]
  },
  {
   "cell_type": "code",
   "execution_count": 70,
   "id": "cbfc919b-610e-4e99-acd7-571d9d4740c9",
   "metadata": {},
   "outputs": [
    {
     "data": {
      "text/plain": [
       "date    0\n",
       "ca      0\n",
       "add     0\n",
       "dtype: int64"
      ]
     },
     "execution_count": 70,
     "metadata": {},
     "output_type": "execute_result"
    }
   ],
   "source": [
    "cloud_Gwangju_outer.isna().sum()"
   ]
  },
  {
   "cell_type": "markdown",
   "id": "4c080f64-27de-4003-a4f6-d646245d79c1",
   "metadata": {},
   "source": [
    "## 대구"
   ]
  },
  {
   "cell_type": "code",
   "execution_count": 28,
   "id": "91b6184b-187e-4c76-8a8f-a39667ae4eab",
   "metadata": {},
   "outputs": [],
   "source": [
    "cloud_Daegu_outer = pd.merge(cloud_Daegu, days, on = ['date'], how = 'outer').sort_values(by = 'date')\n",
    "\n",
    "cloud_Daegu_outer['ca'] = cloud_Daegu_outer['ca'].interpolate(method = 'values')\n",
    "cloud_Daegu_outer['ch'] = cloud_Daegu_outer['ch'].interpolate(method = 'values')\n",
    "\n",
    "cloud_Daegu_outer['add'] = '대구'\n",
    "del cloud_Daegu_outer['stn_id']\n",
    "del cloud_Daegu_outer['lat']\n",
    "del cloud_Daegu_outer['long']\n",
    "del cloud_Daegu_outer['ch']"
   ]
  },
  {
   "cell_type": "code",
   "execution_count": 29,
   "id": "f0784b83-19d3-45aa-b6cd-99bafe53c919",
   "metadata": {
    "tags": []
   },
   "outputs": [
    {
     "data": {
      "text/plain": [
       "3966"
      ]
     },
     "execution_count": 29,
     "metadata": {},
     "output_type": "execute_result"
    }
   ],
   "source": [
    "len(set(cloud_Daegu_outer['date']))"
   ]
  },
  {
   "cell_type": "code",
   "execution_count": 71,
   "id": "f4d512d4-b746-4379-8554-fc2c5c51a23f",
   "metadata": {},
   "outputs": [
    {
     "data": {
      "text/plain": [
       "date    0\n",
       "ca      0\n",
       "add     0\n",
       "dtype: int64"
      ]
     },
     "execution_count": 71,
     "metadata": {},
     "output_type": "execute_result"
    }
   ],
   "source": [
    "cloud_Daegu_outer.isna().sum()"
   ]
  },
  {
   "cell_type": "markdown",
   "id": "bb8809bf-075a-4c1d-9007-47fbbf9e8ec3",
   "metadata": {},
   "source": [
    "## 대전"
   ]
  },
  {
   "cell_type": "code",
   "execution_count": 30,
   "id": "29a81d62-52f1-4b43-a8a5-0da6fe66a43e",
   "metadata": {},
   "outputs": [],
   "source": [
    "cloud_Daejeon_outer = pd.merge(cloud_Daejeon, days, on = ['date'], how = 'outer').sort_values(by = 'date')\n",
    "\n",
    "cloud_Daejeon_outer['ca'] = cloud_Daejeon_outer['ca'].interpolate(method = 'values')\n",
    "cloud_Daejeon_outer['ch'] = cloud_Daejeon_outer['ch'].interpolate(method = 'values')\n",
    "\n",
    "cloud_Daejeon_outer['add'] = '대전'\n",
    "del cloud_Daejeon_outer['stn_id']\n",
    "del cloud_Daejeon_outer['lat']\n",
    "del cloud_Daejeon_outer['long']\n",
    "del cloud_Daejeon_outer['ch']"
   ]
  },
  {
   "cell_type": "code",
   "execution_count": 31,
   "id": "b5b8e653-cadf-4baa-9e78-88dccbc4983b",
   "metadata": {
    "tags": []
   },
   "outputs": [
    {
     "data": {
      "text/plain": [
       "3966"
      ]
     },
     "execution_count": 31,
     "metadata": {},
     "output_type": "execute_result"
    }
   ],
   "source": [
    "len(set(cloud_Daejeon_outer['date']))"
   ]
  },
  {
   "cell_type": "code",
   "execution_count": 72,
   "id": "b640e69e-1f31-4eed-aed1-b89ec1f87a3c",
   "metadata": {},
   "outputs": [
    {
     "data": {
      "text/plain": [
       "date    0\n",
       "ca      0\n",
       "add     0\n",
       "dtype: int64"
      ]
     },
     "execution_count": 72,
     "metadata": {},
     "output_type": "execute_result"
    }
   ],
   "source": [
    "cloud_Daejeon_outer.isna().sum()"
   ]
  },
  {
   "cell_type": "markdown",
   "id": "2f79738f-7de1-4107-96d5-e84a968a90f9",
   "metadata": {},
   "source": [
    "## 부산"
   ]
  },
  {
   "cell_type": "code",
   "execution_count": 32,
   "id": "9290d4ec-d74f-4eec-a459-fe365dbe62ea",
   "metadata": {},
   "outputs": [],
   "source": [
    "cloud_Busan_outer = pd.merge(cloud_Busan, days, on = ['date'], how = 'outer').sort_values(by = 'date')\n",
    "\n",
    "cloud_Busan_outer['ca'] = cloud_Busan_outer['ca'].interpolate(method = 'values')\n",
    "cloud_Busan_outer['ch'] = cloud_Busan_outer['ch'].interpolate(method = 'values')\n",
    "\n",
    "cloud_Busan_outer['add'] = '부산'\n",
    "del cloud_Busan_outer['stn_id']\n",
    "del cloud_Busan_outer['lat']\n",
    "del cloud_Busan_outer['long']\n",
    "del cloud_Busan_outer['ch']\n"
   ]
  },
  {
   "cell_type": "code",
   "execution_count": 33,
   "id": "78140c2e-717d-451c-a8bb-457a136d805a",
   "metadata": {
    "tags": []
   },
   "outputs": [
    {
     "data": {
      "text/plain": [
       "3966"
      ]
     },
     "execution_count": 33,
     "metadata": {},
     "output_type": "execute_result"
    }
   ],
   "source": [
    "len(set(cloud_Busan_outer['date']))"
   ]
  },
  {
   "cell_type": "code",
   "execution_count": 73,
   "id": "9a84e9a0-e3a3-412c-9f38-bb3e7ab42d16",
   "metadata": {},
   "outputs": [
    {
     "data": {
      "text/plain": [
       "date    0\n",
       "ca      0\n",
       "add     0\n",
       "dtype: int64"
      ]
     },
     "execution_count": 73,
     "metadata": {},
     "output_type": "execute_result"
    }
   ],
   "source": [
    "cloud_Busan_outer.isna().sum()"
   ]
  },
  {
   "cell_type": "markdown",
   "id": "ef1e6baf-7c6b-4911-8b2a-04b466738271",
   "metadata": {},
   "source": [
    "## 서울"
   ]
  },
  {
   "cell_type": "code",
   "execution_count": 34,
   "id": "be929e98-702a-4cf7-af54-496daf518510",
   "metadata": {},
   "outputs": [],
   "source": [
    "cloud_Seoul_outer = pd.merge(cloud_Seoul, days, on = ['date'], how = 'outer').sort_values(by = 'date')\n",
    "\n",
    "cloud_Seoul_outer['ca'] = cloud_Seoul_outer['ca'].interpolate(method = 'values')\n",
    "cloud_Seoul_outer['ch'] = cloud_Seoul_outer['ch'].interpolate(method = 'values')\n",
    "\n",
    "cloud_Seoul_outer['add'] = '서울'\n",
    "del cloud_Seoul_outer['stn_id']\n",
    "del cloud_Seoul_outer['lat']\n",
    "del cloud_Seoul_outer['long']\n",
    "del cloud_Seoul_outer['ch']"
   ]
  },
  {
   "cell_type": "code",
   "execution_count": 35,
   "id": "87ebb163-c3b2-463b-b489-f9ef39c18309",
   "metadata": {
    "tags": []
   },
   "outputs": [
    {
     "data": {
      "text/plain": [
       "3966"
      ]
     },
     "execution_count": 35,
     "metadata": {},
     "output_type": "execute_result"
    }
   ],
   "source": [
    "len(set(cloud_Seoul_outer['date']))"
   ]
  },
  {
   "cell_type": "code",
   "execution_count": 74,
   "id": "6c162d7f-851d-41d5-991e-ff5b694216f9",
   "metadata": {},
   "outputs": [
    {
     "data": {
      "text/plain": [
       "date    0\n",
       "ca      0\n",
       "add     0\n",
       "dtype: int64"
      ]
     },
     "execution_count": 74,
     "metadata": {},
     "output_type": "execute_result"
    }
   ],
   "source": [
    "cloud_Seoul_outer.isna().sum()"
   ]
  },
  {
   "cell_type": "markdown",
   "id": "e0ff555f-4901-4a07-9b84-af5e716cbb28",
   "metadata": {},
   "source": [
    "## 세종"
   ]
  },
  {
   "cell_type": "code",
   "execution_count": 36,
   "id": "306e4e9a-17f4-4091-a7df-ed9365ee1af8",
   "metadata": {},
   "outputs": [],
   "source": [
    "cloud_Sejong_outer = pd.merge(cloud_Sejong, days, on = ['date'], how = 'outer').sort_values(by = 'date')\n",
    "\n",
    "cloud_Sejong_outer['ca'] = cloud_Sejong_outer['ca'].interpolate(method = 'values')\n",
    "cloud_Sejong_outer['ch'] = cloud_Sejong_outer['ch'].interpolate(method = 'values')\n",
    "\n",
    "cloud_Sejong_outer['add'] = '세종'\n",
    "del cloud_Sejong_outer['stn_id']\n",
    "del cloud_Sejong_outer['lat']\n",
    "del cloud_Sejong_outer['long']"
   ]
  },
  {
   "cell_type": "code",
   "execution_count": 38,
   "id": "b14421f6-4c51-4095-9b77-83a85c0c2645",
   "metadata": {},
   "outputs": [
    {
     "data": {
      "text/plain": [
       "3926"
      ]
     },
     "execution_count": 38,
     "metadata": {},
     "output_type": "execute_result"
    }
   ],
   "source": [
    "len(set(cloud_Sejong_outer['date']))"
   ]
  },
  {
   "cell_type": "code",
   "execution_count": 75,
   "id": "7e5b2384-e5da-4479-9340-07d59ac23739",
   "metadata": {},
   "outputs": [
    {
     "data": {
      "text/plain": [
       "date    0\n",
       "ca      0\n",
       "dtype: int64"
      ]
     },
     "execution_count": 75,
     "metadata": {},
     "output_type": "execute_result"
    }
   ],
   "source": [
    "cloud_Sejong_outer.isna().sum()"
   ]
  },
  {
   "cell_type": "code",
   "execution_count": 78,
   "id": "ac3e0331-4371-45d5-a1a0-05ad6989a924",
   "metadata": {
    "tags": []
   },
   "outputs": [],
   "source": [
    "Sejong_imp = pd.merge(cloud_Sejong_outer, days, on = ['date'], how = 'outer').sort_values(by = 'date')\n",
    "for_Sejong = pd.concat([cloud_Daejeon_outer,\n",
    "                        Sejong_imp,\n",
    "                        cloud_Chungnam_outer,\n",
    "                        cloud_Chungbuk_outer], axis=0)\n",
    "cloud_Sejong_outer = for_Sejong[for_Sejong['add'].isin(['충남', '충북', '대전'])].groupby(['date'], as_index=False).mean().assign(add='세종')\n",
    "# del cloud_Sejong_outer['ch']"
   ]
  },
  {
   "cell_type": "code",
   "execution_count": 48,
   "id": "d2f5bda8-d20b-49b4-826a-29149b81ad74",
   "metadata": {},
   "outputs": [
    {
     "data": {
      "text/plain": [
       "3966"
      ]
     },
     "execution_count": 48,
     "metadata": {},
     "output_type": "execute_result"
    }
   ],
   "source": [
    "len(set(cloud_Sejong_outer['date']))"
   ]
  },
  {
   "cell_type": "code",
   "execution_count": 79,
   "id": "aeee2497-87bc-41d0-afa1-3531ab5c13d1",
   "metadata": {},
   "outputs": [
    {
     "data": {
      "text/plain": [
       "date    0\n",
       "ca      0\n",
       "add     0\n",
       "dtype: int64"
      ]
     },
     "execution_count": 79,
     "metadata": {},
     "output_type": "execute_result"
    }
   ],
   "source": [
    "cloud_Sejong_outer.isna().sum()"
   ]
  },
  {
   "cell_type": "markdown",
   "id": "c9aae8a0-63be-44aa-873d-9189ffdaa487",
   "metadata": {},
   "source": [
    "## 울산"
   ]
  },
  {
   "cell_type": "code",
   "execution_count": 40,
   "id": "4081fb29-5474-45f3-9c38-0e76d02db69c",
   "metadata": {},
   "outputs": [],
   "source": [
    "cloud_Ulsan_outer = pd.merge(cloud_Ulsan, days, on = ['date'], how = 'outer').sort_values(by = 'date')\n",
    "\n",
    "cloud_Ulsan_outer['ca'] = cloud_Ulsan_outer['ca'].interpolate(method = 'values')\n",
    "cloud_Ulsan_outer['ch'] = cloud_Ulsan_outer['ch'].interpolate(method = 'values')\n",
    "\n",
    "cloud_Ulsan_outer['add'] = '울산'\n",
    "del cloud_Ulsan_outer['stn_id']\n",
    "del cloud_Ulsan_outer['lat']\n",
    "del cloud_Ulsan_outer['long']\n",
    "del cloud_Ulsan_outer['ch']"
   ]
  },
  {
   "cell_type": "code",
   "execution_count": 49,
   "id": "9122700c-7ca1-4365-a7d5-98e325531af0",
   "metadata": {},
   "outputs": [
    {
     "data": {
      "text/plain": [
       "3966"
      ]
     },
     "execution_count": 49,
     "metadata": {},
     "output_type": "execute_result"
    }
   ],
   "source": [
    "len(set(cloud_Ulsan_outer['date']))"
   ]
  },
  {
   "cell_type": "code",
   "execution_count": 66,
   "id": "7dbbea1a-4771-490f-be94-e795eb17f9bb",
   "metadata": {},
   "outputs": [
    {
     "data": {
      "text/plain": [
       "date    0\n",
       "ca      0\n",
       "add     0\n",
       "dtype: int64"
      ]
     },
     "execution_count": 66,
     "metadata": {},
     "output_type": "execute_result"
    }
   ],
   "source": [
    "cloud_Gangwon_outer.isna().sum()"
   ]
  },
  {
   "cell_type": "markdown",
   "id": "6ca032c5-7c2b-4f5d-8fcb-46afe0470065",
   "metadata": {},
   "source": [
    "## 인천"
   ]
  },
  {
   "cell_type": "code",
   "execution_count": 41,
   "id": "a8602407-8a5c-4d40-8aab-71c0acd72b8e",
   "metadata": {},
   "outputs": [],
   "source": [
    "cloud_Incheon_outer = pd.merge(cloud_Incheon, days, on = ['date'], how = 'outer').sort_values(by = 'date')\n",
    "\n",
    "cloud_Incheon_outer['ca'] = cloud_Incheon_outer['ca'].interpolate(method = 'values')\n",
    "cloud_Incheon_outer['ch'] = cloud_Incheon_outer['ch'].interpolate(method = 'values')\n",
    "\n",
    "cloud_Incheon_outer['add'] = '인천'\n",
    "del cloud_Incheon_outer['stn_id']\n",
    "del cloud_Incheon_outer['lat']\n",
    "del cloud_Incheon_outer['long']\n",
    "del cloud_Incheon_outer['ch']"
   ]
  },
  {
   "cell_type": "code",
   "execution_count": 50,
   "id": "9d911811-73f7-4746-82a7-a1202b9902fb",
   "metadata": {},
   "outputs": [
    {
     "data": {
      "text/plain": [
       "3966"
      ]
     },
     "execution_count": 50,
     "metadata": {},
     "output_type": "execute_result"
    }
   ],
   "source": [
    "len(set(cloud_Incheon_outer['date']))"
   ]
  },
  {
   "cell_type": "code",
   "execution_count": 66,
   "id": "43c17647-3ed7-416b-a883-ffabfed0e2c2",
   "metadata": {},
   "outputs": [
    {
     "data": {
      "text/plain": [
       "date    0\n",
       "ca      0\n",
       "add     0\n",
       "dtype: int64"
      ]
     },
     "execution_count": 66,
     "metadata": {},
     "output_type": "execute_result"
    }
   ],
   "source": [
    "cloud_Gangwon_outer.isna().sum()"
   ]
  },
  {
   "cell_type": "markdown",
   "id": "e29a6323-9938-4064-9d66-70ae665178ba",
   "metadata": {},
   "source": [
    "## 전남"
   ]
  },
  {
   "cell_type": "code",
   "execution_count": 42,
   "id": "f0f57a01-571b-4318-928f-2a523c07ef20",
   "metadata": {},
   "outputs": [],
   "source": [
    "cloud_Jeonnam_outer = pd.merge(cloud_Jeonnam, days, on = ['date'], how = 'outer').sort_values(by = 'date')\n",
    "\n",
    "cloud_Jeonnam_outer['ca'] = cloud_Jeonnam_outer['ca'].interpolate(method = 'values')\n",
    "cloud_Jeonnam_outer['ch'] = cloud_Jeonnam_outer['ch'].interpolate(method = 'values')\n",
    "\n",
    "cloud_Jeonnam_outer['add'] = '전남'\n",
    "del cloud_Jeonnam_outer['stn_id']\n",
    "del cloud_Jeonnam_outer['lat']\n",
    "del cloud_Jeonnam_outer['long']\n",
    "del cloud_Jeonnam_outer['ch']"
   ]
  },
  {
   "cell_type": "code",
   "execution_count": 51,
   "id": "f8b08c5d-216a-4359-84a2-75cff928f703",
   "metadata": {},
   "outputs": [
    {
     "data": {
      "text/plain": [
       "3966"
      ]
     },
     "execution_count": 51,
     "metadata": {},
     "output_type": "execute_result"
    }
   ],
   "source": [
    "len(set(cloud_Jeonnam_outer['date']))"
   ]
  },
  {
   "cell_type": "code",
   "execution_count": 66,
   "id": "9ce8c364-5c0b-4744-a828-382e21c48cdd",
   "metadata": {},
   "outputs": [
    {
     "data": {
      "text/plain": [
       "date    0\n",
       "ca      0\n",
       "add     0\n",
       "dtype: int64"
      ]
     },
     "execution_count": 66,
     "metadata": {},
     "output_type": "execute_result"
    }
   ],
   "source": [
    "cloud_Gangwon_outer.isna().sum()"
   ]
  },
  {
   "cell_type": "markdown",
   "id": "421f8bf5-68a7-4dfd-a24c-ede109fa1e50",
   "metadata": {},
   "source": [
    "## 전북"
   ]
  },
  {
   "cell_type": "code",
   "execution_count": 43,
   "id": "b8a6a6d6-64ff-4252-be19-f3f13b075ec3",
   "metadata": {},
   "outputs": [],
   "source": [
    "cloud_Jeonbuk_outer = pd.merge(cloud_Jeonbuk, days, on = ['date'], how = 'outer').sort_values(by = 'date')\n",
    "\n",
    "cloud_Jeonbuk_outer['ca'] = cloud_Jeonbuk_outer['ca'].interpolate(method = 'values')\n",
    "cloud_Jeonbuk_outer['ch'] = cloud_Jeonbuk_outer['ch'].interpolate(method = 'values')\n",
    "\n",
    "cloud_Jeonbuk_outer['add'] = '전북'\n",
    "del cloud_Jeonbuk_outer['stn_id']\n",
    "del cloud_Jeonbuk_outer['lat']\n",
    "del cloud_Jeonbuk_outer['long']\n",
    "del cloud_Jeonbuk_outer['ch']"
   ]
  },
  {
   "cell_type": "code",
   "execution_count": 52,
   "id": "4af6f4d8-5d7c-47e6-81e1-16d615fc5b9b",
   "metadata": {},
   "outputs": [
    {
     "data": {
      "text/plain": [
       "3966"
      ]
     },
     "execution_count": 52,
     "metadata": {},
     "output_type": "execute_result"
    }
   ],
   "source": [
    "len(set(cloud_Jeonbuk_outer['date']))"
   ]
  },
  {
   "cell_type": "code",
   "execution_count": 66,
   "id": "99b62897-89ee-465a-b94c-4334b7f2c2d3",
   "metadata": {},
   "outputs": [
    {
     "data": {
      "text/plain": [
       "date    0\n",
       "ca      0\n",
       "add     0\n",
       "dtype: int64"
      ]
     },
     "execution_count": 66,
     "metadata": {},
     "output_type": "execute_result"
    }
   ],
   "source": [
    "cloud_Gangwon_outer.isna().sum()"
   ]
  },
  {
   "cell_type": "markdown",
   "id": "0b2fc5f6-7ebf-4f73-8e8d-98a9920da16e",
   "metadata": {},
   "source": [
    "## 제주"
   ]
  },
  {
   "cell_type": "code",
   "execution_count": 44,
   "id": "e6aa9870-ca5d-4a35-b142-270411307bee",
   "metadata": {},
   "outputs": [],
   "source": [
    "cloud_Jeju_outer = pd.merge(cloud_Jeju, days, on = ['date'], how = 'outer').sort_values(by = 'date')\n",
    "\n",
    "cloud_Jeju_outer['ca'] = cloud_Jeju_outer['ca'].interpolate(method = 'values')\n",
    "cloud_Jeju_outer['ch'] = cloud_Jeju_outer['ch'].interpolate(method = 'values')\n",
    "\n",
    "cloud_Jeju_outer['add'] = '제주'\n",
    "del cloud_Jeju_outer['stn_id']\n",
    "del cloud_Jeju_outer['lat']\n",
    "del cloud_Jeju_outer['long']\n",
    "del cloud_Jeju_outer['ch']"
   ]
  },
  {
   "cell_type": "code",
   "execution_count": 53,
   "id": "19bbf24f-a2e2-4b5b-8a35-78138ab81a97",
   "metadata": {},
   "outputs": [
    {
     "data": {
      "text/plain": [
       "3966"
      ]
     },
     "execution_count": 53,
     "metadata": {},
     "output_type": "execute_result"
    }
   ],
   "source": [
    "len(set(cloud_Jeju_outer['date']))"
   ]
  },
  {
   "cell_type": "code",
   "execution_count": 66,
   "id": "f4850283-1417-4502-9c46-1d44417c5fa2",
   "metadata": {},
   "outputs": [
    {
     "data": {
      "text/plain": [
       "date    0\n",
       "ca      0\n",
       "add     0\n",
       "dtype: int64"
      ]
     },
     "execution_count": 66,
     "metadata": {},
     "output_type": "execute_result"
    }
   ],
   "source": [
    "cloud_Gangwon_outer.isna().sum()"
   ]
  },
  {
   "cell_type": "markdown",
   "id": "e8ec57ea-cc22-4c57-a756-fab0325c1f53",
   "metadata": {},
   "source": [
    "## 충남"
   ]
  },
  {
   "cell_type": "code",
   "execution_count": 45,
   "id": "3e915eba-d1c5-42b5-b849-23993dbc3350",
   "metadata": {},
   "outputs": [],
   "source": [
    "cloud_Chungnam_outer = pd.merge(cloud_Chungnam, days, on = ['date'], how = 'outer').sort_values(by = 'date')\n",
    "\n",
    "cloud_Chungnam_outer['ca'] = cloud_Chungnam_outer['ca'].interpolate(method = 'values')\n",
    "cloud_Chungnam_outer['ch'] = cloud_Chungnam_outer['ch'].interpolate(method = 'values')\n",
    "\n",
    "cloud_Chungnam_outer['add'] = '충남'\n",
    "del cloud_Chungnam_outer['stn_id']\n",
    "del cloud_Chungnam_outer['lat']\n",
    "del cloud_Chungnam_outer['long']\n",
    "del cloud_Chungnam_outer['ch']\n"
   ]
  },
  {
   "cell_type": "code",
   "execution_count": 54,
   "id": "8dac5885-874b-4cfc-82cf-141be10e79f5",
   "metadata": {
    "tags": []
   },
   "outputs": [
    {
     "data": {
      "text/plain": [
       "3966"
      ]
     },
     "execution_count": 54,
     "metadata": {},
     "output_type": "execute_result"
    }
   ],
   "source": [
    "len(set(cloud_Chungnam_outer['date']))"
   ]
  },
  {
   "cell_type": "code",
   "execution_count": 66,
   "id": "6d8bdbcf-d0d8-4814-b215-daa7fb20b68a",
   "metadata": {},
   "outputs": [
    {
     "data": {
      "text/plain": [
       "date    0\n",
       "ca      0\n",
       "add     0\n",
       "dtype: int64"
      ]
     },
     "execution_count": 66,
     "metadata": {},
     "output_type": "execute_result"
    }
   ],
   "source": [
    "cloud_Gangwon_outer.isna().sum()"
   ]
  },
  {
   "cell_type": "markdown",
   "id": "31dc2d81-21ec-4501-8f35-a7110604e64a",
   "metadata": {},
   "source": [
    "## 충북 "
   ]
  },
  {
   "cell_type": "code",
   "execution_count": 46,
   "id": "3b25387d-8356-4926-a381-325b2ca9cece",
   "metadata": {},
   "outputs": [],
   "source": [
    "cloud_Chungbuk_outer = pd.merge(cloud_Chungbuk, days, on = ['date'], how = 'outer').sort_values(by = 'date')\n",
    "\n",
    "cloud_Chungbuk_outer['ca'] = cloud_Chungbuk_outer['ca'].interpolate(method = 'values')\n",
    "cloud_Chungbuk_outer['ch'] = cloud_Chungbuk_outer['ch'].interpolate(method = 'values')\n",
    "\n",
    "cloud_Chungbuk_outer['add'] = '충북'\n",
    "del cloud_Chungbuk_outer['stn_id']\n",
    "del cloud_Chungbuk_outer['lat']\n",
    "del cloud_Chungbuk_outer['long']\n",
    "del cloud_Chungbuk_outer['ch']"
   ]
  },
  {
   "cell_type": "code",
   "execution_count": 55,
   "id": "e08002b6-3c3f-48d9-aae5-d70e994ace62",
   "metadata": {},
   "outputs": [
    {
     "data": {
      "text/plain": [
       "3966"
      ]
     },
     "execution_count": 55,
     "metadata": {},
     "output_type": "execute_result"
    }
   ],
   "source": [
    "len(set(cloud_Chungbuk_outer['date']))"
   ]
  },
  {
   "cell_type": "code",
   "execution_count": 66,
   "id": "3647c4c6-3fd4-41c5-ae61-e19e70cb3f12",
   "metadata": {},
   "outputs": [
    {
     "data": {
      "text/plain": [
       "date    0\n",
       "ca      0\n",
       "add     0\n",
       "dtype: int64"
      ]
     },
     "execution_count": 66,
     "metadata": {},
     "output_type": "execute_result"
    }
   ],
   "source": [
    "cloud_Gangwon_outer.isna().sum()"
   ]
  },
  {
   "cell_type": "code",
   "execution_count": 80,
   "id": "20d3ddfc-614a-40c3-a65c-d3ca6cf7a692",
   "metadata": {
    "tags": []
   },
   "outputs": [],
   "source": [
    "cloud_full = pd.concat([cloud_Gangwon_outer,\n",
    "           cloud_Gyeonggi_outer, \n",
    "           cloud_Gyeongbuk_outer, \n",
    "           cloud_Gyeongnam_outer,\n",
    "           cloud_Gwangju_outer,\n",
    "           cloud_Daegu_outer,\n",
    "           cloud_Daejeon_outer,\n",
    "           cloud_Busan_outer,\n",
    "           cloud_Seoul_outer,\n",
    "           cloud_Sejong_outer,\n",
    "           cloud_Ulsan_outer,\n",
    "           cloud_Incheon_outer,\n",
    "           cloud_Jeonnam_outer,\n",
    "           cloud_Jeonbuk_outer,\n",
    "           cloud_Jeju_outer,\n",
    "           cloud_Chungnam_outer,\n",
    "           cloud_Chungbuk_outer], axis=0)\n",
    "# 날짜별 - 시도별로 정렬되어 있어야 함\n",
    "\n",
    "# cloud_full = cloud_full.rename(columns={'ca' : 'ca'})\n",
    "cloud_full = cloud_full.groupby(['date', 'add'], as_index=False).mean()\n",
    "cloud_full = cloud_full.sort_values(by = ['date','add'])\n",
    "# 66442 행이 있어야 해"
   ]
  },
  {
   "cell_type": "code",
   "execution_count": 81,
   "id": "25266d0a-67df-4a39-8a42-af1502ec7ed0",
   "metadata": {},
   "outputs": [
    {
     "data": {
      "text/html": [
       "<div>\n",
       "<style scoped>\n",
       "    .dataframe tbody tr th:only-of-type {\n",
       "        vertical-align: middle;\n",
       "    }\n",
       "\n",
       "    .dataframe tbody tr th {\n",
       "        vertical-align: top;\n",
       "    }\n",
       "\n",
       "    .dataframe thead th {\n",
       "        text-align: right;\n",
       "    }\n",
       "</style>\n",
       "<table border=\"1\" class=\"dataframe\">\n",
       "  <thead>\n",
       "    <tr style=\"text-align: right;\">\n",
       "      <th></th>\n",
       "      <th>date</th>\n",
       "      <th>add</th>\n",
       "      <th>ca</th>\n",
       "    </tr>\n",
       "  </thead>\n",
       "  <tbody>\n",
       "    <tr>\n",
       "      <th>0</th>\n",
       "      <td>2012-01-01</td>\n",
       "      <td>강원</td>\n",
       "      <td>5.953846</td>\n",
       "    </tr>\n",
       "    <tr>\n",
       "      <th>1</th>\n",
       "      <td>2012-01-01</td>\n",
       "      <td>경기</td>\n",
       "      <td>4.880000</td>\n",
       "    </tr>\n",
       "    <tr>\n",
       "      <th>2</th>\n",
       "      <td>2012-01-01</td>\n",
       "      <td>경남</td>\n",
       "      <td>4.075000</td>\n",
       "    </tr>\n",
       "    <tr>\n",
       "      <th>3</th>\n",
       "      <td>2012-01-01</td>\n",
       "      <td>경북</td>\n",
       "      <td>5.325000</td>\n",
       "    </tr>\n",
       "    <tr>\n",
       "      <th>4</th>\n",
       "      <td>2012-01-01</td>\n",
       "      <td>광주</td>\n",
       "      <td>8.300000</td>\n",
       "    </tr>\n",
       "    <tr>\n",
       "      <th>...</th>\n",
       "      <td>...</td>\n",
       "      <td>...</td>\n",
       "      <td>...</td>\n",
       "    </tr>\n",
       "    <tr>\n",
       "      <th>67264</th>\n",
       "      <td>2022-10-31</td>\n",
       "      <td>전남</td>\n",
       "      <td>2.784615</td>\n",
       "    </tr>\n",
       "    <tr>\n",
       "      <th>67265</th>\n",
       "      <td>2022-10-31</td>\n",
       "      <td>전북</td>\n",
       "      <td>3.620000</td>\n",
       "    </tr>\n",
       "    <tr>\n",
       "      <th>67266</th>\n",
       "      <td>2022-10-31</td>\n",
       "      <td>제주</td>\n",
       "      <td>3.325000</td>\n",
       "    </tr>\n",
       "    <tr>\n",
       "      <th>67267</th>\n",
       "      <td>2022-10-31</td>\n",
       "      <td>충남</td>\n",
       "      <td>4.471429</td>\n",
       "    </tr>\n",
       "    <tr>\n",
       "      <th>67268</th>\n",
       "      <td>2022-10-31</td>\n",
       "      <td>충북</td>\n",
       "      <td>4.620000</td>\n",
       "    </tr>\n",
       "  </tbody>\n",
       "</table>\n",
       "<p>67269 rows × 3 columns</p>\n",
       "</div>"
      ],
      "text/plain": [
       "            date add        ca\n",
       "0     2012-01-01  강원  5.953846\n",
       "1     2012-01-01  경기  4.880000\n",
       "2     2012-01-01  경남  4.075000\n",
       "3     2012-01-01  경북  5.325000\n",
       "4     2012-01-01  광주  8.300000\n",
       "...          ...  ..       ...\n",
       "67264 2022-10-31  전남  2.784615\n",
       "67265 2022-10-31  전북  3.620000\n",
       "67266 2022-10-31  제주  3.325000\n",
       "67267 2022-10-31  충남  4.471429\n",
       "67268 2022-10-31  충북  4.620000\n",
       "\n",
       "[67269 rows x 3 columns]"
      ]
     },
     "execution_count": 81,
     "metadata": {},
     "output_type": "execute_result"
    }
   ],
   "source": [
    "cloud_full.iloc[:67269]"
   ]
  },
  {
   "cell_type": "code",
   "execution_count": 82,
   "id": "3c51f724-fae2-409f-accd-779e939de1f8",
   "metadata": {},
   "outputs": [
    {
     "data": {
      "text/plain": [
       "date    0\n",
       "add     0\n",
       "ca      0\n",
       "dtype: int64"
      ]
     },
     "execution_count": 82,
     "metadata": {},
     "output_type": "execute_result"
    }
   ],
   "source": [
    "cloud_full.isna().sum()"
   ]
  },
  {
   "cell_type": "code",
   "execution_count": 83,
   "id": "b6cad259-2c78-40b2-8f55-744e4c7ab9aa",
   "metadata": {},
   "outputs": [],
   "source": [
    "cloud_full.iloc[:67269].to_csv('../data/cloud_for_merge.csv')"
   ]
  },
  {
   "cell_type": "code",
   "execution_count": 151,
   "id": "57402b8f-1df2-42ef-8f39-465cd4958fea",
   "metadata": {},
   "outputs": [
    {
     "data": {
      "text/html": [
       "<div>\n",
       "<style scoped>\n",
       "    .dataframe tbody tr th:only-of-type {\n",
       "        vertical-align: middle;\n",
       "    }\n",
       "\n",
       "    .dataframe tbody tr th {\n",
       "        vertical-align: top;\n",
       "    }\n",
       "\n",
       "    .dataframe thead th {\n",
       "        text-align: right;\n",
       "    }\n",
       "</style>\n",
       "<table border=\"1\" class=\"dataframe\">\n",
       "  <thead>\n",
       "    <tr style=\"text-align: right;\">\n",
       "      <th></th>\n",
       "      <th>date</th>\n",
       "      <th>add</th>\n",
       "      <th>ca</th>\n",
       "    </tr>\n",
       "  </thead>\n",
       "  <tbody>\n",
       "    <tr>\n",
       "      <th>0</th>\n",
       "      <td>2012-01-01</td>\n",
       "      <td>강원</td>\n",
       "      <td>5.953846</td>\n",
       "    </tr>\n",
       "    <tr>\n",
       "      <th>1</th>\n",
       "      <td>2012-01-01</td>\n",
       "      <td>경기</td>\n",
       "      <td>4.880000</td>\n",
       "    </tr>\n",
       "    <tr>\n",
       "      <th>2</th>\n",
       "      <td>2012-01-01</td>\n",
       "      <td>경남</td>\n",
       "      <td>4.075000</td>\n",
       "    </tr>\n",
       "    <tr>\n",
       "      <th>3</th>\n",
       "      <td>2012-01-01</td>\n",
       "      <td>경북</td>\n",
       "      <td>5.325000</td>\n",
       "    </tr>\n",
       "    <tr>\n",
       "      <th>4</th>\n",
       "      <td>2012-01-01</td>\n",
       "      <td>광주</td>\n",
       "      <td>8.300000</td>\n",
       "    </tr>\n",
       "    <tr>\n",
       "      <th>...</th>\n",
       "      <td>...</td>\n",
       "      <td>...</td>\n",
       "      <td>...</td>\n",
       "    </tr>\n",
       "    <tr>\n",
       "      <th>63451</th>\n",
       "      <td>2022-11-09</td>\n",
       "      <td>전남</td>\n",
       "      <td>3.669231</td>\n",
       "    </tr>\n",
       "    <tr>\n",
       "      <th>63452</th>\n",
       "      <td>2022-11-09</td>\n",
       "      <td>전북</td>\n",
       "      <td>6.200000</td>\n",
       "    </tr>\n",
       "    <tr>\n",
       "      <th>63453</th>\n",
       "      <td>2022-11-09</td>\n",
       "      <td>제주</td>\n",
       "      <td>2.500000</td>\n",
       "    </tr>\n",
       "    <tr>\n",
       "      <th>63454</th>\n",
       "      <td>2022-11-09</td>\n",
       "      <td>충남</td>\n",
       "      <td>6.800000</td>\n",
       "    </tr>\n",
       "    <tr>\n",
       "      <th>63455</th>\n",
       "      <td>2022-11-09</td>\n",
       "      <td>충북</td>\n",
       "      <td>5.380000</td>\n",
       "    </tr>\n",
       "  </tbody>\n",
       "</table>\n",
       "<p>63456 rows × 3 columns</p>\n",
       "</div>"
      ],
      "text/plain": [
       "            date add        ca\n",
       "0     2012-01-01  강원  5.953846\n",
       "1     2012-01-01  경기  4.880000\n",
       "2     2012-01-01  경남  4.075000\n",
       "3     2012-01-01  경북  5.325000\n",
       "4     2012-01-01  광주  8.300000\n",
       "...          ...  ..       ...\n",
       "63451 2022-11-09  전남  3.669231\n",
       "63452 2022-11-09  전북  6.200000\n",
       "63453 2022-11-09  제주  2.500000\n",
       "63454 2022-11-09  충남  6.800000\n",
       "63455 2022-11-09  충북  5.380000\n",
       "\n",
       "[63456 rows x 3 columns]"
      ]
     },
     "execution_count": 151,
     "metadata": {},
     "output_type": "execute_result"
    }
   ],
   "source": [
    "cloud_full"
   ]
  },
  {
   "cell_type": "code",
   "execution_count": 10,
   "id": "0dc445a5-e02f-4b0b-a68d-3d7669a8cd9f",
   "metadata": {},
   "outputs": [
    {
     "data": {
      "text/html": [
       "<div>\n",
       "<style scoped>\n",
       "    .dataframe tbody tr th:only-of-type {\n",
       "        vertical-align: middle;\n",
       "    }\n",
       "\n",
       "    .dataframe tbody tr th {\n",
       "        vertical-align: top;\n",
       "    }\n",
       "\n",
       "    .dataframe thead th {\n",
       "        text-align: right;\n",
       "    }\n",
       "</style>\n",
       "<table border=\"1\" class=\"dataframe\">\n",
       "  <thead>\n",
       "    <tr style=\"text-align: right;\">\n",
       "      <th></th>\n",
       "      <th>date</th>\n",
       "      <th>add</th>\n",
       "      <th>ca</th>\n",
       "    </tr>\n",
       "  </thead>\n",
       "  <tbody>\n",
       "    <tr>\n",
       "      <th>0</th>\n",
       "      <td>2012.1.1</td>\n",
       "      <td>媛__</td>\n",
       "      <td>5.953846</td>\n",
       "    </tr>\n",
       "    <tr>\n",
       "      <th>1</th>\n",
       "      <td>2012.1.1</td>\n",
       "      <td>寃쎄린</td>\n",
       "      <td>4.880000</td>\n",
       "    </tr>\n",
       "    <tr>\n",
       "      <th>2</th>\n",
       "      <td>2012.1.1</td>\n",
       "      <td>寃쎈_</td>\n",
       "      <td>4.075000</td>\n",
       "    </tr>\n",
       "    <tr>\n",
       "      <th>3</th>\n",
       "      <td>2012.1.1</td>\n",
       "      <td>寃쎈_</td>\n",
       "      <td>5.325000</td>\n",
       "    </tr>\n",
       "    <tr>\n",
       "      <th>4</th>\n",
       "      <td>2012.1.1</td>\n",
       "      <td>愿_＜</td>\n",
       "      <td>8.300000</td>\n",
       "    </tr>\n",
       "    <tr>\n",
       "      <th>...</th>\n",
       "      <td>...</td>\n",
       "      <td>...</td>\n",
       "      <td>...</td>\n",
       "    </tr>\n",
       "    <tr>\n",
       "      <th>63307</th>\n",
       "      <td>2022.10.31</td>\n",
       "      <td>__</td>\n",
       "      <td>2.784615</td>\n",
       "    </tr>\n",
       "    <tr>\n",
       "      <th>63308</th>\n",
       "      <td>2022.10.31</td>\n",
       "      <td>__</td>\n",
       "      <td>3.620000</td>\n",
       "    </tr>\n",
       "    <tr>\n",
       "      <th>63309</th>\n",
       "      <td>2022.10.31</td>\n",
       "      <td>_＜</td>\n",
       "      <td>3.325000</td>\n",
       "    </tr>\n",
       "    <tr>\n",
       "      <th>63310</th>\n",
       "      <td>2022.10.31</td>\n",
       "      <td>異⑸_</td>\n",
       "      <td>4.471429</td>\n",
       "    </tr>\n",
       "    <tr>\n",
       "      <th>63311</th>\n",
       "      <td>2022.10.31</td>\n",
       "      <td>異⑸_</td>\n",
       "      <td>4.620000</td>\n",
       "    </tr>\n",
       "  </tbody>\n",
       "</table>\n",
       "<p>63312 rows × 3 columns</p>\n",
       "</div>"
      ],
      "text/plain": [
       "             date  add        ca\n",
       "0        2012.1.1  媛__  5.953846\n",
       "1        2012.1.1  寃쎄린  4.880000\n",
       "2        2012.1.1  寃쎈_  4.075000\n",
       "3        2012.1.1  寃쎈_  5.325000\n",
       "4        2012.1.1  愿_＜  8.300000\n",
       "...           ...  ...       ...\n",
       "63307  2022.10.31   __  2.784615\n",
       "63308  2022.10.31   __  3.620000\n",
       "63309  2022.10.31   _＜  3.325000\n",
       "63310  2022.10.31  異⑸_  4.471429\n",
       "63311  2022.10.31  異⑸_  4.620000\n",
       "\n",
       "[63312 rows x 3 columns]"
      ]
     },
     "execution_count": 10,
     "metadata": {},
     "output_type": "execute_result"
    }
   ],
   "source": [
    "pd.read_csv('../data/cloud_for_merge2.csv', index_col = 0)\n",
    "#그냥 손으로 없애야 겠다"
   ]
  },
  {
   "cell_type": "markdown",
   "id": "bc99d086-d53b-445b-88df-f8e72c40cab7",
   "metadata": {},
   "source": [
    "# -------------------------------------"
   ]
  },
  {
   "cell_type": "code",
   "execution_count": 113,
   "id": "5653a74f-18b5-489a-a24d-0ab96c568105",
   "metadata": {},
   "outputs": [],
   "source": [
    "to_imp = pd.read_csv('../data/cloud_median.csv')\n",
    "to_imp['date'] = pd.to_datetime(to_imp['date'])\n",
    "to_imp['date'] = pd.to_datetime(to_imp['date'], format='%Y-%m-%d')"
   ]
  },
  {
   "cell_type": "code",
   "execution_count": 118,
   "id": "9766eca9-80e9-42a8-9ab3-7e893897aaf9",
   "metadata": {},
   "outputs": [
    {
     "data": {
      "text/html": [
       "<div>\n",
       "<style scoped>\n",
       "    .dataframe tbody tr th:only-of-type {\n",
       "        vertical-align: middle;\n",
       "    }\n",
       "\n",
       "    .dataframe tbody tr th {\n",
       "        vertical-align: top;\n",
       "    }\n",
       "\n",
       "    .dataframe thead th {\n",
       "        text-align: right;\n",
       "    }\n",
       "</style>\n",
       "<table border=\"1\" class=\"dataframe\">\n",
       "  <thead>\n",
       "    <tr style=\"text-align: right;\">\n",
       "      <th></th>\n",
       "      <th>Unnamed: 0</th>\n",
       "      <th>date</th>\n",
       "      <th>add</th>\n",
       "      <th>stn_id</th>\n",
       "      <th>cloud.ca</th>\n",
       "      <th>cloud.ch</th>\n",
       "      <th>lat</th>\n",
       "      <th>long</th>\n",
       "    </tr>\n",
       "  </thead>\n",
       "  <tbody>\n",
       "    <tr>\n",
       "      <th>0</th>\n",
       "      <td>0</td>\n",
       "      <td>2012-02-01</td>\n",
       "      <td>강원</td>\n",
       "      <td>114.0</td>\n",
       "      <td>7.000000</td>\n",
       "      <td>10.000000</td>\n",
       "      <td>37.337495</td>\n",
       "      <td>128.457415</td>\n",
       "    </tr>\n",
       "    <tr>\n",
       "      <th>1</th>\n",
       "      <td>1</td>\n",
       "      <td>2012-02-01</td>\n",
       "      <td>경기</td>\n",
       "      <td>161.0</td>\n",
       "      <td>3.500000</td>\n",
       "      <td>10.000000</td>\n",
       "      <td>37.260728</td>\n",
       "      <td>127.233603</td>\n",
       "    </tr>\n",
       "    <tr>\n",
       "      <th>2</th>\n",
       "      <td>2</td>\n",
       "      <td>2012-02-01</td>\n",
       "      <td>경남</td>\n",
       "      <td>192.0</td>\n",
       "      <td>6.000000</td>\n",
       "      <td>10.000000</td>\n",
       "      <td>35.170195</td>\n",
       "      <td>128.040020</td>\n",
       "    </tr>\n",
       "    <tr>\n",
       "      <th>3</th>\n",
       "      <td>3</td>\n",
       "      <td>2012-02-01</td>\n",
       "      <td>경북</td>\n",
       "      <td>115.0</td>\n",
       "      <td>6.000000</td>\n",
       "      <td>8.000000</td>\n",
       "      <td>37.481133</td>\n",
       "      <td>130.898795</td>\n",
       "    </tr>\n",
       "    <tr>\n",
       "      <th>4</th>\n",
       "      <td>4</td>\n",
       "      <td>2012-02-01</td>\n",
       "      <td>광주</td>\n",
       "      <td>156.0</td>\n",
       "      <td>6.000000</td>\n",
       "      <td>10.000000</td>\n",
       "      <td>35.172920</td>\n",
       "      <td>126.891580</td>\n",
       "    </tr>\n",
       "    <tr>\n",
       "      <th>...</th>\n",
       "      <td>...</td>\n",
       "      <td>...</td>\n",
       "      <td>...</td>\n",
       "      <td>...</td>\n",
       "      <td>...</td>\n",
       "      <td>...</td>\n",
       "      <td>...</td>\n",
       "      <td>...</td>\n",
       "    </tr>\n",
       "    <tr>\n",
       "      <th>54247</th>\n",
       "      <td>3238</td>\n",
       "      <td>2022-10-26</td>\n",
       "      <td>세종</td>\n",
       "      <td>147.0</td>\n",
       "      <td>7.500000</td>\n",
       "      <td>60.000000</td>\n",
       "      <td>36.556252</td>\n",
       "      <td>127.166832</td>\n",
       "    </tr>\n",
       "    <tr>\n",
       "      <th>54248</th>\n",
       "      <td>3239</td>\n",
       "      <td>2022-10-27</td>\n",
       "      <td>세종</td>\n",
       "      <td>147.0</td>\n",
       "      <td>5.666667</td>\n",
       "      <td>57.666667</td>\n",
       "      <td>36.556252</td>\n",
       "      <td>127.166832</td>\n",
       "    </tr>\n",
       "    <tr>\n",
       "      <th>54249</th>\n",
       "      <td>3240</td>\n",
       "      <td>2022-10-28</td>\n",
       "      <td>세종</td>\n",
       "      <td>147.0</td>\n",
       "      <td>9.000000</td>\n",
       "      <td>2.500000</td>\n",
       "      <td>36.556252</td>\n",
       "      <td>127.166832</td>\n",
       "    </tr>\n",
       "    <tr>\n",
       "      <th>54250</th>\n",
       "      <td>3241</td>\n",
       "      <td>2022-10-29</td>\n",
       "      <td>세종</td>\n",
       "      <td>147.0</td>\n",
       "      <td>3.666667</td>\n",
       "      <td>26.666667</td>\n",
       "      <td>36.556252</td>\n",
       "      <td>127.166832</td>\n",
       "    </tr>\n",
       "    <tr>\n",
       "      <th>54251</th>\n",
       "      <td>3242</td>\n",
       "      <td>2022-10-30</td>\n",
       "      <td>세종</td>\n",
       "      <td>147.0</td>\n",
       "      <td>4.833333</td>\n",
       "      <td>19.500000</td>\n",
       "      <td>36.556252</td>\n",
       "      <td>127.166832</td>\n",
       "    </tr>\n",
       "  </tbody>\n",
       "</table>\n",
       "<p>54252 rows × 8 columns</p>\n",
       "</div>"
      ],
      "text/plain": [
       "       Unnamed: 0       date add  stn_id  cloud.ca   cloud.ch        lat  \\\n",
       "0               0 2012-02-01  강원   114.0  7.000000  10.000000  37.337495   \n",
       "1               1 2012-02-01  경기   161.0  3.500000  10.000000  37.260728   \n",
       "2               2 2012-02-01  경남   192.0  6.000000  10.000000  35.170195   \n",
       "3               3 2012-02-01  경북   115.0  6.000000   8.000000  37.481133   \n",
       "4               4 2012-02-01  광주   156.0  6.000000  10.000000  35.172920   \n",
       "...           ...        ...  ..     ...       ...        ...        ...   \n",
       "54247        3238 2022-10-26  세종   147.0  7.500000  60.000000  36.556252   \n",
       "54248        3239 2022-10-27  세종   147.0  5.666667  57.666667  36.556252   \n",
       "54249        3240 2022-10-28  세종   147.0  9.000000   2.500000  36.556252   \n",
       "54250        3241 2022-10-29  세종   147.0  3.666667  26.666667  36.556252   \n",
       "54251        3242 2022-10-30  세종   147.0  4.833333  19.500000  36.556252   \n",
       "\n",
       "             long  \n",
       "0      128.457415  \n",
       "1      127.233603  \n",
       "2      128.040020  \n",
       "3      130.898795  \n",
       "4      126.891580  \n",
       "...           ...  \n",
       "54247  127.166832  \n",
       "54248  127.166832  \n",
       "54249  127.166832  \n",
       "54250  127.166832  \n",
       "54251  127.166832  \n",
       "\n",
       "[54252 rows x 8 columns]"
      ]
     },
     "execution_count": 118,
     "metadata": {},
     "output_type": "execute_result"
    }
   ],
   "source": [
    "to_imp"
   ]
  },
  {
   "cell_type": "code",
   "execution_count": 112,
   "id": "844cbd22-2ffa-47d2-b744-6667eff84e17",
   "metadata": {},
   "outputs": [
    {
     "data": {
      "text/html": [
       "<div>\n",
       "<style scoped>\n",
       "    .dataframe tbody tr th:only-of-type {\n",
       "        vertical-align: middle;\n",
       "    }\n",
       "\n",
       "    .dataframe tbody tr th {\n",
       "        vertical-align: top;\n",
       "    }\n",
       "\n",
       "    .dataframe thead th {\n",
       "        text-align: right;\n",
       "    }\n",
       "</style>\n",
       "<table border=\"1\" class=\"dataframe\">\n",
       "  <thead>\n",
       "    <tr style=\"text-align: right;\">\n",
       "      <th></th>\n",
       "      <th>date</th>\n",
       "      <th>add</th>\n",
       "      <th>ca</th>\n",
       "      <th>ch</th>\n",
       "    </tr>\n",
       "  </thead>\n",
       "  <tbody>\n",
       "    <tr>\n",
       "      <th>0</th>\n",
       "      <td>2012-01-01</td>\n",
       "      <td>강원</td>\n",
       "      <td>5.953846</td>\n",
       "      <td>NaN</td>\n",
       "    </tr>\n",
       "    <tr>\n",
       "      <th>1</th>\n",
       "      <td>2012-01-01</td>\n",
       "      <td>경기</td>\n",
       "      <td>4.880000</td>\n",
       "      <td>NaN</td>\n",
       "    </tr>\n",
       "    <tr>\n",
       "      <th>2</th>\n",
       "      <td>2012-01-01</td>\n",
       "      <td>경남</td>\n",
       "      <td>4.075000</td>\n",
       "      <td>NaN</td>\n",
       "    </tr>\n",
       "    <tr>\n",
       "      <th>3</th>\n",
       "      <td>2012-01-01</td>\n",
       "      <td>경북</td>\n",
       "      <td>5.325000</td>\n",
       "      <td>NaN</td>\n",
       "    </tr>\n",
       "    <tr>\n",
       "      <th>4</th>\n",
       "      <td>2012-01-01</td>\n",
       "      <td>광주</td>\n",
       "      <td>8.300000</td>\n",
       "      <td>NaN</td>\n",
       "    </tr>\n",
       "    <tr>\n",
       "      <th>...</th>\n",
       "      <td>...</td>\n",
       "      <td>...</td>\n",
       "      <td>...</td>\n",
       "      <td>...</td>\n",
       "    </tr>\n",
       "    <tr>\n",
       "      <th>3066</th>\n",
       "      <td>2012-07-10</td>\n",
       "      <td>인천</td>\n",
       "      <td>9.283333</td>\n",
       "      <td>NaN</td>\n",
       "    </tr>\n",
       "    <tr>\n",
       "      <th>3082</th>\n",
       "      <td>2012-07-11</td>\n",
       "      <td>인천</td>\n",
       "      <td>9.000000</td>\n",
       "      <td>NaN</td>\n",
       "    </tr>\n",
       "    <tr>\n",
       "      <th>3098</th>\n",
       "      <td>2012-07-12</td>\n",
       "      <td>인천</td>\n",
       "      <td>9.233333</td>\n",
       "      <td>NaN</td>\n",
       "    </tr>\n",
       "    <tr>\n",
       "      <th>3114</th>\n",
       "      <td>2012-07-13</td>\n",
       "      <td>인천</td>\n",
       "      <td>8.966667</td>\n",
       "      <td>NaN</td>\n",
       "    </tr>\n",
       "    <tr>\n",
       "      <th>3130</th>\n",
       "      <td>2012-07-14</td>\n",
       "      <td>인천</td>\n",
       "      <td>9.433333</td>\n",
       "      <td>NaN</td>\n",
       "    </tr>\n",
       "  </tbody>\n",
       "</table>\n",
       "<p>801 rows × 4 columns</p>\n",
       "</div>"
      ],
      "text/plain": [
       "           date add        ca  ch\n",
       "0    2012-01-01  강원  5.953846 NaN\n",
       "1    2012-01-01  경기  4.880000 NaN\n",
       "2    2012-01-01  경남  4.075000 NaN\n",
       "3    2012-01-01  경북  5.325000 NaN\n",
       "4    2012-01-01  광주  8.300000 NaN\n",
       "...         ...  ..       ...  ..\n",
       "3066 2012-07-10  인천  9.283333 NaN\n",
       "3082 2012-07-11  인천  9.000000 NaN\n",
       "3098 2012-07-12  인천  9.233333 NaN\n",
       "3114 2012-07-13  인천  8.966667 NaN\n",
       "3130 2012-07-14  인천  9.433333 NaN\n",
       "\n",
       "[801 rows x 4 columns]"
      ]
     },
     "execution_count": 112,
     "metadata": {},
     "output_type": "execute_result"
    }
   ],
   "source": [
    "cloud_full[cloud_full['ch'].isna()]"
   ]
  },
  {
   "cell_type": "code",
   "execution_count": 116,
   "id": "b8ece031-2966-4513-a2be-dcead93a94b0",
   "metadata": {},
   "outputs": [],
   "source": [
    "imp = pd.merge(cloud_full[cloud_full['ch'].isna()], to_imp, on = ['date', 'add']).sort_values(by = 'date')\n",
    "del imp['cloud.ca']\n",
    "del imp['ch']\n",
    "del imp['Unnamed: 0']\n",
    "del imp['lat']\n",
    "del imp['long']\n",
    "\n",
    "imp = imp.rename(columns={'cloud.ch' : 'ch'})"
   ]
  },
  {
   "cell_type": "code",
   "execution_count": 117,
   "id": "619dfc34-c176-4679-a751-3bd758bd5100",
   "metadata": {},
   "outputs": [
    {
     "data": {
      "text/html": [
       "<div>\n",
       "<style scoped>\n",
       "    .dataframe tbody tr th:only-of-type {\n",
       "        vertical-align: middle;\n",
       "    }\n",
       "\n",
       "    .dataframe tbody tr th {\n",
       "        vertical-align: top;\n",
       "    }\n",
       "\n",
       "    .dataframe thead th {\n",
       "        text-align: right;\n",
       "    }\n",
       "</style>\n",
       "<table border=\"1\" class=\"dataframe\">\n",
       "  <thead>\n",
       "    <tr style=\"text-align: right;\">\n",
       "      <th></th>\n",
       "      <th>date</th>\n",
       "      <th>add</th>\n",
       "      <th>ca</th>\n",
       "      <th>stn_id</th>\n",
       "      <th>ch</th>\n",
       "    </tr>\n",
       "  </thead>\n",
       "  <tbody>\n",
       "    <tr>\n",
       "      <th>0</th>\n",
       "      <td>2012-02-01</td>\n",
       "      <td>경기</td>\n",
       "      <td>0.828000</td>\n",
       "      <td>161.0</td>\n",
       "      <td>10.0</td>\n",
       "    </tr>\n",
       "    <tr>\n",
       "      <th>1</th>\n",
       "      <td>2012-02-01</td>\n",
       "      <td>대구</td>\n",
       "      <td>1.600000</td>\n",
       "      <td>143.0</td>\n",
       "      <td>10.0</td>\n",
       "    </tr>\n",
       "    <tr>\n",
       "      <th>2</th>\n",
       "      <td>2012-02-01</td>\n",
       "      <td>대전</td>\n",
       "      <td>2.600000</td>\n",
       "      <td>133.0</td>\n",
       "      <td>12.0</td>\n",
       "    </tr>\n",
       "    <tr>\n",
       "      <th>3</th>\n",
       "      <td>2012-02-01</td>\n",
       "      <td>부산</td>\n",
       "      <td>1.400000</td>\n",
       "      <td>159.0</td>\n",
       "      <td>10.0</td>\n",
       "    </tr>\n",
       "    <tr>\n",
       "      <th>4</th>\n",
       "      <td>2012-02-01</td>\n",
       "      <td>서울</td>\n",
       "      <td>0.000000</td>\n",
       "      <td>108.0</td>\n",
       "      <td>10.0</td>\n",
       "    </tr>\n",
       "    <tr>\n",
       "      <th>...</th>\n",
       "      <td>...</td>\n",
       "      <td>...</td>\n",
       "      <td>...</td>\n",
       "      <td>...</td>\n",
       "      <td>...</td>\n",
       "    </tr>\n",
       "    <tr>\n",
       "      <th>395</th>\n",
       "      <td>2012-07-10</td>\n",
       "      <td>인천</td>\n",
       "      <td>9.283333</td>\n",
       "      <td>102.0</td>\n",
       "      <td>24.0</td>\n",
       "    </tr>\n",
       "    <tr>\n",
       "      <th>396</th>\n",
       "      <td>2012-07-11</td>\n",
       "      <td>인천</td>\n",
       "      <td>9.000000</td>\n",
       "      <td>112.0</td>\n",
       "      <td>10.0</td>\n",
       "    </tr>\n",
       "    <tr>\n",
       "      <th>397</th>\n",
       "      <td>2012-07-12</td>\n",
       "      <td>인천</td>\n",
       "      <td>9.233333</td>\n",
       "      <td>112.0</td>\n",
       "      <td>10.0</td>\n",
       "    </tr>\n",
       "    <tr>\n",
       "      <th>398</th>\n",
       "      <td>2012-07-13</td>\n",
       "      <td>인천</td>\n",
       "      <td>8.966667</td>\n",
       "      <td>112.0</td>\n",
       "      <td>10.0</td>\n",
       "    </tr>\n",
       "    <tr>\n",
       "      <th>399</th>\n",
       "      <td>2012-07-14</td>\n",
       "      <td>인천</td>\n",
       "      <td>9.433333</td>\n",
       "      <td>112.0</td>\n",
       "      <td>10.0</td>\n",
       "    </tr>\n",
       "  </tbody>\n",
       "</table>\n",
       "<p>400 rows × 5 columns</p>\n",
       "</div>"
      ],
      "text/plain": [
       "          date add        ca  stn_id    ch\n",
       "0   2012-02-01  경기  0.828000   161.0  10.0\n",
       "1   2012-02-01  대구  1.600000   143.0  10.0\n",
       "2   2012-02-01  대전  2.600000   133.0  12.0\n",
       "3   2012-02-01  부산  1.400000   159.0  10.0\n",
       "4   2012-02-01  서울  0.000000   108.0  10.0\n",
       "..         ...  ..       ...     ...   ...\n",
       "395 2012-07-10  인천  9.283333   102.0  24.0\n",
       "396 2012-07-11  인천  9.000000   112.0  10.0\n",
       "397 2012-07-12  인천  9.233333   112.0  10.0\n",
       "398 2012-07-13  인천  8.966667   112.0  10.0\n",
       "399 2012-07-14  인천  9.433333   112.0  10.0\n",
       "\n",
       "[400 rows x 5 columns]"
      ]
     },
     "execution_count": 117,
     "metadata": {},
     "output_type": "execute_result"
    }
   ],
   "source": [
    "imp"
   ]
  },
  {
   "cell_type": "code",
   "execution_count": null,
   "id": "c148ad7f-0f22-41d0-b731-84333faf8cb7",
   "metadata": {},
   "outputs": [],
   "source": [
    "cloud_full[cloud_full['ch'].isna()]"
   ]
  }
 ],
 "metadata": {
  "environment": {
   "kernel": "python3",
   "name": "r-cpu.4-1.m97",
   "type": "gcloud",
   "uri": "gcr.io/deeplearning-platform-release/r-cpu.4-1:m97"
  },
  "kernelspec": {
   "display_name": "Python 3",
   "language": "python",
   "name": "python3"
  },
  "language_info": {
   "codemirror_mode": {
    "name": "ipython",
    "version": 3
   },
   "file_extension": ".py",
   "mimetype": "text/x-python",
   "name": "python",
   "nbconvert_exporter": "python",
   "pygments_lexer": "ipython3",
   "version": "3.7.12"
  }
 },
 "nbformat": 4,
 "nbformat_minor": 5
}
