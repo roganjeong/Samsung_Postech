{
 "cells": [
  {
   "cell_type": "code",
   "execution_count": 2,
   "id": "625617f6-ba58-4ff3-9af9-009f02099ca4",
   "metadata": {},
   "outputs": [],
   "source": [
    "# from google.colab import files\n",
    "# from google.colab import drive\n",
    "import os\n",
    "import io\n",
    "import pandas as pd\n",
    "import missingno as msno\n",
    "import seaborn as sns\n",
    "import matplotlib.pyplot as plt\n",
    "import scipy.stats as stats\n",
    "from scipy.stats import chisquare\n",
    "import numpy as np\n",
    "\n",
    "from datetime import datetime\n",
    "# drive.mount('/content/drive') #/MyDrive/Colab Notebooks/데이터/기상데이터"
   ]
  },
  {
   "cell_type": "code",
   "execution_count": 10,
   "id": "69bad4c4-5b38-430b-bfe9-bdfee4f6a83d",
   "metadata": {},
   "outputs": [],
   "source": [
    "ta = pd.read_csv('../data/wind.csv', index_col = 0)\n",
    "lon_lat = pd.read_csv('../data//mapping_0713.csv', index_col = 0)\n",
    "\n",
    "ta = ta.rename(columns = {'a.tma' : 'tma', 'a.stn_id' : 'stn_id', 'a.avg_ta' : 'avg_ta'})\n",
    "\n",
    "# ta = pd.merge(ta, lon_lat, on = ['stn_id'])\n",
    "\n",
    "ta['date'] = ta['tma'].map(lambda date_ta: date_ta[:10])\n",
    "ta['time'] = ta['tma'].map(lambda time_ta: time_ta[11:-2])\n",
    "ta['date'] = pd.to_datetime(ta['date'], format='%Y-%m-%d')\n",
    "ta['time'] = pd.to_datetime(ta['time'], format='%H:%M:%S')\n",
    "\n",
    "\n",
    "ta_ds = ta.groupby(['date', 'stn_id'], as_index=False).median()\n",
    "\n",
    "ta_ds = pd.merge(ta_ds, lon_lat, on = ['stn_id'])\n",
    "\n",
    "del ta_ds['name']\n",
    "del ta_ds['address']\n",
    "\n",
    "ta = ta_ds"
   ]
  },
  {
   "cell_type": "code",
   "execution_count": 11,
   "id": "4a333d02-8f73-4d26-93da-70d3a1751b99",
   "metadata": {},
   "outputs": [
    {
     "data": {
      "text/html": [
       "<div>\n",
       "<style scoped>\n",
       "    .dataframe tbody tr th:only-of-type {\n",
       "        vertical-align: middle;\n",
       "    }\n",
       "\n",
       "    .dataframe tbody tr th {\n",
       "        vertical-align: top;\n",
       "    }\n",
       "\n",
       "    .dataframe thead th {\n",
       "        text-align: right;\n",
       "    }\n",
       "</style>\n",
       "<table border=\"1\" class=\"dataframe\">\n",
       "  <thead>\n",
       "    <tr style=\"text-align: right;\">\n",
       "      <th></th>\n",
       "      <th>date</th>\n",
       "      <th>stn_id</th>\n",
       "      <th>avg_ta</th>\n",
       "      <th>lat</th>\n",
       "      <th>long</th>\n",
       "      <th>add</th>\n",
       "    </tr>\n",
       "  </thead>\n",
       "  <tbody>\n",
       "    <tr>\n",
       "      <th>0</th>\n",
       "      <td>2012-01-01</td>\n",
       "      <td>12</td>\n",
       "      <td>-0.9</td>\n",
       "      <td>36.53330</td>\n",
       "      <td>126.31670</td>\n",
       "      <td>충남</td>\n",
       "    </tr>\n",
       "    <tr>\n",
       "      <th>1</th>\n",
       "      <td>2012-01-02</td>\n",
       "      <td>12</td>\n",
       "      <td>-2.4</td>\n",
       "      <td>36.53330</td>\n",
       "      <td>126.31670</td>\n",
       "      <td>충남</td>\n",
       "    </tr>\n",
       "    <tr>\n",
       "      <th>2</th>\n",
       "      <td>2012-01-03</td>\n",
       "      <td>12</td>\n",
       "      <td>-1.6</td>\n",
       "      <td>36.53330</td>\n",
       "      <td>126.31670</td>\n",
       "      <td>충남</td>\n",
       "    </tr>\n",
       "    <tr>\n",
       "      <th>3</th>\n",
       "      <td>2012-01-04</td>\n",
       "      <td>12</td>\n",
       "      <td>-4.0</td>\n",
       "      <td>36.53330</td>\n",
       "      <td>126.31670</td>\n",
       "      <td>충남</td>\n",
       "    </tr>\n",
       "    <tr>\n",
       "      <th>4</th>\n",
       "      <td>2012-01-05</td>\n",
       "      <td>12</td>\n",
       "      <td>-3.2</td>\n",
       "      <td>36.53330</td>\n",
       "      <td>126.31670</td>\n",
       "      <td>충남</td>\n",
       "    </tr>\n",
       "    <tr>\n",
       "      <th>...</th>\n",
       "      <td>...</td>\n",
       "      <td>...</td>\n",
       "      <td>...</td>\n",
       "      <td>...</td>\n",
       "      <td>...</td>\n",
       "      <td>...</td>\n",
       "    </tr>\n",
       "    <tr>\n",
       "      <th>2633689</th>\n",
       "      <td>2022-11-04</td>\n",
       "      <td>239</td>\n",
       "      <td>5.7</td>\n",
       "      <td>36.48522</td>\n",
       "      <td>127.24438</td>\n",
       "      <td>충남</td>\n",
       "    </tr>\n",
       "    <tr>\n",
       "      <th>2633690</th>\n",
       "      <td>2022-11-05</td>\n",
       "      <td>239</td>\n",
       "      <td>5.9</td>\n",
       "      <td>36.48522</td>\n",
       "      <td>127.24438</td>\n",
       "      <td>충남</td>\n",
       "    </tr>\n",
       "    <tr>\n",
       "      <th>2633691</th>\n",
       "      <td>2022-11-06</td>\n",
       "      <td>239</td>\n",
       "      <td>8.1</td>\n",
       "      <td>36.48522</td>\n",
       "      <td>127.24438</td>\n",
       "      <td>충남</td>\n",
       "    </tr>\n",
       "    <tr>\n",
       "      <th>2633692</th>\n",
       "      <td>2022-11-07</td>\n",
       "      <td>239</td>\n",
       "      <td>9.3</td>\n",
       "      <td>36.48522</td>\n",
       "      <td>127.24438</td>\n",
       "      <td>충남</td>\n",
       "    </tr>\n",
       "    <tr>\n",
       "      <th>2633693</th>\n",
       "      <td>2022-11-08</td>\n",
       "      <td>239</td>\n",
       "      <td>11.9</td>\n",
       "      <td>36.48522</td>\n",
       "      <td>127.24438</td>\n",
       "      <td>충남</td>\n",
       "    </tr>\n",
       "  </tbody>\n",
       "</table>\n",
       "<p>2633694 rows × 6 columns</p>\n",
       "</div>"
      ],
      "text/plain": [
       "              date  stn_id  avg_ta       lat       long add\n",
       "0       2012-01-01      12    -0.9  36.53330  126.31670  충남\n",
       "1       2012-01-02      12    -2.4  36.53330  126.31670  충남\n",
       "2       2012-01-03      12    -1.6  36.53330  126.31670  충남\n",
       "3       2012-01-04      12    -4.0  36.53330  126.31670  충남\n",
       "4       2012-01-05      12    -3.2  36.53330  126.31670  충남\n",
       "...            ...     ...     ...       ...        ...  ..\n",
       "2633689 2022-11-04     239     5.7  36.48522  127.24438  충남\n",
       "2633690 2022-11-05     239     5.9  36.48522  127.24438  충남\n",
       "2633691 2022-11-06     239     8.1  36.48522  127.24438  충남\n",
       "2633692 2022-11-07     239     9.3  36.48522  127.24438  충남\n",
       "2633693 2022-11-08     239    11.9  36.48522  127.24438  충남\n",
       "\n",
       "[2633694 rows x 6 columns]"
      ]
     },
     "execution_count": 11,
     "metadata": {},
     "output_type": "execute_result"
    }
   ],
   "source": [
    "ta"
   ]
  },
  {
   "cell_type": "markdown",
   "id": "32e94679-8408-4957-8677-db955fcd7fe8",
   "metadata": {
    "tags": []
   },
   "source": [
    "# -------------------------------------------  \n",
    "# Linear Interpolation"
   ]
  },
  {
   "cell_type": "code",
   "execution_count": 12,
   "id": "9fadd749-89d2-4578-8a73-716f8c95fcc5",
   "metadata": {},
   "outputs": [],
   "source": [
    "days = pd.DataFrame({'date' : pd.date_range(start=\"2012-02-01\",end=\"2022-10-31\")})"
   ]
  },
  {
   "cell_type": "code",
   "execution_count": 13,
   "id": "5bd313b4-12dc-4426-a230-add01928a9ff",
   "metadata": {},
   "outputs": [],
   "source": [
    "ta['date'] = pd.to_datetime(ta['date'])\n",
    "ta['date'] = pd.to_datetime(ta['date'], format='%Y-%m-%d')\n",
    "\n",
    "# del ta['ta.max_ta']\n",
    "# del ta['ta.min_ta']"
   ]
  },
  {
   "cell_type": "code",
   "execution_count": 14,
   "id": "691e0dbc-25a6-46de-ba26-89f860026c71",
   "metadata": {},
   "outputs": [],
   "source": [
    "ta_Gangwon = ta[ta['add']=='강원']\n",
    "ta_Gyeonggi = ta[ta['add']=='경기']\n",
    "ta_Gyeongnam = ta[ta['add']=='경남']\n",
    "ta_Gyeongbuk = ta[ta['add']=='경북']\n",
    "ta_Gwangju = ta[ta['add']=='광주']\n",
    "ta_Daegu = ta[ta['add']=='대구']\n",
    "ta_Daejeon = ta[ta['add']=='대전']\n",
    "ta_Busan = ta[ta['add']=='부산']\n",
    "ta_Seoul = ta[ta['add']=='서울']\n",
    "ta_Sejong = ta[ta['add']=='세종']\n",
    "ta_Ulsan = ta[ta['add']=='울산']\n",
    "ta_Incheon = ta[ta['add']=='인천']\n",
    "ta_Jeonnam = ta[ta['add']=='전남']\n",
    "ta_Jeonbuk = ta[ta['add']=='전북']\n",
    "ta_Jeju = ta[ta['add']=='제주']\n",
    "ta_Chungnam = ta[ta['add']=='충남']\n",
    "ta_Chungbuk = ta[ta['add']=='충북']"
   ]
  },
  {
   "cell_type": "markdown",
   "id": "04d77914-4a0e-45c6-9e1c-35d41f99daa2",
   "metadata": {},
   "source": [
    "'a.tma' : 'tma', 'a.stn_id' : 'stn_id', 'a.avg_ta' : 'ta.avg_ta', 'a.max_ta' : 'ta.max_ta', 'a.min_ta' : 'ta.min_ta'"
   ]
  },
  {
   "cell_type": "markdown",
   "id": "b3a1e55e-4f2a-4a44-ad7a-a72c46ce5f3e",
   "metadata": {},
   "source": [
    "## 강원"
   ]
  },
  {
   "cell_type": "code",
   "execution_count": 15,
   "id": "2005035f-0457-4f03-bc5d-1755af9d22dd",
   "metadata": {},
   "outputs": [],
   "source": [
    "ta_Gangwon_outer = pd.merge(ta_Gangwon, days, on = ['date'], how = 'outer').sort_values(by = 'date')\n",
    "\n",
    "ta_Gangwon_outer['avg_ta'] = ta_Gangwon_outer['avg_ta'].interpolate(method = 'values')\n",
    "\n",
    "ta_Gangwon_outer['add'] = '강원'\n",
    "del ta_Gangwon_outer['stn_id']\n",
    "del ta_Gangwon_outer['lat']\n",
    "del ta_Gangwon_outer['long']"
   ]
  },
  {
   "cell_type": "markdown",
   "id": "fae0bf51-92de-4865-87ca-3727d74d0b84",
   "metadata": {},
   "source": [
    "## 경기"
   ]
  },
  {
   "cell_type": "code",
   "execution_count": 16,
   "id": "273cd96a-c602-44d3-81d7-043ad279efdf",
   "metadata": {},
   "outputs": [],
   "source": [
    "ta_Gyeonggi_outer = pd.merge(ta_Gyeonggi, days, on = ['date'], how = 'outer').sort_values(by = 'date')\n",
    "\n",
    "ta_Gyeonggi_outer['avg_ta'] = ta_Gyeonggi_outer['avg_ta'].interpolate(method = 'values')\n",
    "\n",
    "ta_Gyeonggi_outer['add'] = '경기'\n",
    "del ta_Gyeonggi_outer['stn_id']\n",
    "del ta_Gyeonggi_outer['lat']\n",
    "del ta_Gyeonggi_outer['long']"
   ]
  },
  {
   "cell_type": "markdown",
   "id": "10db788d-413f-4a77-85ab-ccf60227ddc2",
   "metadata": {},
   "source": [
    "## 경남"
   ]
  },
  {
   "cell_type": "code",
   "execution_count": 17,
   "id": "7d96b0b0-36d6-413d-8f64-251bcb174458",
   "metadata": {},
   "outputs": [],
   "source": [
    "ta_Gyeongnam_outer = pd.merge(ta_Gyeongnam, days, on = ['date'], how = 'outer').sort_values(by = 'date')\n",
    "\n",
    "ta_Gyeongnam_outer['avg_ta'] = ta_Gyeongnam_outer['avg_ta'].interpolate(method = 'values')\n",
    "\n",
    "ta_Gyeongnam_outer['add'] = '경남'\n",
    "del ta_Gyeongnam_outer['stn_id']\n",
    "del ta_Gyeongnam_outer['lat']\n",
    "del ta_Gyeongnam_outer['long']"
   ]
  },
  {
   "cell_type": "markdown",
   "id": "70cf2f3a-3f49-439e-9067-62d955aba32d",
   "metadata": {},
   "source": [
    "## 경북"
   ]
  },
  {
   "cell_type": "code",
   "execution_count": 18,
   "id": "f3b33e62-12bb-42ad-bade-8f4df7b7d9ec",
   "metadata": {},
   "outputs": [],
   "source": [
    "ta_Gyeongbuk_outer = pd.merge(ta_Gyeongbuk, days, on = ['date'], how = 'outer').sort_values(by = 'date')\n",
    "\n",
    "ta_Gyeongbuk_outer['avg_ta'] = ta_Gyeongbuk_outer['avg_ta'].interpolate(method = 'values')\n",
    "\n",
    "ta_Gyeongbuk_outer['add'] = '경북'\n",
    "del ta_Gyeongbuk_outer['stn_id']\n",
    "del ta_Gyeongbuk_outer['lat']\n",
    "del ta_Gyeongbuk_outer['long']"
   ]
  },
  {
   "cell_type": "markdown",
   "id": "7315a964-98d5-4c56-a2f5-bf372a7f2e63",
   "metadata": {},
   "source": [
    "## 광주"
   ]
  },
  {
   "cell_type": "code",
   "execution_count": 19,
   "id": "4a335f64-d366-48da-80fe-fdb4cdfa9d6b",
   "metadata": {},
   "outputs": [],
   "source": [
    "ta_Gwangju_outer = pd.merge(ta_Gwangju, days, on = ['date'], how = 'outer').sort_values(by = 'date')\n",
    "\n",
    "ta_Gwangju_outer['avg_ta'] = ta_Gwangju_outer['avg_ta'].interpolate(method = 'values')\n",
    "\n",
    "ta_Gwangju_outer['add'] = '광주'\n",
    "del ta_Gwangju_outer['stn_id']\n",
    "del ta_Gwangju_outer['lat']\n",
    "del ta_Gwangju_outer['long']"
   ]
  },
  {
   "cell_type": "markdown",
   "id": "e964b61c-6de5-44a6-bec3-73eeb785b23d",
   "metadata": {},
   "source": [
    "## 대구"
   ]
  },
  {
   "cell_type": "code",
   "execution_count": 20,
   "id": "64053171-fd71-477c-8e1d-3eaadb0e8a24",
   "metadata": {},
   "outputs": [],
   "source": [
    "ta_Daegu_outer = pd.merge(ta_Daegu, days, on = ['date'], how = 'outer').sort_values(by = 'date')\n",
    "\n",
    "ta_Daegu_outer['avg_ta'] = ta_Daegu_outer['avg_ta'].interpolate(method = 'values')\n",
    "\n",
    "ta_Daegu_outer['add'] = '대구'\n",
    "del ta_Daegu_outer['stn_id']\n",
    "del ta_Daegu_outer['lat']\n",
    "del ta_Daegu_outer['long']"
   ]
  },
  {
   "cell_type": "markdown",
   "id": "57b07fc7-16fb-4189-a39b-b3476185482a",
   "metadata": {},
   "source": [
    "## 대전"
   ]
  },
  {
   "cell_type": "code",
   "execution_count": 21,
   "id": "adbcdda5-8c32-47e7-bbae-c9b3c1d09391",
   "metadata": {},
   "outputs": [],
   "source": [
    "ta_Daejeon_outer = pd.merge(ta_Daejeon, days, on = ['date'], how = 'outer').sort_values(by = 'date')\n",
    "\n",
    "ta_Daejeon_outer['avg_ta'] = ta_Daejeon_outer['avg_ta'].interpolate(method = 'values')\n",
    "\n",
    "ta_Daejeon_outer['add'] = '대전'\n",
    "del ta_Daejeon_outer['stn_id']\n",
    "del ta_Daejeon_outer['lat']\n",
    "del ta_Daejeon_outer['long']"
   ]
  },
  {
   "cell_type": "markdown",
   "id": "605d0735-cb8d-4562-8c23-adb13eb2c56b",
   "metadata": {},
   "source": [
    "## 부산"
   ]
  },
  {
   "cell_type": "code",
   "execution_count": 22,
   "id": "68bfc046-1901-45e7-9123-6b6fc0de5c87",
   "metadata": {},
   "outputs": [],
   "source": [
    "ta_Busan_outer = pd.merge(ta_Busan, days, on = ['date'], how = 'outer').sort_values(by = 'date')\n",
    "\n",
    "ta_Busan_outer['avg_ta'] = ta_Busan_outer['avg_ta'].interpolate(method = 'values')\n",
    "\n",
    "ta_Busan_outer['add'] = '부산'\n",
    "del ta_Busan_outer['stn_id']\n",
    "del ta_Busan_outer['lat']\n",
    "del ta_Busan_outer['long']"
   ]
  },
  {
   "cell_type": "markdown",
   "id": "1bbea10f-93ad-4510-b992-5ff4225eb746",
   "metadata": {},
   "source": [
    "## 서울"
   ]
  },
  {
   "cell_type": "code",
   "execution_count": 23,
   "id": "8b382e84-40a5-4b08-8023-ceea75bf08a3",
   "metadata": {},
   "outputs": [],
   "source": [
    "ta_Seoul_outer = pd.merge(ta_Seoul, days, on = ['date'], how = 'outer').sort_values(by = 'date')\n",
    "\n",
    "ta_Seoul_outer['avg_ta'] = ta_Seoul_outer['avg_ta'].interpolate(method = 'values')\n",
    "\n",
    "ta_Seoul_outer['add'] = '서울'\n",
    "del ta_Seoul_outer['stn_id']\n",
    "del ta_Seoul_outer['lat']\n",
    "del ta_Seoul_outer['long']"
   ]
  },
  {
   "cell_type": "markdown",
   "id": "8b49b104-86f2-449a-bd9f-8aa36fedef00",
   "metadata": {},
   "source": [
    "## 세종"
   ]
  },
  {
   "cell_type": "code",
   "execution_count": 24,
   "id": "316ec080-b9e9-4877-a880-108af4f1bd4b",
   "metadata": {},
   "outputs": [],
   "source": [
    "ta_Sejong_outer = pd.merge(ta_Sejong, days, on = ['date'], how = 'outer').sort_values(by = 'date')\n",
    "\n",
    "ta_Sejong_outer['avg_ta'] = ta_Sejong_outer['avg_ta'].interpolate(method = 'values')\n",
    "\n",
    "ta_Sejong_outer['add'] = '세종'\n",
    "del ta_Sejong_outer['stn_id']\n",
    "del ta_Sejong_outer['lat']\n",
    "del ta_Sejong_outer['long']"
   ]
  },
  {
   "cell_type": "markdown",
   "id": "69e4ab4f-250a-4f12-84f1-bd904df53b50",
   "metadata": {},
   "source": [
    "## 울산"
   ]
  },
  {
   "cell_type": "code",
   "execution_count": 25,
   "id": "6d565d25-eaef-43fc-a949-8a1427b79cbb",
   "metadata": {},
   "outputs": [],
   "source": [
    "ta_Ulsan_outer = pd.merge(ta_Ulsan, days, on = ['date'], how = 'outer').sort_values(by = 'date')\n",
    "\n",
    "ta_Ulsan_outer['avg_ta'] = ta_Ulsan_outer['avg_ta'].interpolate(method = 'values')\n",
    "\n",
    "ta_Ulsan_outer['add'] = '울산'\n",
    "del ta_Ulsan_outer['stn_id']\n",
    "del ta_Ulsan_outer['lat']\n",
    "del ta_Ulsan_outer['long']"
   ]
  },
  {
   "cell_type": "markdown",
   "id": "2675496d-09c5-4831-88aa-537a25f22ffb",
   "metadata": {},
   "source": [
    "## 인천"
   ]
  },
  {
   "cell_type": "code",
   "execution_count": 26,
   "id": "8ef03a57-02ec-46bb-ba5f-882eb1352131",
   "metadata": {},
   "outputs": [],
   "source": [
    "ta_Incheon_outer = pd.merge(ta_Incheon, days, on = ['date'], how = 'outer').sort_values(by = 'date')\n",
    "\n",
    "ta_Incheon_outer['avg_ta'] = ta_Incheon_outer['avg_ta'].interpolate(method = 'values')\n",
    "\n",
    "ta_Incheon_outer['add'] = '인천'\n",
    "del ta_Incheon_outer['stn_id']\n",
    "del ta_Incheon_outer['lat']\n",
    "del ta_Incheon_outer['long']"
   ]
  },
  {
   "cell_type": "markdown",
   "id": "763acac4-008f-4592-ae6c-e340ea7acdec",
   "metadata": {},
   "source": [
    "## 전남"
   ]
  },
  {
   "cell_type": "code",
   "execution_count": 27,
   "id": "179d94f6-19aa-4f1a-a487-7a0459ace221",
   "metadata": {},
   "outputs": [],
   "source": [
    "ta_Jeonnam_outer = pd.merge(ta_Jeonnam, days, on = ['date'], how = 'outer').sort_values(by = 'date')\n",
    "\n",
    "ta_Jeonnam_outer['avg_ta'] = ta_Jeonnam_outer['avg_ta'].interpolate(method = 'values')\n",
    "\n",
    "ta_Jeonnam_outer['add'] = '전남'\n",
    "del ta_Jeonnam_outer['stn_id']\n",
    "del ta_Jeonnam_outer['lat']\n",
    "del ta_Jeonnam_outer['long']"
   ]
  },
  {
   "cell_type": "markdown",
   "id": "1a017c83-b012-4e78-9a52-39c305aa5743",
   "metadata": {},
   "source": [
    "## 전북"
   ]
  },
  {
   "cell_type": "code",
   "execution_count": 28,
   "id": "cf0d2591-ee29-46fb-a116-f8c00ada6244",
   "metadata": {},
   "outputs": [],
   "source": [
    "ta_Jeonbuk_outer = pd.merge(ta_Jeonbuk, days, on = ['date'], how = 'outer').sort_values(by = 'date')\n",
    "\n",
    "ta_Jeonbuk_outer['avg_ta'] = ta_Jeonbuk_outer['avg_ta'].interpolate(method = 'values')\n",
    "\n",
    "ta_Jeonbuk_outer['add'] = '전북'\n",
    "del ta_Jeonbuk_outer['stn_id']\n",
    "del ta_Jeonbuk_outer['lat']\n",
    "del ta_Jeonbuk_outer['long']"
   ]
  },
  {
   "cell_type": "code",
   "execution_count": null,
   "id": "019c9c7b-210b-495a-93d2-19432c15a1fd",
   "metadata": {},
   "outputs": [],
   "source": []
  },
  {
   "cell_type": "markdown",
   "id": "a910c8e7-b9db-4da1-aa57-a640ae12e4ad",
   "metadata": {},
   "source": [
    "## 제주"
   ]
  },
  {
   "cell_type": "code",
   "execution_count": 29,
   "id": "755b0da7-f0e4-41f7-ba93-261e712f2513",
   "metadata": {},
   "outputs": [],
   "source": [
    "ta_Jeju_outer = pd.merge(ta_Jeju, days, on = ['date'], how = 'outer').sort_values(by = 'date')\n",
    "\n",
    "ta_Jeju_outer['avg_ta'] = ta_Jeju_outer['avg_ta'].interpolate(method = 'values')\n",
    "\n",
    "ta_Jeju_outer['add'] = '제주'\n",
    "del ta_Jeju_outer['stn_id']\n",
    "del ta_Jeju_outer['lat']\n",
    "del ta_Jeju_outer['long']"
   ]
  },
  {
   "cell_type": "markdown",
   "id": "a153e959-44fe-4b3e-a814-6e5be0a57120",
   "metadata": {},
   "source": [
    "## 충남"
   ]
  },
  {
   "cell_type": "code",
   "execution_count": 30,
   "id": "59aa9346-c67f-4243-8ca2-0b934292f25a",
   "metadata": {},
   "outputs": [],
   "source": [
    "ta_Chungnam_outer = pd.merge(ta_Chungnam, days, on = ['date'], how = 'outer').sort_values(by = 'date')\n",
    "\n",
    "ta_Chungnam_outer['avg_ta'] = ta_Chungnam_outer['avg_ta'].interpolate(method = 'values')\n",
    "\n",
    "ta_Chungnam_outer['add'] = '충남'\n",
    "del ta_Chungnam_outer['stn_id']\n",
    "del ta_Chungnam_outer['lat']\n",
    "del ta_Chungnam_outer['long']"
   ]
  },
  {
   "cell_type": "markdown",
   "id": "5d4c9a7e-e9d1-448d-8d6a-7e52d556fec5",
   "metadata": {},
   "source": [
    "## 충북 "
   ]
  },
  {
   "cell_type": "code",
   "execution_count": 31,
   "id": "b4a313bd-7769-4f3a-bd76-e811709f5673",
   "metadata": {},
   "outputs": [],
   "source": [
    "ta_Chungbuk_outer = pd.merge(ta_Chungbuk, days, on = ['date'], how = 'outer').sort_values(by = 'date')\n",
    "\n",
    "ta_Chungbuk_outer['avg_ta'] = ta_Chungbuk_outer['avg_ta'].interpolate(method = 'values')\n",
    "\n",
    "ta_Chungbuk_outer['add'] = '충북'\n",
    "del ta_Chungbuk_outer['stn_id']\n",
    "del ta_Chungbuk_outer['lat']\n",
    "del ta_Chungbuk_outer['long']"
   ]
  },
  {
   "cell_type": "code",
   "execution_count": 33,
   "id": "d3d9aea4-9144-4729-a38d-09ed397546b4",
   "metadata": {},
   "outputs": [],
   "source": [
    "ta_full = pd.concat([ta_Gangwon_outer,\n",
    "           ta_Gyeonggi_outer, \n",
    "           ta_Gyeongbuk_outer, \n",
    "           ta_Gyeongnam_outer,\n",
    "           ta_Gwangju_outer,\n",
    "           ta_Daegu_outer,\n",
    "           ta_Daejeon_outer,\n",
    "           ta_Busan_outer,\n",
    "           ta_Seoul_outer,\n",
    "           ta_Sejong_outer,\n",
    "           ta_Ulsan_outer,\n",
    "           ta_Incheon_outer,\n",
    "           ta_Jeonnam_outer,\n",
    "           ta_Jeonbuk_outer,\n",
    "           ta_Jeju_outer,\n",
    "           ta_Chungnam_outer,\n",
    "           ta_Chungbuk_outer], axis=0)\n",
    "# 날짜별 - 시도별로 정렬되어 있어야 함\n",
    "ta_full.sort_values(by = ['date','add'])\n",
    "ta_full = ta_full.groupby(['date', 'add'], as_index=False).median()\n",
    "ta_full = ta_full.sort_values(by = ['date','add'])\n",
    "\n",
    "# 66742 행이 있어야 해"
   ]
  },
  {
   "cell_type": "code",
   "execution_count": 50,
   "id": "bb98822e-640c-4227-8c33-f25dbb751b6e",
   "metadata": {},
   "outputs": [],
   "source": [
    "ta_final = ta_full.iloc[:67269]"
   ]
  },
  {
   "cell_type": "code",
   "execution_count": null,
   "id": "d49ae3c3-a607-4f26-b51a-4c6666743514",
   "metadata": {},
   "outputs": [
    {
     "data": {
      "text/plain": [
       "date      0\n",
       "add       0\n",
       "avg_ta    0\n",
       "dtype: int64"
      ]
     },
     "execution_count": 51,
     "metadata": {},
     "output_type": "execute_result"
    }
   ],
   "source": [
    "ta_final.isna().sum()"
   ]
  },
  {
   "cell_type": "code",
   "execution_count": 48,
   "id": "7b21a51e-443b-433c-992e-78325660dc82",
   "metadata": {},
   "outputs": [
    {
     "data": {
      "text/plain": [
       "67269"
      ]
     },
     "execution_count": 48,
     "metadata": {},
     "output_type": "execute_result"
    }
   ],
   "source": [
    "3957*17"
   ]
  },
  {
   "cell_type": "code",
   "execution_count": 52,
   "id": "88c99354-0cd1-47ea-b81a-0349c6307317",
   "metadata": {},
   "outputs": [],
   "source": [
    "ta_final.to_csv('../data/ta_for_merge.csv')"
   ]
  },
  {
   "cell_type": "code",
   "execution_count": 53,
   "id": "bed9509b-a22a-408b-8116-77499646c849",
   "metadata": {},
   "outputs": [
    {
     "data": {
      "text/html": [
       "<div>\n",
       "<style scoped>\n",
       "    .dataframe tbody tr th:only-of-type {\n",
       "        vertical-align: middle;\n",
       "    }\n",
       "\n",
       "    .dataframe tbody tr th {\n",
       "        vertical-align: top;\n",
       "    }\n",
       "\n",
       "    .dataframe thead th {\n",
       "        text-align: right;\n",
       "    }\n",
       "</style>\n",
       "<table border=\"1\" class=\"dataframe\">\n",
       "  <thead>\n",
       "    <tr style=\"text-align: right;\">\n",
       "      <th></th>\n",
       "      <th>date</th>\n",
       "      <th>add</th>\n",
       "      <th>avg_ta</th>\n",
       "    </tr>\n",
       "  </thead>\n",
       "  <tbody>\n",
       "    <tr>\n",
       "      <th>0</th>\n",
       "      <td>2012-01-01</td>\n",
       "      <td>강원</td>\n",
       "      <td>-4.20</td>\n",
       "    </tr>\n",
       "    <tr>\n",
       "      <th>1</th>\n",
       "      <td>2012-01-01</td>\n",
       "      <td>경기</td>\n",
       "      <td>-3.70</td>\n",
       "    </tr>\n",
       "    <tr>\n",
       "      <th>2</th>\n",
       "      <td>2012-01-01</td>\n",
       "      <td>경남</td>\n",
       "      <td>0.05</td>\n",
       "    </tr>\n",
       "    <tr>\n",
       "      <th>3</th>\n",
       "      <td>2012-01-01</td>\n",
       "      <td>경북</td>\n",
       "      <td>-0.85</td>\n",
       "    </tr>\n",
       "    <tr>\n",
       "      <th>4</th>\n",
       "      <td>2012-01-01</td>\n",
       "      <td>광주</td>\n",
       "      <td>0.95</td>\n",
       "    </tr>\n",
       "    <tr>\n",
       "      <th>...</th>\n",
       "      <td>...</td>\n",
       "      <td>...</td>\n",
       "      <td>...</td>\n",
       "    </tr>\n",
       "    <tr>\n",
       "      <th>67264</th>\n",
       "      <td>2022-10-31</td>\n",
       "      <td>전남</td>\n",
       "      <td>14.20</td>\n",
       "    </tr>\n",
       "    <tr>\n",
       "      <th>67265</th>\n",
       "      <td>2022-10-31</td>\n",
       "      <td>전북</td>\n",
       "      <td>13.00</td>\n",
       "    </tr>\n",
       "    <tr>\n",
       "      <th>67266</th>\n",
       "      <td>2022-10-31</td>\n",
       "      <td>제주</td>\n",
       "      <td>16.25</td>\n",
       "    </tr>\n",
       "    <tr>\n",
       "      <th>67267</th>\n",
       "      <td>2022-10-31</td>\n",
       "      <td>충남</td>\n",
       "      <td>13.45</td>\n",
       "    </tr>\n",
       "    <tr>\n",
       "      <th>67268</th>\n",
       "      <td>2022-10-31</td>\n",
       "      <td>충북</td>\n",
       "      <td>10.85</td>\n",
       "    </tr>\n",
       "  </tbody>\n",
       "</table>\n",
       "<p>67269 rows × 3 columns</p>\n",
       "</div>"
      ],
      "text/plain": [
       "             date add  avg_ta\n",
       "0      2012-01-01  강원   -4.20\n",
       "1      2012-01-01  경기   -3.70\n",
       "2      2012-01-01  경남    0.05\n",
       "3      2012-01-01  경북   -0.85\n",
       "4      2012-01-01  광주    0.95\n",
       "...           ...  ..     ...\n",
       "67264  2022-10-31  전남   14.20\n",
       "67265  2022-10-31  전북   13.00\n",
       "67266  2022-10-31  제주   16.25\n",
       "67267  2022-10-31  충남   13.45\n",
       "67268  2022-10-31  충북   10.85\n",
       "\n",
       "[67269 rows x 3 columns]"
      ]
     },
     "execution_count": 53,
     "metadata": {},
     "output_type": "execute_result"
    }
   ],
   "source": [
    "pd.read_csv('../data/ta_for_merge.csv', index_col = 0)"
   ]
  },
  {
   "cell_type": "code",
   "execution_count": null,
   "id": "69123427-028d-4071-bca7-bf3f61c4b1af",
   "metadata": {},
   "outputs": [],
   "source": []
  }
 ],
 "metadata": {
  "environment": {
   "kernel": "python3",
   "name": "r-cpu.4-1.m97",
   "type": "gcloud",
   "uri": "gcr.io/deeplearning-platform-release/r-cpu.4-1:m97"
  },
  "kernelspec": {
   "display_name": "Python 3",
   "language": "python",
   "name": "python3"
  },
  "language_info": {
   "codemirror_mode": {
    "name": "ipython",
    "version": 3
   },
   "file_extension": ".py",
   "mimetype": "text/x-python",
   "name": "python",
   "nbconvert_exporter": "python",
   "pygments_lexer": "ipython3",
   "version": "3.7.12"
  }
 },
 "nbformat": 4,
 "nbformat_minor": 5
}
