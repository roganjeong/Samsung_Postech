{
 "cells": [
  {
   "cell_type": "code",
   "execution_count": 2,
   "id": "6be39bc8-bd01-40ba-8733-bed5d1fb21d7",
   "metadata": {},
   "outputs": [],
   "source": [
    "# from google.colab import files\n",
    "# from google.colab import drive\n",
    "import os\n",
    "import io\n",
    "import pandas as pd\n",
    "import missingno as msno\n",
    "import seaborn as sns\n",
    "import matplotlib.pyplot as plt\n",
    "import scipy.stats as stats\n",
    "from scipy.stats import chisquare\n",
    "import numpy as np\n",
    "\n",
    "from datetime import datetime\n",
    "# drive.mount('/content/drive') #/MyDrive/Colab Notebooks/데이터/기상데이터"
   ]
  },
  {
   "cell_type": "code",
   "execution_count": 42,
   "id": "328fdb2e-55dd-4d84-b8c4-e65c15d52ad7",
   "metadata": {},
   "outputs": [],
   "source": [
    "cloud = pd.read_csv('../data/cloud_for_merge.csv', index_col = 0 )\n",
    "wind = pd.read_csv('../data/wind_for_merge.csv', index_col = 0 )\n",
    "ta = pd.read_csv('../data/ta_for_merge.csv', index_col = 0 )\n",
    "rn = pd.read_csv('../data/rn_for_merge.csv', index_col = 0 )\n",
    "\n",
    "days = pd.date_range(start=\"2012-02-01\",end=\"2022-10-31\")"
   ]
  },
  {
   "cell_type": "code",
   "execution_count": 43,
   "id": "9f8909bb-33c9-4e5b-ab80-8514948cee9e",
   "metadata": {},
   "outputs": [
    {
     "name": "stdout",
     "output_type": "stream",
     "text": [
      "Index(['date', 'add', 'ca'], dtype='object')\n",
      "Index(['date', 'add', 'avg_ws', 'mix_ws', 'max_ws', 'max_ws_wd', 'max_wd',\n",
      "       'max_ins_ws', 'max_ins_ws_wd', 'mix_wd'],\n",
      "      dtype='object')\n",
      "Index(['date', 'add', 'avg_ta'], dtype='object')\n",
      "Index(['date', 'add', 'sum_rn'], dtype='object')\n"
     ]
    }
   ],
   "source": [
    "print(cloud.columns)\n",
    "print(wind.columns)\n",
    "print(ta.columns)\n",
    "print(rn.columns)"
   ]
  },
  {
   "cell_type": "code",
   "execution_count": null,
   "id": "2cfb9ba5-09ca-45f3-b639-8ede2e69ee93",
   "metadata": {},
   "outputs": [],
   "source": [
    "print(cloud)\n",
    "print(wind)\n",
    "print(ta)\n",
    "print(rn)"
   ]
  },
  {
   "cell_type": "code",
   "execution_count": 7,
   "id": "57ba602b-6202-4e04-a148-72c12585f676",
   "metadata": {
    "collapsed": true,
    "jupyter": {
     "outputs_hidden": true
    },
    "tags": []
   },
   "outputs": [
    {
     "data": {
      "text/html": [
       "<div>\n",
       "<style scoped>\n",
       "    .dataframe tbody tr th:only-of-type {\n",
       "        vertical-align: middle;\n",
       "    }\n",
       "\n",
       "    .dataframe tbody tr th {\n",
       "        vertical-align: top;\n",
       "    }\n",
       "\n",
       "    .dataframe thead th {\n",
       "        text-align: right;\n",
       "    }\n",
       "</style>\n",
       "<table border=\"1\" class=\"dataframe\">\n",
       "  <thead>\n",
       "    <tr style=\"text-align: right;\">\n",
       "      <th></th>\n",
       "      <th>date</th>\n",
       "      <th>add</th>\n",
       "      <th>avg_ta</th>\n",
       "    </tr>\n",
       "  </thead>\n",
       "  <tbody>\n",
       "    <tr>\n",
       "      <th>0</th>\n",
       "      <td>2012-01-01</td>\n",
       "      <td>강원</td>\n",
       "      <td>-4.20</td>\n",
       "    </tr>\n",
       "    <tr>\n",
       "      <th>1</th>\n",
       "      <td>2012-01-01</td>\n",
       "      <td>경기</td>\n",
       "      <td>-3.70</td>\n",
       "    </tr>\n",
       "    <tr>\n",
       "      <th>2</th>\n",
       "      <td>2012-01-01</td>\n",
       "      <td>경남</td>\n",
       "      <td>0.05</td>\n",
       "    </tr>\n",
       "    <tr>\n",
       "      <th>3</th>\n",
       "      <td>2012-01-01</td>\n",
       "      <td>경북</td>\n",
       "      <td>-0.85</td>\n",
       "    </tr>\n",
       "    <tr>\n",
       "      <th>4</th>\n",
       "      <td>2012-01-01</td>\n",
       "      <td>광주</td>\n",
       "      <td>0.95</td>\n",
       "    </tr>\n",
       "    <tr>\n",
       "      <th>...</th>\n",
       "      <td>...</td>\n",
       "      <td>...</td>\n",
       "      <td>...</td>\n",
       "    </tr>\n",
       "    <tr>\n",
       "      <th>67264</th>\n",
       "      <td>2022-10-31</td>\n",
       "      <td>전남</td>\n",
       "      <td>14.20</td>\n",
       "    </tr>\n",
       "    <tr>\n",
       "      <th>67265</th>\n",
       "      <td>2022-10-31</td>\n",
       "      <td>전북</td>\n",
       "      <td>13.00</td>\n",
       "    </tr>\n",
       "    <tr>\n",
       "      <th>67266</th>\n",
       "      <td>2022-10-31</td>\n",
       "      <td>제주</td>\n",
       "      <td>16.25</td>\n",
       "    </tr>\n",
       "    <tr>\n",
       "      <th>67267</th>\n",
       "      <td>2022-10-31</td>\n",
       "      <td>충남</td>\n",
       "      <td>13.45</td>\n",
       "    </tr>\n",
       "    <tr>\n",
       "      <th>67268</th>\n",
       "      <td>2022-10-31</td>\n",
       "      <td>충북</td>\n",
       "      <td>10.85</td>\n",
       "    </tr>\n",
       "  </tbody>\n",
       "</table>\n",
       "<p>67269 rows × 3 columns</p>\n",
       "</div>"
      ],
      "text/plain": [
       "             date add  avg_ta\n",
       "0      2012-01-01  강원   -4.20\n",
       "1      2012-01-01  경기   -3.70\n",
       "2      2012-01-01  경남    0.05\n",
       "3      2012-01-01  경북   -0.85\n",
       "4      2012-01-01  광주    0.95\n",
       "...           ...  ..     ...\n",
       "67264  2022-10-31  전남   14.20\n",
       "67265  2022-10-31  전북   13.00\n",
       "67266  2022-10-31  제주   16.25\n",
       "67267  2022-10-31  충남   13.45\n",
       "67268  2022-10-31  충북   10.85\n",
       "\n",
       "[67269 rows x 3 columns]"
      ]
     },
     "execution_count": 7,
     "metadata": {},
     "output_type": "execute_result"
    }
   ],
   "source": [
    "ta"
   ]
  },
  {
   "cell_type": "code",
   "execution_count": 44,
   "id": "9409c372-f32d-470d-9408-f9b898f6a74e",
   "metadata": {},
   "outputs": [],
   "source": [
    "cloud['date'] = pd.to_datetime(cloud['date'], format='%Y-%m-%d')\n",
    "# cloud['time'] = pd.to_datetime(cloud['time'], format='%H:%M:%S')\n",
    "\n",
    "wind['date'] = pd.to_datetime(wind['date'], format='%Y-%m-%d')\n",
    "# wind['time'] = pd.to_datetime(wind['time'], format='%H:%M:%S')\n",
    "\n",
    "ta['date'] = pd.to_datetime(ta['date'], format='%Y-%m-%d')\n",
    "# ta['time'] = pd.to_datetime(ta['time'], format='%H:%M:%S')\n",
    "\n",
    "rn['date'] = pd.to_datetime(rn['date'], format='%Y-%m-%d')\n",
    "# rn['time'] = pd.to_datetime(rn['time'], format='%H:%M:%S')"
   ]
  },
  {
   "cell_type": "code",
   "execution_count": 45,
   "id": "809dfae5-6e9b-4654-a773-1b1e55fb11d9",
   "metadata": {},
   "outputs": [],
   "source": [
    "cloud_wind = pd.merge(cloud, wind, on = ['date', 'add'])\n",
    "ta_rn = pd.merge(ta, rn, on = ['date', 'add'])\n",
    "all_merged = pd.merge(cloud_wind, ta_rn, on = ['date', 'add'])"
   ]
  },
  {
   "cell_type": "code",
   "execution_count": 26,
   "id": "84680977-368c-40d1-8b52-5b1a9515fa22",
   "metadata": {
    "tags": []
   },
   "outputs": [
    {
     "name": "stdout",
     "output_type": "stream",
     "text": [
      "Index(['date', 'add', 'ca', 'avg_ws', 'mix_ws', 'max_ws', 'max_ws_wd',\n",
      "       'max_wd', 'max_ins_ws', 'max_ins_ws_wd', 'mix_wd', 'avg_ta', 'sum_rn'],\n",
      "      dtype='object')\n",
      "date             0\n",
      "add              0\n",
      "ca               0\n",
      "avg_ws           0\n",
      "mix_ws           0\n",
      "max_ws           0\n",
      "max_ws_wd        0\n",
      "max_wd           0\n",
      "max_ins_ws       0\n",
      "max_ins_ws_wd    0\n",
      "mix_wd           0\n",
      "avg_ta           0\n",
      "sum_rn           0\n",
      "dtype: int64\n"
     ]
    }
   ],
   "source": [
    "print(all_merged.columns)\n",
    "print(all_merged.isna().sum())"
   ]
  },
  {
   "cell_type": "code",
   "execution_count": 69,
   "id": "fb91b639-63b4-4ab0-a38c-3b3c6eb64812",
   "metadata": {
    "tags": []
   },
   "outputs": [
    {
     "data": {
      "text/html": [
       "<div>\n",
       "<style scoped>\n",
       "    .dataframe tbody tr th:only-of-type {\n",
       "        vertical-align: middle;\n",
       "    }\n",
       "\n",
       "    .dataframe tbody tr th {\n",
       "        vertical-align: top;\n",
       "    }\n",
       "\n",
       "    .dataframe thead th {\n",
       "        text-align: right;\n",
       "    }\n",
       "</style>\n",
       "<table border=\"1\" class=\"dataframe\">\n",
       "  <thead>\n",
       "    <tr style=\"text-align: right;\">\n",
       "      <th></th>\n",
       "      <th>date</th>\n",
       "      <th>add</th>\n",
       "      <th>ca</th>\n",
       "      <th>avg_ws</th>\n",
       "      <th>mix_ws</th>\n",
       "      <th>max_ws</th>\n",
       "      <th>max_ws_wd</th>\n",
       "      <th>max_wd</th>\n",
       "      <th>max_ins_ws</th>\n",
       "      <th>max_ins_ws_wd</th>\n",
       "      <th>mix_wd</th>\n",
       "      <th>avg_ta</th>\n",
       "      <th>sum_rn</th>\n",
       "    </tr>\n",
       "  </thead>\n",
       "  <tbody>\n",
       "    <tr>\n",
       "      <th>0</th>\n",
       "      <td>2012-01-01</td>\n",
       "      <td>강원</td>\n",
       "      <td>5.953846</td>\n",
       "      <td>1.80</td>\n",
       "      <td>1.30</td>\n",
       "      <td>5.100</td>\n",
       "      <td>258.50</td>\n",
       "      <td>247.50</td>\n",
       "      <td>9.00</td>\n",
       "      <td>272.800</td>\n",
       "      <td>263.90</td>\n",
       "      <td>-4.20</td>\n",
       "      <td>0.143678</td>\n",
       "    </tr>\n",
       "    <tr>\n",
       "      <th>1</th>\n",
       "      <td>2012-01-01</td>\n",
       "      <td>경기</td>\n",
       "      <td>4.880000</td>\n",
       "      <td>1.50</td>\n",
       "      <td>1.30</td>\n",
       "      <td>5.700</td>\n",
       "      <td>288.20</td>\n",
       "      <td>292.50</td>\n",
       "      <td>10.60</td>\n",
       "      <td>281.300</td>\n",
       "      <td>300.60</td>\n",
       "      <td>-3.70</td>\n",
       "      <td>0.018018</td>\n",
       "    </tr>\n",
       "    <tr>\n",
       "      <th>2</th>\n",
       "      <td>2012-01-01</td>\n",
       "      <td>경남</td>\n",
       "      <td>4.075000</td>\n",
       "      <td>2.10</td>\n",
       "      <td>1.55</td>\n",
       "      <td>6.600</td>\n",
       "      <td>295.10</td>\n",
       "      <td>270.00</td>\n",
       "      <td>11.30</td>\n",
       "      <td>295.300</td>\n",
       "      <td>292.50</td>\n",
       "      <td>0.05</td>\n",
       "      <td>0.055556</td>\n",
       "    </tr>\n",
       "    <tr>\n",
       "      <th>3</th>\n",
       "      <td>2012-01-01</td>\n",
       "      <td>경북</td>\n",
       "      <td>5.325000</td>\n",
       "      <td>2.40</td>\n",
       "      <td>2.00</td>\n",
       "      <td>6.700</td>\n",
       "      <td>302.45</td>\n",
       "      <td>292.50</td>\n",
       "      <td>11.30</td>\n",
       "      <td>293.500</td>\n",
       "      <td>294.45</td>\n",
       "      <td>-0.85</td>\n",
       "      <td>0.612500</td>\n",
       "    </tr>\n",
       "    <tr>\n",
       "      <th>4</th>\n",
       "      <td>2012-01-01</td>\n",
       "      <td>광주</td>\n",
       "      <td>8.300000</td>\n",
       "      <td>2.10</td>\n",
       "      <td>1.70</td>\n",
       "      <td>6.400</td>\n",
       "      <td>308.65</td>\n",
       "      <td>315.00</td>\n",
       "      <td>10.40</td>\n",
       "      <td>302.350</td>\n",
       "      <td>326.65</td>\n",
       "      <td>0.95</td>\n",
       "      <td>0.750000</td>\n",
       "    </tr>\n",
       "    <tr>\n",
       "      <th>...</th>\n",
       "      <td>...</td>\n",
       "      <td>...</td>\n",
       "      <td>...</td>\n",
       "      <td>...</td>\n",
       "      <td>...</td>\n",
       "      <td>...</td>\n",
       "      <td>...</td>\n",
       "      <td>...</td>\n",
       "      <td>...</td>\n",
       "      <td>...</td>\n",
       "      <td>...</td>\n",
       "      <td>...</td>\n",
       "      <td>...</td>\n",
       "    </tr>\n",
       "    <tr>\n",
       "      <th>67264</th>\n",
       "      <td>2022-10-31</td>\n",
       "      <td>전남</td>\n",
       "      <td>2.784615</td>\n",
       "      <td>1.60</td>\n",
       "      <td>1.00</td>\n",
       "      <td>4.400</td>\n",
       "      <td>89.00</td>\n",
       "      <td>67.50</td>\n",
       "      <td>7.30</td>\n",
       "      <td>106.800</td>\n",
       "      <td>52.60</td>\n",
       "      <td>14.20</td>\n",
       "      <td>0.000000</td>\n",
       "    </tr>\n",
       "    <tr>\n",
       "      <th>67265</th>\n",
       "      <td>2022-10-31</td>\n",
       "      <td>전북</td>\n",
       "      <td>3.620000</td>\n",
       "      <td>1.20</td>\n",
       "      <td>0.50</td>\n",
       "      <td>3.800</td>\n",
       "      <td>280.20</td>\n",
       "      <td>135.00</td>\n",
       "      <td>6.10</td>\n",
       "      <td>275.600</td>\n",
       "      <td>264.70</td>\n",
       "      <td>13.00</td>\n",
       "      <td>0.000000</td>\n",
       "    </tr>\n",
       "    <tr>\n",
       "      <th>67266</th>\n",
       "      <td>2022-10-31</td>\n",
       "      <td>제주</td>\n",
       "      <td>3.325000</td>\n",
       "      <td>3.95</td>\n",
       "      <td>3.60</td>\n",
       "      <td>6.250</td>\n",
       "      <td>61.20</td>\n",
       "      <td>67.50</td>\n",
       "      <td>10.90</td>\n",
       "      <td>63.750</td>\n",
       "      <td>63.00</td>\n",
       "      <td>16.25</td>\n",
       "      <td>0.000000</td>\n",
       "    </tr>\n",
       "    <tr>\n",
       "      <th>67267</th>\n",
       "      <td>2022-10-31</td>\n",
       "      <td>충남</td>\n",
       "      <td>4.471429</td>\n",
       "      <td>1.00</td>\n",
       "      <td>0.40</td>\n",
       "      <td>3.625</td>\n",
       "      <td>178.40</td>\n",
       "      <td>135.00</td>\n",
       "      <td>5.70</td>\n",
       "      <td>193.475</td>\n",
       "      <td>169.80</td>\n",
       "      <td>13.45</td>\n",
       "      <td>0.000000</td>\n",
       "    </tr>\n",
       "    <tr>\n",
       "      <th>67268</th>\n",
       "      <td>2022-10-31</td>\n",
       "      <td>충북</td>\n",
       "      <td>4.620000</td>\n",
       "      <td>0.75</td>\n",
       "      <td>0.30</td>\n",
       "      <td>2.900</td>\n",
       "      <td>191.55</td>\n",
       "      <td>123.75</td>\n",
       "      <td>5.05</td>\n",
       "      <td>168.800</td>\n",
       "      <td>134.75</td>\n",
       "      <td>10.85</td>\n",
       "      <td>0.000000</td>\n",
       "    </tr>\n",
       "  </tbody>\n",
       "</table>\n",
       "<p>67269 rows × 13 columns</p>\n",
       "</div>"
      ],
      "text/plain": [
       "            date add        ca  avg_ws  mix_ws  max_ws  max_ws_wd  max_wd  \\\n",
       "0     2012-01-01  강원  5.953846    1.80    1.30   5.100     258.50  247.50   \n",
       "1     2012-01-01  경기  4.880000    1.50    1.30   5.700     288.20  292.50   \n",
       "2     2012-01-01  경남  4.075000    2.10    1.55   6.600     295.10  270.00   \n",
       "3     2012-01-01  경북  5.325000    2.40    2.00   6.700     302.45  292.50   \n",
       "4     2012-01-01  광주  8.300000    2.10    1.70   6.400     308.65  315.00   \n",
       "...          ...  ..       ...     ...     ...     ...        ...     ...   \n",
       "67264 2022-10-31  전남  2.784615    1.60    1.00   4.400      89.00   67.50   \n",
       "67265 2022-10-31  전북  3.620000    1.20    0.50   3.800     280.20  135.00   \n",
       "67266 2022-10-31  제주  3.325000    3.95    3.60   6.250      61.20   67.50   \n",
       "67267 2022-10-31  충남  4.471429    1.00    0.40   3.625     178.40  135.00   \n",
       "67268 2022-10-31  충북  4.620000    0.75    0.30   2.900     191.55  123.75   \n",
       "\n",
       "       max_ins_ws  max_ins_ws_wd  mix_wd  avg_ta    sum_rn  \n",
       "0            9.00        272.800  263.90   -4.20  0.143678  \n",
       "1           10.60        281.300  300.60   -3.70  0.018018  \n",
       "2           11.30        295.300  292.50    0.05  0.055556  \n",
       "3           11.30        293.500  294.45   -0.85  0.612500  \n",
       "4           10.40        302.350  326.65    0.95  0.750000  \n",
       "...           ...            ...     ...     ...       ...  \n",
       "67264        7.30        106.800   52.60   14.20  0.000000  \n",
       "67265        6.10        275.600  264.70   13.00  0.000000  \n",
       "67266       10.90         63.750   63.00   16.25  0.000000  \n",
       "67267        5.70        193.475  169.80   13.45  0.000000  \n",
       "67268        5.05        168.800  134.75   10.85  0.000000  \n",
       "\n",
       "[67269 rows x 13 columns]"
      ]
     },
     "execution_count": 69,
     "metadata": {},
     "output_type": "execute_result"
    }
   ],
   "source": [
    "all_merged"
   ]
  },
  {
   "cell_type": "code",
   "execution_count": 46,
   "id": "be267a7a-67ea-4369-867e-6898ef67f750",
   "metadata": {},
   "outputs": [],
   "source": [
    "all_merged.to_csv('../data/기상데이터(찐최종).csv')"
   ]
  },
  {
   "cell_type": "code",
   "execution_count": 46,
   "id": "7f92b2bb-bcd7-4a8d-8ac5-484a81c3f8ba",
   "metadata": {
    "tags": []
   },
   "outputs": [],
   "source": [
    "rain = pd.read_csv('../data/rain_ver5.csv', index_col = 0)\n",
    "# rain"
   ]
  },
  {
   "cell_type": "code",
   "execution_count": 47,
   "id": "69ee928a-875f-4f33-8f8b-787e02bc1d42",
   "metadata": {},
   "outputs": [],
   "source": [
    "rain = rain.rename(columns={'provin' : 'add'})\n",
    "rain = rain.rename(columns={'2021_damage' : 'damage_conv'})"
   ]
  },
  {
   "cell_type": "code",
   "execution_count": 48,
   "id": "006fee2b-0a46-427e-a79c-b7fc9ddb0bd9",
   "metadata": {
    "tags": []
   },
   "outputs": [],
   "source": [
    "rain['date'] = pd.to_datetime(rain[['year', 'month', 'day']])\n",
    "del rain['day']\n",
    "del rain['year']\n",
    "del rain['month']\n",
    "# rain"
   ]
  },
  {
   "cell_type": "code",
   "execution_count": 49,
   "id": "d83c9619-55ad-48b9-bd62-0984a3768007",
   "metadata": {
    "tags": []
   },
   "outputs": [],
   "source": [
    "rain = rain.rename(columns={'typoon_dum' : 'typhoon_yn'})\n",
    "rain['rain_yn'] = 1\n",
    "del rain['wet_area']\n",
    "del rain['total_rain']\n",
    "del rain['duration_day']\n",
    "del rain['typoon']\n",
    "del rain['duration_hour']\n",
    "del rain['max_rain']\n",
    "del rain['day_rain']\n",
    "del rain['cum_rain_2']\n",
    "del rain['cum_rain_3']\n",
    "del rain['max_wind']\n",
    "del rain['avg_temp']\n",
    "del rain['district']"
   ]
  },
  {
   "cell_type": "code",
   "execution_count": 9,
   "id": "e00a1f92-73e7-446a-8b57-d11765affde4",
   "metadata": {},
   "outputs": [
    {
     "data": {
      "text/html": [
       "<div>\n",
       "<style scoped>\n",
       "    .dataframe tbody tr th:only-of-type {\n",
       "        vertical-align: middle;\n",
       "    }\n",
       "\n",
       "    .dataframe tbody tr th {\n",
       "        vertical-align: top;\n",
       "    }\n",
       "\n",
       "    .dataframe thead th {\n",
       "        text-align: right;\n",
       "    }\n",
       "</style>\n",
       "<table border=\"1\" class=\"dataframe\">\n",
       "  <thead>\n",
       "    <tr style=\"text-align: right;\">\n",
       "      <th></th>\n",
       "      <th>date</th>\n",
       "      <th>add</th>\n",
       "      <th>typhoon_yn</th>\n",
       "      <th>damage_conv</th>\n",
       "      <th>rain_yn</th>\n",
       "    </tr>\n",
       "  </thead>\n",
       "  <tbody>\n",
       "    <tr>\n",
       "      <th>0</th>\n",
       "      <td>1998-05-01</td>\n",
       "      <td>서울</td>\n",
       "      <td>0.0</td>\n",
       "      <td>5.592550e+03</td>\n",
       "      <td>1.0</td>\n",
       "    </tr>\n",
       "    <tr>\n",
       "      <th>1</th>\n",
       "      <td>1998-05-02</td>\n",
       "      <td>서울</td>\n",
       "      <td>0.0</td>\n",
       "      <td>5.592550e+03</td>\n",
       "      <td>1.0</td>\n",
       "    </tr>\n",
       "    <tr>\n",
       "      <th>2</th>\n",
       "      <td>1998-06-23</td>\n",
       "      <td>경남</td>\n",
       "      <td>0.0</td>\n",
       "      <td>1.398138e+04</td>\n",
       "      <td>1.0</td>\n",
       "    </tr>\n",
       "    <tr>\n",
       "      <th>3</th>\n",
       "      <td>1998-06-23</td>\n",
       "      <td>경북</td>\n",
       "      <td>0.0</td>\n",
       "      <td>3.778152e+05</td>\n",
       "      <td>1.0</td>\n",
       "    </tr>\n",
       "    <tr>\n",
       "      <th>4</th>\n",
       "      <td>1998-06-23</td>\n",
       "      <td>광주</td>\n",
       "      <td>0.0</td>\n",
       "      <td>0.000000e+00</td>\n",
       "      <td>1.0</td>\n",
       "    </tr>\n",
       "    <tr>\n",
       "      <th>...</th>\n",
       "      <td>...</td>\n",
       "      <td>...</td>\n",
       "      <td>...</td>\n",
       "      <td>...</td>\n",
       "      <td>...</td>\n",
       "    </tr>\n",
       "    <tr>\n",
       "      <th>3991</th>\n",
       "      <td>2016-10-06</td>\n",
       "      <td>울산</td>\n",
       "      <td>0.0</td>\n",
       "      <td>4.651448e+06</td>\n",
       "      <td>1.0</td>\n",
       "    </tr>\n",
       "    <tr>\n",
       "      <th>3992</th>\n",
       "      <td>2016-10-06</td>\n",
       "      <td>인천</td>\n",
       "      <td>0.0</td>\n",
       "      <td>7.773362e+04</td>\n",
       "      <td>1.0</td>\n",
       "    </tr>\n",
       "    <tr>\n",
       "      <th>3993</th>\n",
       "      <td>2016-10-06</td>\n",
       "      <td>전남</td>\n",
       "      <td>0.0</td>\n",
       "      <td>1.438374e+04</td>\n",
       "      <td>1.0</td>\n",
       "    </tr>\n",
       "    <tr>\n",
       "      <th>3994</th>\n",
       "      <td>2016-10-06</td>\n",
       "      <td>전북</td>\n",
       "      <td>0.0</td>\n",
       "      <td>0.000000e+00</td>\n",
       "      <td>1.0</td>\n",
       "    </tr>\n",
       "    <tr>\n",
       "      <th>3995</th>\n",
       "      <td>2016-10-06</td>\n",
       "      <td>제주</td>\n",
       "      <td>0.0</td>\n",
       "      <td>1.393392e+07</td>\n",
       "      <td>1.0</td>\n",
       "    </tr>\n",
       "  </tbody>\n",
       "</table>\n",
       "<p>3996 rows × 5 columns</p>\n",
       "</div>"
      ],
      "text/plain": [
       "           date add  typhoon_yn   damage_conv  rain_yn\n",
       "0    1998-05-01  서울         0.0  5.592550e+03      1.0\n",
       "1    1998-05-02  서울         0.0  5.592550e+03      1.0\n",
       "2    1998-06-23  경남         0.0  1.398138e+04      1.0\n",
       "3    1998-06-23  경북         0.0  3.778152e+05      1.0\n",
       "4    1998-06-23  광주         0.0  0.000000e+00      1.0\n",
       "...         ...  ..         ...           ...      ...\n",
       "3991 2016-10-06  울산         0.0  4.651448e+06      1.0\n",
       "3992 2016-10-06  인천         0.0  7.773362e+04      1.0\n",
       "3993 2016-10-06  전남         0.0  1.438374e+04      1.0\n",
       "3994 2016-10-06  전북         0.0  0.000000e+00      1.0\n",
       "3995 2016-10-06  제주         0.0  1.393392e+07      1.0\n",
       "\n",
       "[3996 rows x 5 columns]"
      ]
     },
     "execution_count": 9,
     "metadata": {},
     "output_type": "execute_result"
    }
   ],
   "source": [
    "rain"
   ]
  },
  {
   "cell_type": "code",
   "execution_count": 50,
   "id": "2b73235a-6f63-40b3-8402-66e03071c22a",
   "metadata": {},
   "outputs": [],
   "source": [
    "rain_damage = rain[['date', 'add', 'damage_conv']]\n",
    "rain_wo_damage = rain[['date', 'add', 'typhoon_yn', 'rain_yn']]"
   ]
  },
  {
   "cell_type": "code",
   "execution_count": 51,
   "id": "fb70db36-a6a6-442d-bcab-305b65aeb56a",
   "metadata": {},
   "outputs": [],
   "source": [
    "rain_damage = rain_damage.groupby(['date', 'add'], as_index=False).sum()\n",
    "rain_wo_damage = rain_wo_damage.groupby(['date', 'add'], as_index=False).median()"
   ]
  },
  {
   "cell_type": "code",
   "execution_count": 16,
   "id": "72948754-5512-4274-8981-09ff308ae0f2",
   "metadata": {},
   "outputs": [
    {
     "name": "stdout",
     "output_type": "stream",
     "text": [
      "           date add   damage_conv\n",
      "0    1998-05-01  서울  5.592550e+03\n",
      "1    1998-05-02  서울  5.592550e+03\n",
      "2    1998-06-23  경남  1.398138e+04\n",
      "3    1998-06-23  경북  3.778152e+05\n",
      "4    1998-06-23  광주  0.000000e+00\n",
      "...         ...  ..           ...\n",
      "3991 2016-10-06  울산  4.651448e+06\n",
      "3992 2016-10-06  인천  7.773362e+04\n",
      "3993 2016-10-06  전남  1.438374e+04\n",
      "3994 2016-10-06  전북  0.000000e+00\n",
      "3995 2016-10-06  제주  1.393392e+07\n",
      "\n",
      "[3996 rows x 3 columns]\n",
      "           date add  typhoon_yn  rain_yn\n",
      "0    1998-05-01  서울         0.0      1.0\n",
      "1    1998-05-02  서울         0.0      1.0\n",
      "2    1998-06-23  경남         0.0      1.0\n",
      "3    1998-06-23  경북         0.0      1.0\n",
      "4    1998-06-23  광주         0.0      1.0\n",
      "...         ...  ..         ...      ...\n",
      "3991 2016-10-06  울산         0.0      1.0\n",
      "3992 2016-10-06  인천         0.0      1.0\n",
      "3993 2016-10-06  전남         0.0      1.0\n",
      "3994 2016-10-06  전북         0.0      1.0\n",
      "3995 2016-10-06  제주         0.0      1.0\n",
      "\n",
      "[3996 rows x 4 columns]\n"
     ]
    }
   ],
   "source": [
    "print(rain_damage)\n",
    "print(rain_wo_damage)"
   ]
  },
  {
   "cell_type": "markdown",
   "id": "d5f0c64e-61f3-4696-acb3-75456207f1bd",
   "metadata": {
    "jupyter": {
     "outputs_hidden": true
    },
    "tags": []
   },
   "source": [
    "##### set(rain['date'])"
   ]
  },
  {
   "cell_type": "code",
   "execution_count": 41,
   "id": "12bb855a-22a4-4eb9-83be-af9f8026d17d",
   "metadata": {},
   "outputs": [],
   "source": [
    "rain = pd.merge(rain_damage, rain_wo_damage, on = ['date', 'add'])\n",
    "# rain"
   ]
  },
  {
   "cell_type": "code",
   "execution_count": 40,
   "id": "2aaf29a4-f792-485f-91be-6414383d5c98",
   "metadata": {},
   "outputs": [],
   "source": [
    "all_merged = pd.read_csv('../data/기상데이터(찐최종).csv')\n",
    "all_merged['date'] = pd.to_datetime(all_merged['date'], format='%Y-%m-%d')"
   ]
  },
  {
   "cell_type": "code",
   "execution_count": 28,
   "id": "b8415ad0-3af5-4aa2-a016-114f69904e4c",
   "metadata": {
    "executionInfo": {
     "elapsed": 321,
     "status": "ok",
     "timestamp": 1667455542801,
     "user": {
      "displayName": "어흥범주",
      "userId": "10554293130336392046"
     },
     "user_tz": -540
    },
    "id": "6V-eYHKb9abG"
   },
   "outputs": [],
   "source": [
    "dates_tobe = list(set(all_merged['date']))\n",
    "dates_check = list(rain['date'])"
   ]
  },
  {
   "cell_type": "code",
   "execution_count": 29,
   "id": "eb5faf36-e8b3-48a0-855a-51ea02c51b56",
   "metadata": {
    "executionInfo": {
     "elapsed": 1,
     "status": "ok",
     "timestamp": 1667455544157,
     "user": {
      "displayName": "어흥범주",
      "userId": "10554293130336392046"
     },
     "user_tz": -540
    },
    "id": "roxCaM1P_PKc"
   },
   "outputs": [],
   "source": [
    "for i in range(len(dates_tobe)):\n",
    "  dates_tobe[i] = str(dates_tobe[i])[0:10]\n",
    "\n",
    "for i in range(len(dates_check)):\n",
    "   dates_check[i] = str(dates_check[i])[0:10]"
   ]
  },
  {
   "cell_type": "code",
   "execution_count": 30,
   "id": "1ab1a150-cb0c-4a1c-be7d-8b08f44117c0",
   "metadata": {
    "executionInfo": {
     "elapsed": 2,
     "status": "ok",
     "timestamp": 1667455545419,
     "user": {
      "displayName": "어흥범주",
      "userId": "10554293130336392046"
     },
     "user_tz": -540
    },
    "id": "E_9UHM1eAhab"
   },
   "outputs": [],
   "source": [
    "#rain_yn_l = pd.DataFrame({'rain_yn_l' : rain_yn_l})\n",
    "#our_dates = pd.DataFrame({'our_dates' : our_dates})"
   ]
  },
  {
   "cell_type": "code",
   "execution_count": 31,
   "id": "e7211bd4-3398-4cc6-96ea-6d099953cf19",
   "metadata": {
    "executionInfo": {
     "elapsed": 1957,
     "status": "ok",
     "timestamp": 1667455554713,
     "user": {
      "displayName": "어흥범주",
      "userId": "10554293130336392046"
     },
     "user_tz": -540
    },
    "id": "-fZQweulAsOL"
   },
   "outputs": [],
   "source": [
    "yes_no_index = []\n",
    "for i in range(len(dates_check)):\n",
    "  if dates_check[i] in dates_tobe :\n",
    "    yes_no_index.append(1)\n",
    "  else:\n",
    "    yes_no_index.append(0)"
   ]
  },
  {
   "cell_type": "code",
   "execution_count": 32,
   "id": "3604a306-45e3-4136-af3a-8d320349a9d9",
   "metadata": {
    "executionInfo": {
     "elapsed": 345,
     "status": "ok",
     "timestamp": 1667455857578,
     "user": {
      "displayName": "어흥범주",
      "userId": "10554293130336392046"
     },
     "user_tz": -540
    },
    "id": "ExEZo2V2B9TB"
   },
   "outputs": [],
   "source": [
    "rain['yes_no_index'] = yes_no_index"
   ]
  },
  {
   "cell_type": "code",
   "execution_count": 33,
   "id": "d58d7db3-e814-4d10-a774-d296fecfe50a",
   "metadata": {
    "executionInfo": {
     "elapsed": 2,
     "status": "ok",
     "timestamp": 1667456076499,
     "user": {
      "displayName": "어흥범주",
      "userId": "10554293130336392046"
     },
     "user_tz": -540
    },
    "id": "pQa6_f0yD16U"
   },
   "outputs": [],
   "source": [
    "rain_merging = rain[rain['yes_no_index'] == 1]\n",
    "del rain_merging['yes_no_index']\n",
    "rain_merging = rain_merging[['typhoon_yn', 'add', 'damage_conv', 'date', 'rain_yn']]"
   ]
  },
  {
   "cell_type": "code",
   "execution_count": 34,
   "id": "3d296871-56c4-4d00-a8ae-076ea988e4b2",
   "metadata": {
    "colab": {
     "base_uri": "https://localhost:8080/"
    },
    "executionInfo": {
     "elapsed": 305,
     "status": "ok",
     "timestamp": 1667456432681,
     "user": {
      "displayName": "어흥범주",
      "userId": "10554293130336392046"
     },
     "user_tz": -540
    },
    "id": "1TMHcvt3Gn7M",
    "outputId": "fcee08ba-7d9c-4dc2-fce5-36fe4f30101c"
   },
   "outputs": [
    {
     "name": "stderr",
     "output_type": "stream",
     "text": [
      "/opt/conda/lib/python3.7/site-packages/ipykernel_launcher.py:3: SettingWithCopyWarning: \n",
      "A value is trying to be set on a copy of a slice from a DataFrame\n",
      "\n",
      "See the caveats in the documentation: https://pandas.pydata.org/pandas-docs/stable/user_guide/indexing.html#returning-a-view-versus-a-copy\n",
      "  This is separate from the ipykernel package so we can avoid doing imports until\n"
     ]
    }
   ],
   "source": [
    "# rain_merging = rain_merging.rename(columns={'typoon' : 'typhoon_yn', '2021_damage' : 'damage_conv'})\n",
    "rain_merging['typhoon_yn'][rain_merging['typhoon_yn'] == '없음'] = 0\n",
    "rain_merging['typhoon_yn'][rain_merging['typhoon_yn'] != 0] = 1"
   ]
  },
  {
   "cell_type": "markdown",
   "id": "57f7cff4-4cc2-4b2c-b50a-b385c8158ab1",
   "metadata": {},
   "source": [
    "아무 문제 없는지 확인해보기"
   ]
  },
  {
   "cell_type": "code",
   "execution_count": 35,
   "id": "51e3e5b6-2816-473d-bc5c-db373e2014d7",
   "metadata": {
    "tags": []
   },
   "outputs": [
    {
     "name": "stderr",
     "output_type": "stream",
     "text": [
      "/opt/conda/lib/python3.7/site-packages/ipykernel_launcher.py:3: SettingWithCopyWarning: \n",
      "A value is trying to be set on a copy of a slice from a DataFrame\n",
      "\n",
      "See the caveats in the documentation: https://pandas.pydata.org/pandas-docs/stable/user_guide/indexing.html#returning-a-view-versus-a-copy\n",
      "  This is separate from the ipykernel package so we can avoid doing imports until\n",
      "/opt/conda/lib/python3.7/site-packages/ipykernel_launcher.py:4: SettingWithCopyWarning: \n",
      "A value is trying to be set on a copy of a slice from a DataFrame\n",
      "\n",
      "See the caveats in the documentation: https://pandas.pydata.org/pandas-docs/stable/user_guide/indexing.html#returning-a-view-versus-a-copy\n",
      "  after removing the cwd from sys.path.\n",
      "/opt/conda/lib/python3.7/site-packages/ipykernel_launcher.py:5: SettingWithCopyWarning: \n",
      "A value is trying to be set on a copy of a slice from a DataFrame\n",
      "\n",
      "See the caveats in the documentation: https://pandas.pydata.org/pandas-docs/stable/user_guide/indexing.html#returning-a-view-versus-a-copy\n",
      "  \"\"\"\n"
     ]
    }
   ],
   "source": [
    "# rain = pd.read_csv('../data/rain_ver5.csv')\n",
    "merged_fixing = pd.merge(all_merged, rain_merging, on = ['date', 'add'], how='outer')\n",
    "merged_fixing['typhoon_yn'][merged_fixing['typhoon_yn'].isna() == True] = 0\n",
    "merged_fixing['damage_conv'][merged_fixing['damage_conv'].isna() == True] = 0\n",
    "merged_fixing['rain_yn'][merged_fixing['rain_yn'].isna() == True] = 0"
   ]
  },
  {
   "cell_type": "code",
   "execution_count": 37,
   "id": "4cfcec8f-8646-4e5b-9789-9376974df327",
   "metadata": {},
   "outputs": [
    {
     "data": {
      "text/html": [
       "<div>\n",
       "<style scoped>\n",
       "    .dataframe tbody tr th:only-of-type {\n",
       "        vertical-align: middle;\n",
       "    }\n",
       "\n",
       "    .dataframe tbody tr th {\n",
       "        vertical-align: top;\n",
       "    }\n",
       "\n",
       "    .dataframe thead th {\n",
       "        text-align: right;\n",
       "    }\n",
       "</style>\n",
       "<table border=\"1\" class=\"dataframe\">\n",
       "  <thead>\n",
       "    <tr style=\"text-align: right;\">\n",
       "      <th></th>\n",
       "      <th>Unnamed: 0</th>\n",
       "      <th>date</th>\n",
       "      <th>add</th>\n",
       "      <th>ca</th>\n",
       "      <th>avg_ws</th>\n",
       "      <th>mix_ws</th>\n",
       "      <th>max_ws</th>\n",
       "      <th>max_ws_wd</th>\n",
       "      <th>max_wd</th>\n",
       "      <th>max_ins_ws</th>\n",
       "      <th>max_ins_ws_wd</th>\n",
       "      <th>mix_wd</th>\n",
       "      <th>avg_ta</th>\n",
       "      <th>sum_rn</th>\n",
       "      <th>typhoon_yn</th>\n",
       "      <th>damage_conv</th>\n",
       "      <th>rain_yn</th>\n",
       "    </tr>\n",
       "  </thead>\n",
       "  <tbody>\n",
       "    <tr>\n",
       "      <th>0</th>\n",
       "      <td>0</td>\n",
       "      <td>2012-01-01</td>\n",
       "      <td>강원</td>\n",
       "      <td>5.953846</td>\n",
       "      <td>1.80</td>\n",
       "      <td>1.30</td>\n",
       "      <td>5.100</td>\n",
       "      <td>258.50</td>\n",
       "      <td>247.50</td>\n",
       "      <td>9.00</td>\n",
       "      <td>272.800</td>\n",
       "      <td>263.90</td>\n",
       "      <td>-4.20</td>\n",
       "      <td>0.143678</td>\n",
       "      <td>0.0</td>\n",
       "      <td>0.0</td>\n",
       "      <td>0.0</td>\n",
       "    </tr>\n",
       "    <tr>\n",
       "      <th>1</th>\n",
       "      <td>1</td>\n",
       "      <td>2012-01-01</td>\n",
       "      <td>경기</td>\n",
       "      <td>4.880000</td>\n",
       "      <td>1.50</td>\n",
       "      <td>1.30</td>\n",
       "      <td>5.700</td>\n",
       "      <td>288.20</td>\n",
       "      <td>292.50</td>\n",
       "      <td>10.60</td>\n",
       "      <td>281.300</td>\n",
       "      <td>300.60</td>\n",
       "      <td>-3.70</td>\n",
       "      <td>0.018018</td>\n",
       "      <td>0.0</td>\n",
       "      <td>0.0</td>\n",
       "      <td>0.0</td>\n",
       "    </tr>\n",
       "    <tr>\n",
       "      <th>2</th>\n",
       "      <td>2</td>\n",
       "      <td>2012-01-01</td>\n",
       "      <td>경남</td>\n",
       "      <td>4.075000</td>\n",
       "      <td>2.10</td>\n",
       "      <td>1.55</td>\n",
       "      <td>6.600</td>\n",
       "      <td>295.10</td>\n",
       "      <td>270.00</td>\n",
       "      <td>11.30</td>\n",
       "      <td>295.300</td>\n",
       "      <td>292.50</td>\n",
       "      <td>0.05</td>\n",
       "      <td>0.055556</td>\n",
       "      <td>0.0</td>\n",
       "      <td>0.0</td>\n",
       "      <td>0.0</td>\n",
       "    </tr>\n",
       "    <tr>\n",
       "      <th>3</th>\n",
       "      <td>3</td>\n",
       "      <td>2012-01-01</td>\n",
       "      <td>경북</td>\n",
       "      <td>5.325000</td>\n",
       "      <td>2.40</td>\n",
       "      <td>2.00</td>\n",
       "      <td>6.700</td>\n",
       "      <td>302.45</td>\n",
       "      <td>292.50</td>\n",
       "      <td>11.30</td>\n",
       "      <td>293.500</td>\n",
       "      <td>294.45</td>\n",
       "      <td>-0.85</td>\n",
       "      <td>0.612500</td>\n",
       "      <td>0.0</td>\n",
       "      <td>0.0</td>\n",
       "      <td>0.0</td>\n",
       "    </tr>\n",
       "    <tr>\n",
       "      <th>4</th>\n",
       "      <td>4</td>\n",
       "      <td>2012-01-01</td>\n",
       "      <td>광주</td>\n",
       "      <td>8.300000</td>\n",
       "      <td>2.10</td>\n",
       "      <td>1.70</td>\n",
       "      <td>6.400</td>\n",
       "      <td>308.65</td>\n",
       "      <td>315.00</td>\n",
       "      <td>10.40</td>\n",
       "      <td>302.350</td>\n",
       "      <td>326.65</td>\n",
       "      <td>0.95</td>\n",
       "      <td>0.750000</td>\n",
       "      <td>0.0</td>\n",
       "      <td>0.0</td>\n",
       "      <td>0.0</td>\n",
       "    </tr>\n",
       "    <tr>\n",
       "      <th>...</th>\n",
       "      <td>...</td>\n",
       "      <td>...</td>\n",
       "      <td>...</td>\n",
       "      <td>...</td>\n",
       "      <td>...</td>\n",
       "      <td>...</td>\n",
       "      <td>...</td>\n",
       "      <td>...</td>\n",
       "      <td>...</td>\n",
       "      <td>...</td>\n",
       "      <td>...</td>\n",
       "      <td>...</td>\n",
       "      <td>...</td>\n",
       "      <td>...</td>\n",
       "      <td>...</td>\n",
       "      <td>...</td>\n",
       "      <td>...</td>\n",
       "    </tr>\n",
       "    <tr>\n",
       "      <th>67264</th>\n",
       "      <td>67264</td>\n",
       "      <td>2022-10-31</td>\n",
       "      <td>전남</td>\n",
       "      <td>2.784615</td>\n",
       "      <td>1.60</td>\n",
       "      <td>1.00</td>\n",
       "      <td>4.400</td>\n",
       "      <td>89.00</td>\n",
       "      <td>67.50</td>\n",
       "      <td>7.30</td>\n",
       "      <td>106.800</td>\n",
       "      <td>52.60</td>\n",
       "      <td>14.20</td>\n",
       "      <td>0.000000</td>\n",
       "      <td>0.0</td>\n",
       "      <td>0.0</td>\n",
       "      <td>0.0</td>\n",
       "    </tr>\n",
       "    <tr>\n",
       "      <th>67265</th>\n",
       "      <td>67265</td>\n",
       "      <td>2022-10-31</td>\n",
       "      <td>전북</td>\n",
       "      <td>3.620000</td>\n",
       "      <td>1.20</td>\n",
       "      <td>0.50</td>\n",
       "      <td>3.800</td>\n",
       "      <td>280.20</td>\n",
       "      <td>135.00</td>\n",
       "      <td>6.10</td>\n",
       "      <td>275.600</td>\n",
       "      <td>264.70</td>\n",
       "      <td>13.00</td>\n",
       "      <td>0.000000</td>\n",
       "      <td>0.0</td>\n",
       "      <td>0.0</td>\n",
       "      <td>0.0</td>\n",
       "    </tr>\n",
       "    <tr>\n",
       "      <th>67266</th>\n",
       "      <td>67266</td>\n",
       "      <td>2022-10-31</td>\n",
       "      <td>제주</td>\n",
       "      <td>3.325000</td>\n",
       "      <td>3.95</td>\n",
       "      <td>3.60</td>\n",
       "      <td>6.250</td>\n",
       "      <td>61.20</td>\n",
       "      <td>67.50</td>\n",
       "      <td>10.90</td>\n",
       "      <td>63.750</td>\n",
       "      <td>63.00</td>\n",
       "      <td>16.25</td>\n",
       "      <td>0.000000</td>\n",
       "      <td>0.0</td>\n",
       "      <td>0.0</td>\n",
       "      <td>0.0</td>\n",
       "    </tr>\n",
       "    <tr>\n",
       "      <th>67267</th>\n",
       "      <td>67267</td>\n",
       "      <td>2022-10-31</td>\n",
       "      <td>충남</td>\n",
       "      <td>4.471429</td>\n",
       "      <td>1.00</td>\n",
       "      <td>0.40</td>\n",
       "      <td>3.625</td>\n",
       "      <td>178.40</td>\n",
       "      <td>135.00</td>\n",
       "      <td>5.70</td>\n",
       "      <td>193.475</td>\n",
       "      <td>169.80</td>\n",
       "      <td>13.45</td>\n",
       "      <td>0.000000</td>\n",
       "      <td>0.0</td>\n",
       "      <td>0.0</td>\n",
       "      <td>0.0</td>\n",
       "    </tr>\n",
       "    <tr>\n",
       "      <th>67268</th>\n",
       "      <td>67268</td>\n",
       "      <td>2022-10-31</td>\n",
       "      <td>충북</td>\n",
       "      <td>4.620000</td>\n",
       "      <td>0.75</td>\n",
       "      <td>0.30</td>\n",
       "      <td>2.900</td>\n",
       "      <td>191.55</td>\n",
       "      <td>123.75</td>\n",
       "      <td>5.05</td>\n",
       "      <td>168.800</td>\n",
       "      <td>134.75</td>\n",
       "      <td>10.85</td>\n",
       "      <td>0.000000</td>\n",
       "      <td>0.0</td>\n",
       "      <td>0.0</td>\n",
       "      <td>0.0</td>\n",
       "    </tr>\n",
       "  </tbody>\n",
       "</table>\n",
       "<p>67269 rows × 17 columns</p>\n",
       "</div>"
      ],
      "text/plain": [
       "       Unnamed: 0       date add        ca  avg_ws  mix_ws  max_ws  max_ws_wd  \\\n",
       "0               0 2012-01-01  강원  5.953846    1.80    1.30   5.100     258.50   \n",
       "1               1 2012-01-01  경기  4.880000    1.50    1.30   5.700     288.20   \n",
       "2               2 2012-01-01  경남  4.075000    2.10    1.55   6.600     295.10   \n",
       "3               3 2012-01-01  경북  5.325000    2.40    2.00   6.700     302.45   \n",
       "4               4 2012-01-01  광주  8.300000    2.10    1.70   6.400     308.65   \n",
       "...           ...        ...  ..       ...     ...     ...     ...        ...   \n",
       "67264       67264 2022-10-31  전남  2.784615    1.60    1.00   4.400      89.00   \n",
       "67265       67265 2022-10-31  전북  3.620000    1.20    0.50   3.800     280.20   \n",
       "67266       67266 2022-10-31  제주  3.325000    3.95    3.60   6.250      61.20   \n",
       "67267       67267 2022-10-31  충남  4.471429    1.00    0.40   3.625     178.40   \n",
       "67268       67268 2022-10-31  충북  4.620000    0.75    0.30   2.900     191.55   \n",
       "\n",
       "       max_wd  max_ins_ws  max_ins_ws_wd  mix_wd  avg_ta    sum_rn  \\\n",
       "0      247.50        9.00        272.800  263.90   -4.20  0.143678   \n",
       "1      292.50       10.60        281.300  300.60   -3.70  0.018018   \n",
       "2      270.00       11.30        295.300  292.50    0.05  0.055556   \n",
       "3      292.50       11.30        293.500  294.45   -0.85  0.612500   \n",
       "4      315.00       10.40        302.350  326.65    0.95  0.750000   \n",
       "...       ...         ...            ...     ...     ...       ...   \n",
       "67264   67.50        7.30        106.800   52.60   14.20  0.000000   \n",
       "67265  135.00        6.10        275.600  264.70   13.00  0.000000   \n",
       "67266   67.50       10.90         63.750   63.00   16.25  0.000000   \n",
       "67267  135.00        5.70        193.475  169.80   13.45  0.000000   \n",
       "67268  123.75        5.05        168.800  134.75   10.85  0.000000   \n",
       "\n",
       "       typhoon_yn  damage_conv  rain_yn  \n",
       "0             0.0          0.0      0.0  \n",
       "1             0.0          0.0      0.0  \n",
       "2             0.0          0.0      0.0  \n",
       "3             0.0          0.0      0.0  \n",
       "4             0.0          0.0      0.0  \n",
       "...           ...          ...      ...  \n",
       "67264         0.0          0.0      0.0  \n",
       "67265         0.0          0.0      0.0  \n",
       "67266         0.0          0.0      0.0  \n",
       "67267         0.0          0.0      0.0  \n",
       "67268         0.0          0.0      0.0  \n",
       "\n",
       "[67269 rows x 17 columns]"
      ]
     },
     "execution_count": 37,
     "metadata": {},
     "output_type": "execute_result"
    }
   ],
   "source": [
    "merged_fixing"
   ]
  },
  {
   "cell_type": "code",
   "execution_count": 36,
   "id": "61b7148a-ae3d-4631-96ec-2b8e0c4f7a11",
   "metadata": {
    "tags": []
   },
   "outputs": [
    {
     "data": {
      "text/plain": [
       "Unnamed: 0       0\n",
       "date             0\n",
       "add              0\n",
       "ca               0\n",
       "avg_ws           0\n",
       "mix_ws           0\n",
       "max_ws           0\n",
       "max_ws_wd        0\n",
       "max_wd           0\n",
       "max_ins_ws       0\n",
       "max_ins_ws_wd    0\n",
       "mix_wd           0\n",
       "avg_ta           0\n",
       "sum_rn           0\n",
       "typhoon_yn       0\n",
       "damage_conv      0\n",
       "rain_yn          0\n",
       "dtype: int64"
      ]
     },
     "execution_count": 36,
     "metadata": {},
     "output_type": "execute_result"
    }
   ],
   "source": [
    "merged_fixing.isna().sum()"
   ]
  },
  {
   "cell_type": "code",
   "execution_count": 38,
   "id": "b949e70c-435e-43be-a3a1-2f0a64bae8ec",
   "metadata": {},
   "outputs": [],
   "source": [
    "merged_fixing.to_csv('../data/기상호우태풍병합데이터(찐찐최종).csv')\n",
    "merged_final = merged_fixing\n",
    "merged_final['rain_yn'] = merged_final['rain_yn'].astype(int)"
   ]
  },
  {
   "cell_type": "code",
   "execution_count": 39,
   "id": "1a4ec72d-3ee5-464e-a239-893fc6833158",
   "metadata": {},
   "outputs": [],
   "source": [
    "df_with_notyphoon = merged_final[merged_final['typhoon_yn']==0]\n",
    "df_with_rain = merged_final[merged_final['rain_yn']==1]\n",
    "\n",
    "del df_with_notyphoon['typhoon_yn']\n",
    "df_notyphoon_norain = df_with_notyphoon[df_with_notyphoon['rain_yn']==0]\n",
    "del df_notyphoon_norain['rain_yn']\n",
    "df_notyphoon_norain # 호우, 태풍 둘 다 없는 날\n",
    "\n",
    "df_notyphoon_yesrain = df_with_notyphoon[df_with_notyphoon['rain_yn']==1]\n",
    "del df_notyphoon_yesrain['rain_yn']\n",
    "df_notyphoon_yesrain # 호우는 내렸지만 태풍은 없던 날\n",
    "\n",
    "df_yesrain_yestyphoon = df_with_rain[df_with_rain['typhoon_yn'] == 1]\n",
    "del df_yesrain_yestyphoon['typhoon_yn']\n",
    "del df_yesrain_yestyphoon['rain_yn']\n",
    "df_yesrain_yestyphoon   # 호우랑 태풍 둘다 있었던 날. 정확하게는 태풍이 있어서 호우가 있었던 날\n",
    "\n",
    "df_notyphoon_norain.to_csv('../data/df_notyphoon_norain(찐찐최종).csv')\n",
    "df_notyphoon_yesrain.to_csv('../data/df_notyphoon_yesrain(찐찐최종).csv')\n",
    "df_yesrain_yestyphoon.to_csv('../data/df_yesrain_yestyphoon(찐찐최종).csv')\n",
    "\n"
   ]
  },
  {
   "cell_type": "code",
   "execution_count": null,
   "id": "d804c0ec-6f73-4774-9f2b-9d299d926f26",
   "metadata": {},
   "outputs": [],
   "source": []
  },
  {
   "cell_type": "code",
   "execution_count": null,
   "id": "eb058de3-f134-4306-ac9d-1776b087154b",
   "metadata": {},
   "outputs": [],
   "source": []
  },
  {
   "cell_type": "code",
   "execution_count": null,
   "id": "86cbfb14-1157-4688-acd3-f893645f988a",
   "metadata": {},
   "outputs": [],
   "source": []
  },
  {
   "cell_type": "code",
   "execution_count": null,
   "id": "83c57de9-467e-49c3-bc3f-5f85db559a01",
   "metadata": {},
   "outputs": [],
   "source": []
  },
  {
   "cell_type": "code",
   "execution_count": null,
   "id": "4f7225df-b74f-4e04-b338-d4e8d60facba",
   "metadata": {},
   "outputs": [],
   "source": []
  },
  {
   "cell_type": "code",
   "execution_count": null,
   "id": "f247ab8e-8e5d-49e7-9f8e-f3eeb0cee70c",
   "metadata": {},
   "outputs": [],
   "source": []
  },
  {
   "cell_type": "code",
   "execution_count": null,
   "id": "a9aeeb59-7320-4d05-a309-e92c2addeae9",
   "metadata": {},
   "outputs": [],
   "source": []
  },
  {
   "cell_type": "code",
   "execution_count": null,
   "id": "e56e9a6d-7008-437c-8919-a062f96f3a07",
   "metadata": {},
   "outputs": [],
   "source": []
  },
  {
   "cell_type": "code",
   "execution_count": null,
   "id": "84bc6a76-2955-47c1-a929-29062ae43138",
   "metadata": {},
   "outputs": [],
   "source": []
  },
  {
   "cell_type": "code",
   "execution_count": null,
   "id": "1b935888-1784-48a3-aef2-d7701a02683a",
   "metadata": {},
   "outputs": [],
   "source": []
  },
  {
   "cell_type": "code",
   "execution_count": null,
   "id": "90c510ec-379a-4865-a5e4-4d18e7cdb1f0",
   "metadata": {},
   "outputs": [],
   "source": []
  },
  {
   "cell_type": "code",
   "execution_count": null,
   "id": "a0dc6bf4-4fa0-4015-92cd-8664ddc8fac5",
   "metadata": {},
   "outputs": [],
   "source": []
  },
  {
   "cell_type": "markdown",
   "id": "5d0794bb-493b-4630-9dcc-c89cb4e6eaba",
   "metadata": {},
   "source": [
    "# ---------------------------------------------------------------------  \n",
    "수현이 회귀용"
   ]
  },
  {
   "cell_type": "code",
   "execution_count": 52,
   "id": "b90e7957-1060-4d2f-872e-53ac45d9c9b2",
   "metadata": {},
   "outputs": [],
   "source": [
    "all_merged = pd.read_csv('../data/기상데이터(찐최종).csv')\n",
    "all_merged['date'] = pd.to_datetime(all_merged['date'], format='%Y-%m-%d')"
   ]
  },
  {
   "cell_type": "code",
   "execution_count": 54,
   "id": "6f6473b8-f6cd-4be7-a287-f47595448049",
   "metadata": {
    "tags": []
   },
   "outputs": [],
   "source": [
    "rain = pd.read_csv('../data/rain_ver5.csv', index_col = 0)\n",
    "# rain"
   ]
  },
  {
   "cell_type": "code",
   "execution_count": 55,
   "id": "4985d357-b09d-41e0-9a3e-f0eaba6900cc",
   "metadata": {},
   "outputs": [],
   "source": [
    "rain = rain.rename(columns={'provin' : 'add'})\n",
    "rain = rain.rename(columns={'2021_damage' : 'damage_conv'})"
   ]
  },
  {
   "cell_type": "code",
   "execution_count": 56,
   "id": "92c8a371-de04-4008-9d9f-7316ab763494",
   "metadata": {
    "tags": []
   },
   "outputs": [],
   "source": [
    "rain['date'] = pd.to_datetime(rain[['year', 'month', 'day']])\n",
    "rain['date'] = pd.to_datetime(rain['date'], format='%Y-%m-%d')\n",
    "del rain['day']\n",
    "del rain['year']\n",
    "del rain['month']\n",
    "# rain"
   ]
  },
  {
   "cell_type": "code",
   "execution_count": 57,
   "id": "850e62c3-91dd-4190-a046-b7a7560ad9e4",
   "metadata": {
    "tags": []
   },
   "outputs": [],
   "source": [
    "rain = rain.rename(columns={'typoon_dum' : 'typhoon_yn'})\n",
    "rain['rain_yn'] = 1\n",
    "del rain['wet_area']\n",
    "del rain['total_rain']\n",
    "del rain['duration_day']\n",
    "del rain['typoon']\n",
    "del rain['duration_hour']\n",
    "del rain['max_rain']\n",
    "del rain['day_rain']\n",
    "del rain['cum_rain_2']\n",
    "del rain['cum_rain_3']\n",
    "del rain['max_wind']\n",
    "del rain['avg_temp']\n",
    "del rain['district']"
   ]
  },
  {
   "cell_type": "code",
   "execution_count": 58,
   "id": "33f142ea-21b7-45b9-b1a1-33dcaad26987",
   "metadata": {
    "executionInfo": {
     "elapsed": 321,
     "status": "ok",
     "timestamp": 1667455542801,
     "user": {
      "displayName": "어흥범주",
      "userId": "10554293130336392046"
     },
     "user_tz": -540
    },
    "id": "6V-eYHKb9abG"
   },
   "outputs": [],
   "source": [
    "dates_tobe = list(set(all_merged['date']))\n",
    "dates_check = list(rain['date'])"
   ]
  },
  {
   "cell_type": "code",
   "execution_count": 59,
   "id": "c157f65b-d265-4a35-bc27-9c335fb912fd",
   "metadata": {
    "executionInfo": {
     "elapsed": 1,
     "status": "ok",
     "timestamp": 1667455544157,
     "user": {
      "displayName": "어흥범주",
      "userId": "10554293130336392046"
     },
     "user_tz": -540
    },
    "id": "roxCaM1P_PKc"
   },
   "outputs": [],
   "source": [
    "for i in range(len(dates_tobe)):\n",
    "  dates_tobe[i] = str(dates_tobe[i])[0:10]\n",
    "\n",
    "for i in range(len(dates_check)):\n",
    "   dates_check[i] = str(dates_check[i])[0:10]"
   ]
  },
  {
   "cell_type": "code",
   "execution_count": 30,
   "id": "a4b0ac82-9ea7-47ec-a538-eb9648120d7a",
   "metadata": {
    "executionInfo": {
     "elapsed": 2,
     "status": "ok",
     "timestamp": 1667455545419,
     "user": {
      "displayName": "어흥범주",
      "userId": "10554293130336392046"
     },
     "user_tz": -540
    },
    "id": "E_9UHM1eAhab"
   },
   "outputs": [],
   "source": [
    "#rain_yn_l = pd.DataFrame({'rain_yn_l' : rain_yn_l})\n",
    "#our_dates = pd.DataFrame({'our_dates' : our_dates})"
   ]
  },
  {
   "cell_type": "code",
   "execution_count": 60,
   "id": "5d1b8265-3b76-468f-a905-fe996c764a4a",
   "metadata": {
    "executionInfo": {
     "elapsed": 1957,
     "status": "ok",
     "timestamp": 1667455554713,
     "user": {
      "displayName": "어흥범주",
      "userId": "10554293130336392046"
     },
     "user_tz": -540
    },
    "id": "-fZQweulAsOL"
   },
   "outputs": [],
   "source": [
    "yes_no_index = []\n",
    "for i in range(len(dates_check)):\n",
    "  if dates_check[i] in dates_tobe :\n",
    "    yes_no_index.append(1)\n",
    "  else:\n",
    "    yes_no_index.append(0)"
   ]
  },
  {
   "cell_type": "code",
   "execution_count": 61,
   "id": "a850e85d-3e42-4f39-a272-0fd98569ea0c",
   "metadata": {
    "executionInfo": {
     "elapsed": 345,
     "status": "ok",
     "timestamp": 1667455857578,
     "user": {
      "displayName": "어흥범주",
      "userId": "10554293130336392046"
     },
     "user_tz": -540
    },
    "id": "ExEZo2V2B9TB"
   },
   "outputs": [],
   "source": [
    "rain['yes_no_index'] = yes_no_index"
   ]
  },
  {
   "cell_type": "code",
   "execution_count": 62,
   "id": "db2dabee-98de-4bec-aa9b-3066454bd819",
   "metadata": {
    "executionInfo": {
     "elapsed": 2,
     "status": "ok",
     "timestamp": 1667456076499,
     "user": {
      "displayName": "어흥범주",
      "userId": "10554293130336392046"
     },
     "user_tz": -540
    },
    "id": "pQa6_f0yD16U"
   },
   "outputs": [],
   "source": [
    "rain_merging = rain[rain['yes_no_index'] == 1]\n",
    "del rain_merging['yes_no_index']\n",
    "rain_merging = rain_merging[['typhoon_yn', 'add', 'damage_conv', 'date', 'rain_yn']]"
   ]
  },
  {
   "cell_type": "code",
   "execution_count": 63,
   "id": "40b6830f-429f-4ea1-9936-b25a0c271786",
   "metadata": {
    "colab": {
     "base_uri": "https://localhost:8080/"
    },
    "executionInfo": {
     "elapsed": 305,
     "status": "ok",
     "timestamp": 1667456432681,
     "user": {
      "displayName": "어흥범주",
      "userId": "10554293130336392046"
     },
     "user_tz": -540
    },
    "id": "1TMHcvt3Gn7M",
    "outputId": "fcee08ba-7d9c-4dc2-fce5-36fe4f30101c"
   },
   "outputs": [
    {
     "name": "stderr",
     "output_type": "stream",
     "text": [
      "/opt/conda/lib/python3.7/site-packages/ipykernel_launcher.py:3: SettingWithCopyWarning: \n",
      "A value is trying to be set on a copy of a slice from a DataFrame\n",
      "\n",
      "See the caveats in the documentation: https://pandas.pydata.org/pandas-docs/stable/user_guide/indexing.html#returning-a-view-versus-a-copy\n",
      "  This is separate from the ipykernel package so we can avoid doing imports until\n"
     ]
    }
   ],
   "source": [
    "# rain_merging = rain_merging.rename(columns={'typoon' : 'typhoon_yn', '2021_damage' : 'damage_conv'})\n",
    "rain_merging['typhoon_yn'][rain_merging['typhoon_yn'] == '없음'] = 0\n",
    "rain_merging['typhoon_yn'][rain_merging['typhoon_yn'] != 0] = 1"
   ]
  },
  {
   "cell_type": "markdown",
   "id": "0862fa73-cdf1-402f-aa7d-fb2295d5f6e2",
   "metadata": {},
   "source": [
    "아무 문제 없는지 확인해보기"
   ]
  },
  {
   "cell_type": "code",
   "execution_count": 64,
   "id": "05041362-0766-48c8-868b-81f25ddb54d1",
   "metadata": {
    "tags": []
   },
   "outputs": [
    {
     "name": "stderr",
     "output_type": "stream",
     "text": [
      "/opt/conda/lib/python3.7/site-packages/ipykernel_launcher.py:3: SettingWithCopyWarning: \n",
      "A value is trying to be set on a copy of a slice from a DataFrame\n",
      "\n",
      "See the caveats in the documentation: https://pandas.pydata.org/pandas-docs/stable/user_guide/indexing.html#returning-a-view-versus-a-copy\n",
      "  This is separate from the ipykernel package so we can avoid doing imports until\n",
      "/opt/conda/lib/python3.7/site-packages/ipykernel_launcher.py:4: SettingWithCopyWarning: \n",
      "A value is trying to be set on a copy of a slice from a DataFrame\n",
      "\n",
      "See the caveats in the documentation: https://pandas.pydata.org/pandas-docs/stable/user_guide/indexing.html#returning-a-view-versus-a-copy\n",
      "  after removing the cwd from sys.path.\n",
      "/opt/conda/lib/python3.7/site-packages/ipykernel_launcher.py:5: SettingWithCopyWarning: \n",
      "A value is trying to be set on a copy of a slice from a DataFrame\n",
      "\n",
      "See the caveats in the documentation: https://pandas.pydata.org/pandas-docs/stable/user_guide/indexing.html#returning-a-view-versus-a-copy\n",
      "  \"\"\"\n"
     ]
    }
   ],
   "source": [
    "# rain = pd.read_csv('../data/rain_ver5.csv')\n",
    "merged_fixing = pd.merge(all_merged, rain_merging, on = ['date', 'add'], how='outer')\n",
    "merged_fixing['typhoon_yn'][merged_fixing['typhoon_yn'].isna() == True] = 0\n",
    "merged_fixing['damage_conv'][merged_fixing['damage_conv'].isna() == True] = 0\n",
    "merged_fixing['rain_yn'][merged_fixing['rain_yn'].isna() == True] = 0"
   ]
  },
  {
   "cell_type": "code",
   "execution_count": 66,
   "id": "283c088b-9d82-4a4f-91a7-f4b015493870",
   "metadata": {},
   "outputs": [],
   "source": [
    "merged_fixing.to_csv('../data/기상호우태풍병합데이터(수현용).csv')"
   ]
  },
  {
   "cell_type": "code",
   "execution_count": null,
   "id": "fa884fac-ea03-440b-8f5d-0cdb67b1f524",
   "metadata": {},
   "outputs": [],
   "source": []
  }
 ],
 "metadata": {
  "environment": {
   "kernel": "python3",
   "name": "r-cpu.4-1.m97",
   "type": "gcloud",
   "uri": "gcr.io/deeplearning-platform-release/r-cpu.4-1:m97"
  },
  "kernelspec": {
   "display_name": "Python 3",
   "language": "python",
   "name": "python3"
  },
  "language_info": {
   "codemirror_mode": {
    "name": "ipython",
    "version": 3
   },
   "file_extension": ".py",
   "mimetype": "text/x-python",
   "name": "python",
   "nbconvert_exporter": "python",
   "pygments_lexer": "ipython3",
   "version": "3.7.12"
  }
 },
 "nbformat": 4,
 "nbformat_minor": 5
}
