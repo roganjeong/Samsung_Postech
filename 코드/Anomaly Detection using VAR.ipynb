{
 "cells": [
  {
   "cell_type": "markdown",
   "id": "35585d5f-baaa-46c8-836f-ae9927d40625",
   "metadata": {},
   "source": [
    "# Anomaly Detection using VAR"
   ]
  },
  {
   "cell_type": "code",
   "execution_count": 2,
   "id": "81df2067-d77d-48ac-a139-b0325e830850",
   "metadata": {},
   "outputs": [
    {
     "name": "stderr",
     "output_type": "stream",
     "text": [
      "/opt/conda/lib/python3.7/site-packages/tqdm/auto.py:22: TqdmWarning: IProgress not found. Please update jupyter and ipywidgets. See https://ipywidgets.readthedocs.io/en/stable/user_install.html\n",
      "  from .autonotebook import tqdm as notebook_tqdm\n"
     ]
    }
   ],
   "source": [
    "# from google.colab import files\n",
    "# from google.colab import drive\n",
    "import os\n",
    "import io\n",
    "import pandas as pd\n",
    "import missingno as msno\n",
    "import seaborn as sns\n",
    "import matplotlib.pyplot as plt\n",
    "import scipy.stats as stats\n",
    "from scipy.stats import chisquare\n",
    "import numpy as np\n",
    "\n",
    "from datetime import datetime\n",
    "\n",
    "%matplotlib inline\n",
    "import seaborn as sns\n",
    "sns.set_style(\"darkgrid\")\n",
    "from sklearn.model_selection import train_test_split\n",
    "from sklearn.ensemble import IsolationForest\n",
    "from sklearn.metrics import f1_score\n",
    "\n",
    "import optuna\n",
    "from optuna import Trial\n",
    "from optuna.samplers import TPESampler\n",
    "\n",
    "from statsmodels.tsa.stattools import adfuller"
   ]
  },
  {
   "cell_type": "code",
   "execution_count": 3,
   "id": "b15ba98a-20ff-4a9b-81ab-6ebe6066a760",
   "metadata": {},
   "outputs": [],
   "source": [
    "train_Gangwon = pd.read_csv('../data/train_Gangwon.csv', index_col = 0)\n",
    "test_Gangwon = pd.read_csv('../data/test_Gangwon.csv', index_col = 0)\n",
    "train_Gangwon_y = pd.read_csv('../data/train_Gangwon_y.csv', index_col = 0)\n",
    "test_Gangwon_y = pd.read_csv('../data/test_Gangwon_y.csv', index_col = 0)\n",
    "\n",
    "train_Seoul = pd.read_csv('../data/train_Seoul.csv', index_col = 0)\n",
    "test_Seoul = pd.read_csv('../data/test_Seoul.csv', index_col = 0)\n",
    "train_Seoul_y = pd.read_csv('../data/train_Seoul_y.csv', index_col = 0)\n",
    "test_Seoul_y = pd.read_csv('../data/test_Seoul_y.csv', index_col = 0)\n",
    "\n",
    "train_Busan = pd.read_csv('../data/train_Busan.csv', index_col = 0)\n",
    "test_Busan = pd.read_csv('../data/test_Busan.csv', index_col = 0)\n",
    "train_Busan_y = pd.read_csv('../data/train_Busan_y.csv', index_col = 0)\n",
    "test_Busan_y = pd.read_csv('../data/test_Busan_y.csv', index_col = 0)"
   ]
  },
  {
   "cell_type": "code",
   "execution_count": 10,
   "id": "f27a4e3e-415c-4fb3-842d-15e8ce7aa202",
   "metadata": {},
   "outputs": [
    {
     "data": {
      "text/html": [
       "<div>\n",
       "<style scoped>\n",
       "    .dataframe tbody tr th:only-of-type {\n",
       "        vertical-align: middle;\n",
       "    }\n",
       "\n",
       "    .dataframe tbody tr th {\n",
       "        vertical-align: top;\n",
       "    }\n",
       "\n",
       "    .dataframe thead th {\n",
       "        text-align: right;\n",
       "    }\n",
       "</style>\n",
       "<table border=\"1\" class=\"dataframe\">\n",
       "  <thead>\n",
       "    <tr style=\"text-align: right;\">\n",
       "      <th></th>\n",
       "      <th>avg_ta</th>\n",
       "      <th>ca</th>\n",
       "      <th>sum_rn</th>\n",
       "      <th>comp_wd</th>\n",
       "      <th>comp_ws</th>\n",
       "    </tr>\n",
       "  </thead>\n",
       "  <tbody>\n",
       "    <tr>\n",
       "      <th>0</th>\n",
       "      <td>-1.400564</td>\n",
       "      <td>0.330668</td>\n",
       "      <td>-0.320777</td>\n",
       "      <td>-2.104921</td>\n",
       "      <td>-1.048927</td>\n",
       "    </tr>\n",
       "    <tr>\n",
       "      <th>17</th>\n",
       "      <td>-1.689726</td>\n",
       "      <td>-0.696407</td>\n",
       "      <td>-0.329270</td>\n",
       "      <td>-1.214750</td>\n",
       "      <td>1.378073</td>\n",
       "    </tr>\n",
       "    <tr>\n",
       "      <th>34</th>\n",
       "      <td>-1.622255</td>\n",
       "      <td>-0.035748</td>\n",
       "      <td>-0.330533</td>\n",
       "      <td>-1.914140</td>\n",
       "      <td>-0.810434</td>\n",
       "    </tr>\n",
       "    <tr>\n",
       "      <th>51</th>\n",
       "      <td>-1.805391</td>\n",
       "      <td>-1.154427</td>\n",
       "      <td>-0.335123</td>\n",
       "      <td>-1.837161</td>\n",
       "      <td>-1.248643</td>\n",
       "    </tr>\n",
       "    <tr>\n",
       "      <th>68</th>\n",
       "      <td>-1.969250</td>\n",
       "      <td>-1.741526</td>\n",
       "      <td>-0.334536</td>\n",
       "      <td>-1.244955</td>\n",
       "      <td>0.129552</td>\n",
       "    </tr>\n",
       "    <tr>\n",
       "      <th>...</th>\n",
       "      <td>...</td>\n",
       "      <td>...</td>\n",
       "      <td>...</td>\n",
       "      <td>...</td>\n",
       "      <td>...</td>\n",
       "    </tr>\n",
       "    <tr>\n",
       "      <th>62016</th>\n",
       "      <td>-1.959611</td>\n",
       "      <td>-1.137376</td>\n",
       "      <td>-0.333976</td>\n",
       "      <td>-1.273244</td>\n",
       "      <td>-1.693817</td>\n",
       "    </tr>\n",
       "    <tr>\n",
       "      <th>62033</th>\n",
       "      <td>-1.487313</td>\n",
       "      <td>-0.530350</td>\n",
       "      <td>-0.335123</td>\n",
       "      <td>-1.136252</td>\n",
       "      <td>0.617652</td>\n",
       "    </tr>\n",
       "    <tr>\n",
       "      <th>62050</th>\n",
       "      <td>-1.111402</td>\n",
       "      <td>0.338301</td>\n",
       "      <td>-0.318137</td>\n",
       "      <td>-1.472649</td>\n",
       "      <td>-2.664797</td>\n",
       "    </tr>\n",
       "    <tr>\n",
       "      <th>62067</th>\n",
       "      <td>-1.439119</td>\n",
       "      <td>-1.464731</td>\n",
       "      <td>-0.335123</td>\n",
       "      <td>-2.794641</td>\n",
       "      <td>-4.198421</td>\n",
       "    </tr>\n",
       "    <tr>\n",
       "      <th>62084</th>\n",
       "      <td>-1.815030</td>\n",
       "      <td>-1.768888</td>\n",
       "      <td>-0.335123</td>\n",
       "      <td>-2.559105</td>\n",
       "      <td>-1.688086</td>\n",
       "    </tr>\n",
       "  </tbody>\n",
       "</table>\n",
       "<p>3653 rows × 5 columns</p>\n",
       "</div>"
      ],
      "text/plain": [
       "         avg_ta        ca    sum_rn   comp_wd   comp_ws\n",
       "0     -1.400564  0.330668 -0.320777 -2.104921 -1.048927\n",
       "17    -1.689726 -0.696407 -0.329270 -1.214750  1.378073\n",
       "34    -1.622255 -0.035748 -0.330533 -1.914140 -0.810434\n",
       "51    -1.805391 -1.154427 -0.335123 -1.837161 -1.248643\n",
       "68    -1.969250 -1.741526 -0.334536 -1.244955  0.129552\n",
       "...         ...       ...       ...       ...       ...\n",
       "62016 -1.959611 -1.137376 -0.333976 -1.273244 -1.693817\n",
       "62033 -1.487313 -0.530350 -0.335123 -1.136252  0.617652\n",
       "62050 -1.111402  0.338301 -0.318137 -1.472649 -2.664797\n",
       "62067 -1.439119 -1.464731 -0.335123 -2.794641 -4.198421\n",
       "62084 -1.815030 -1.768888 -0.335123 -2.559105 -1.688086\n",
       "\n",
       "[3653 rows x 5 columns]"
      ]
     },
     "execution_count": 10,
     "metadata": {},
     "output_type": "execute_result"
    }
   ],
   "source": [
    "train_Gangwon"
   ]
  },
  {
   "cell_type": "code",
   "execution_count": 4,
   "id": "18a5f2ed-d063-45d2-b2b3-4c7924983cf6",
   "metadata": {},
   "outputs": [],
   "source": [
    "def test_stationarity(ts_data, column='', signif=0.05, series=False):\n",
    "    if series:\n",
    "        adf_test = adfuller(ts_data, autolag='AIC')\n",
    "    else:\n",
    "        adf_test = adfuller(ts_data[column], autolag='AIC')\n",
    "    p_value = adf_test[1]\n",
    "    if p_value <= signif:\n",
    "        test_result = \"Stationary\"\n",
    "    else:\n",
    "        test_result = \"Non-Stationary\"\n",
    "    return test_result"
   ]
  },
  {
   "cell_type": "markdown",
   "id": "cbe161e8-aeba-4aff-8d45-aea788856c8d",
   "metadata": {},
   "source": [
    "신뢰성 제로다 진짜...."
   ]
  },
  {
   "cell_type": "code",
   "execution_count": 16,
   "id": "5176d783-5d1d-461d-9b52-e05df7bed998",
   "metadata": {},
   "outputs": [
    {
     "data": {
      "text/plain": [
       "{'avg_ta': 'Stationary',\n",
       " 'ca': 'Stationary',\n",
       " 'sum_rn': 'Stationary',\n",
       " 'comp_wd': 'Stationary',\n",
       " 'comp_ws': 'Stationary'}"
      ]
     },
     "execution_count": 16,
     "metadata": {},
     "output_type": "execute_result"
    }
   ],
   "source": [
    "adf_test_results = {\n",
    "    col: test_stationarity(train_Gangwon, col)\n",
    "    for col in train_Gangwon.columns\n",
    "}\n",
    "adf_test_results"
   ]
  },
  {
   "cell_type": "code",
   "execution_count": 5,
   "id": "81a2b2a8-0c8e-48bd-97a7-8267f2f82f9e",
   "metadata": {},
   "outputs": [],
   "source": [
    "from statsmodels.tsa.api import VAR"
   ]
  },
  {
   "cell_type": "code",
   "execution_count": 18,
   "id": "92824a5d-16fb-401b-8a29-93e1d7cc8f83",
   "metadata": {},
   "outputs": [
    {
     "name": "stderr",
     "output_type": "stream",
     "text": [
      "/opt/conda/lib/python3.7/site-packages/statsmodels/tsa/base/tsa_model.py:471: ValueWarning: An unsupported index was provided and will be ignored when e.g. forecasting.\n",
      "  self._init_dates(dates, freq)\n"
     ]
    },
    {
     "name": "stdout",
     "output_type": "stream",
     "text": [
      "7\n"
     ]
    }
   ],
   "source": [
    "max_lag = 365\n",
    "var_model = VAR(train_Gangwon)\n",
    "# select the best lag order\n",
    "lag_results = var_model.select_order(max_lag)\n",
    "selected_lag = lag_results.aic\n",
    "print(selected_lag) # selected_lag = 13"
   ]
  },
  {
   "cell_type": "code",
   "execution_count": 7,
   "id": "19bc5d2e-0d6a-4d18-bffa-f6c19b5a5f7a",
   "metadata": {},
   "outputs": [
    {
     "name": "stderr",
     "output_type": "stream",
     "text": [
      "/opt/conda/lib/python3.7/site-packages/statsmodels/tsa/base/tsa_model.py:471: ValueWarning: An unsupported index was provided and will be ignored when e.g. forecasting.\n",
      "  self._init_dates(dates, freq)\n"
     ]
    }
   ],
   "source": [
    "selected_lag = 7\n",
    "def find_anomalies(squared_errors):\n",
    "    threshold = np.mean(squared_errors) + np.std(squared_errors)\n",
    "    predictions = (squared_errors >= threshold).astype(int)\n",
    "    return predictions, threshold\n",
    "var = VAR(test_Gangwon)\n",
    "var_fitresults = var.fit(selected_lag)\n",
    "squared_errors = var_fitresults.resid.sum(axis=1) ** 2\n",
    "predictions, threshold = find_anomalies(squared_errors) # threshold = 7593.829254818655"
   ]
  },
  {
   "cell_type": "code",
   "execution_count": 9,
   "id": "be9edcf9-2d45-49a1-8811-3df6029d4295",
   "metadata": {},
   "outputs": [
    {
     "data": {
      "text/plain": [
       "18.708409658490755"
      ]
     },
     "execution_count": 9,
     "metadata": {},
     "output_type": "execute_result"
    }
   ],
   "source": [
    "threshold"
   ]
  },
  {
   "cell_type": "code",
   "execution_count": 19,
   "id": "2121ade9-ac75-4fce-a6bd-66c0e7fd8fa6",
   "metadata": {},
   "outputs": [],
   "source": [
    "prediction = pd.concat([pd.DataFrame([0,0,0,0,0,0,0]),predictions], axis = 0)"
   ]
  },
  {
   "cell_type": "code",
   "execution_count": 20,
   "id": "9b075641-7dc8-45b8-ab7a-23c5159458c1",
   "metadata": {},
   "outputs": [
    {
     "name": "stdout",
     "output_type": "stream",
     "text": [
      "f1 score : 0.875\n"
     ]
    }
   ],
   "source": [
    "from sklearn.metrics import f1_score\n",
    "\n",
    "f1 = f1_score(test_Gangwon_y, prediction,average='micro')\n",
    "print('f1 score :', f1)"
   ]
  },
  {
   "cell_type": "code",
   "execution_count": 15,
   "id": "c2fd4af5-3fc0-4625-b907-e8dafa215732",
   "metadata": {},
   "outputs": [
    {
     "data": {
      "text/plain": [
       "pandas.core.series.Series"
      ]
     },
     "execution_count": 15,
     "metadata": {},
     "output_type": "execute_result"
    }
   ],
   "source": [
    "type(predictions)"
   ]
  },
  {
   "cell_type": "code",
   "execution_count": 1,
   "id": "6ac600ce-24ab-425e-b989-bb9266e3c8e9",
   "metadata": {},
   "outputs": [
    {
     "data": {
      "text/plain": [
       "119"
      ]
     },
     "execution_count": 1,
     "metadata": {},
     "output_type": "execute_result"
    }
   ],
   "source": [
    "17*7"
   ]
  },
  {
   "cell_type": "code",
   "execution_count": null,
   "id": "4ab3040e-29ce-4ed1-b00a-55c0880828dd",
   "metadata": {},
   "outputs": [],
   "source": []
  }
 ],
 "metadata": {
  "environment": {
   "kernel": "python3",
   "name": "r-cpu.4-1.m97",
   "type": "gcloud",
   "uri": "gcr.io/deeplearning-platform-release/r-cpu.4-1:m97"
  },
  "kernelspec": {
   "display_name": "Python 3",
   "language": "python",
   "name": "python3"
  },
  "language_info": {
   "codemirror_mode": {
    "name": "ipython",
    "version": 3
   },
   "file_extension": ".py",
   "mimetype": "text/x-python",
   "name": "python",
   "nbconvert_exporter": "python",
   "pygments_lexer": "ipython3",
   "version": "3.7.12"
  }
 },
 "nbformat": 4,
 "nbformat_minor": 5
}
